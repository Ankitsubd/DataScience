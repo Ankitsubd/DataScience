{
 "cells": [
  {
   "cell_type": "markdown",
   "metadata": {},
   "source": [
    "### Question : Check for Palindrome\n",
    "Write a Python program using a lambda function to check if a given string is a palindrome.\n",
    "\n",
    "Example:\n",
    "\n",
    "Input: `\"level\"`\n",
    "\n",
    "Output: `True`"
   ]
  },
  {
   "cell_type": "code",
   "execution_count": 1,
   "metadata": {},
   "outputs": [
    {
     "name": "stdin",
     "output_type": "stream",
     "text": [
      "Input Word to check palindrome:  level\n"
     ]
    },
    {
     "name": "stdout",
     "output_type": "stream",
     "text": [
      "True\n"
     ]
    }
   ],
   "source": [
    "# Your Solution Here\n",
    "# def check(palindrome):\n",
    "#     ans = palindrome[::-1]\n",
    "#     return ans\n",
    "\n",
    "word = input(\"Input Word to check palindrome: \")\n",
    "result = lambda palin: True if palin == palin[::-1] else False\n",
    "\n",
    "print(result(word))"
   ]
  },
  {
   "cell_type": "markdown",
   "metadata": {},
   "source": [
    "### Question: \n",
    "Write a Python program to check whether a given number is an Armstrong number or not.\n",
    "\n",
    "**Definition:**\n",
    "An **Armstrong number** (also known as a **narcissistic number**) is a number that is equal to the sum of its own digits each raised to the power of the number of digits. For example:\n",
    "- 153 is an Armstrong number because \\( 1^3 + 5^3 + 3^3 = 153 \\).\n",
    "- 9474 is an Armstrong number because \\( 9^4 + 4^4 + 7^4 + 4^4 = 9474 \\).\n",
    "\n",
    "**Input:**  \n",
    "An integer (e.g., 153).\n",
    "\n",
    "**Output:**  \n",
    "Output \"Yes, it's an Armstrong number.\" if the number is an Armstrong number. Otherwise, output \"No, it's not an Armstrong number.\"\n",
    "\n",
    "**Constraints:**  \n",
    "- The input should be a positive integer.  \n"
   ]
  },
  {
   "cell_type": "code",
   "execution_count": 2,
   "metadata": {},
   "outputs": [
    {
     "name": "stdin",
     "output_type": "stream",
     "text": [
      "Input the integer number to check Armstrong Number:  9474\n"
     ]
    },
    {
     "name": "stdout",
     "output_type": "stream",
     "text": [
      "Yes\n"
     ]
    }
   ],
   "source": [
    "# Your Solution Here\n",
    "number = input(\"Input the integer number to check Armstrong Number: \")\n",
    "length = len(number)\n",
    "sum = 0\n",
    "for num in number:\n",
    "    sum += (int(num)**length)\n",
    "if sum == int(number):\n",
    "    print(\"Yes\")\n",
    "else:\n",
    "    print(\"No\")"
   ]
  },
  {
   "cell_type": "markdown",
   "metadata": {},
   "source": [
    "### Question: File Read and Write\n",
    "**Write a Program that Uses Functions `write_to_file` and `read_from_file`**:\n",
    "- `write_to_file(filename, content)`: Writes `content` to a file named `filename`. If the file doesn't exist, it should be created.\n",
    "- `read_from_file(filename)`: Reads and prints the content of a file named `filename`.\n",
    "Call `write_to_file` to write \"Hello, Python!\" to a file named \"greetings.txt\", then call `read_from_file` to read and print the content of this file."
   ]
  },
  {
   "cell_type": "code",
   "execution_count": 3,
   "metadata": {},
   "outputs": [],
   "source": [
    "# Your Solution Here\n",
    "def write_to_file(filename, content):\n",
    "    with open(filename, \"w\") as file:\n",
    "        file.write(content)\n",
    "\n",
    "def read_from_file(filename):\n",
    "        with open(filename, \"r\") as file:\n",
    "            content = file.read()\n",
    "            print(content)"
   ]
  },
  {
   "cell_type": "code",
   "execution_count": 4,
   "metadata": {},
   "outputs": [
    {
     "name": "stdout",
     "output_type": "stream",
     "text": [
      "Hello, Python!!\n"
     ]
    }
   ],
   "source": [
    "# Your Solution Here\n",
    "filename = \"greetings.txt\"\n",
    "content = \"Hello, Python!!\"\n",
    "\n",
    "write_to_file(filename, content)\n",
    "read_from_file(filename)"
   ]
  },
  {
   "cell_type": "markdown",
   "metadata": {},
   "source": [
    "### Scenario:\n",
    "\n",
    "You are tasked with designing a system for a **vehicle rental company**. The company rents out various types of vehicles like **Cars** and **Bikes**, and each vehicle has some shared characteristics but also some distinct ones. \n",
    "\n",
    "### Requirements:\n",
    "1. Each **Vehicle** has attributes such as:\n",
    "   - `vehicle_id`: A unique identifier for the vehicle.\n",
    "   - `brand`: The brand of the vehicle.\n",
    "   - `rental_price`: Price per day to rent the vehicle.\n",
    "\n",
    "2. Both **Car** and **Bike** are types of **Vehicles**.  \n",
    "   - A **Car** has an additional attribute: `number_of_doors`.  \n",
    "   - A **Bike** has an additional attribute: `bike_type` (e.g., mountain bike, racing bike).\n",
    "\n",
    "3. You should provide methods to:\n",
    "   - **Calculate total rental cost**: Given the number of rental days, calculate the total cost for any vehicle.\n",
    "   - **Display vehicle details**: For both cars and bikes, display details including the unique attributes (e.g., `number_of_doors` for cars, `bike_type` for bikes).\n",
    "\n",
    "4. Implement the following OOP concepts:\n",
    "   - **Abstraction**: Provide a clean interface for calculating the total rental cost and displaying vehicle details, hiding the internal logic.\n",
    "   - **Inheritance**: Both **Car** and **Bike** should inherit common functionality from the **Vehicle** class.\n",
    "   - **Polymorphism**: Use method overriding so that the method for displaying vehicle details works differently for cars and bikes.\n",
    "\n",
    "---\n",
    "\n",
    "### Task:\n",
    "\n",
    "1. **Define a `Vehicle` base class** that implements the common attributes and methods.\n",
    "2. **Define two subclasses `Car` and `Bike`** that inherit from `Vehicle` and implement their specific attributes.\n",
    "3. Use encapsulation by making attributes private and providing public methods to interact with them.\n",
    "4. Use polymorphism to create a `display_details` method that behaves differently for `Car` and `Bike`.\n"
   ]
  },
  {
   "cell_type": "code",
   "execution_count": 1,
   "metadata": {},
   "outputs": [
    {
     "name": "stdout",
     "output_type": "stream",
     "text": [
      "Car Details:\n",
      "Vechile Id: 1 \n",
      "Brand: Toyota \n",
      "Rental Price: 50.0, Number of Door: 4\n",
      "\n",
      "Bike Details:\n",
      "Vechile Id: 2 \n",
      "Brand: Yamaha \n",
      "Rental Price: 20.0,\n",
      "Bike Type: Mountain Bike\n",
      "\n",
      "Car Rental Cost for 5 days: $250.0\n",
      "Bike Rental Cost for 3 days: $60.0\n"
     ]
    }
   ],
   "source": [
    "# Your Solution Here\n",
    "\n",
    "\n",
    "\n",
    "class Vehicle:\n",
    "    def __init__(self, vehicle_id: int, brand: str, rental_price: float):\n",
    "        self._vehicle_id = vehicle_id\n",
    "        self._brand = brand\n",
    "        self._rental_price = rental_price\n",
    "\n",
    "    def total_rental_cost(self, day):\n",
    "        return day * self._rental_price\n",
    "\n",
    "\n",
    "class Car(Vehicle):\n",
    "    def __init__(self, vehicle_id: int, brand: str, rental_price: float, number_of_doors: int):\n",
    "        super().__init__(vehicle_id, brand, rental_price)\n",
    "        self._number_of_doors = number_of_doors\n",
    "\n",
    "    def display_details(self):\n",
    "        return (f\"Vechile Id: {self._vehicle_id} \\nBrand: {self._brand} \\nRental Price: {self._rental_price},\"\n",
    "                f\" Number of Door: {self._number_of_doors}\")\n",
    "\n",
    "\n",
    "class Bike(Vehicle):\n",
    "    def __init__(self, vehicle_id: int, brand: str, rental_price: float, bike_type: str):\n",
    "        super().__init__(vehicle_id, brand, rental_price)\n",
    "        self._bike_type = bike_type\n",
    "\n",
    "    def display_details(self):\n",
    "        return (f\"Vechile Id: {self._vehicle_id} \\nBrand: {self._brand} \\nRental Price: {self._rental_price},\\n\"\n",
    "                f\"Bike Type: {self._bike_type}\")\n",
    "\n",
    "\n",
    "car = Car(vehicle_id=1, brand=\"Toyota\", rental_price=50.0, number_of_doors=4)\n",
    "bike = Bike(vehicle_id=2, brand=\"Yamaha\", rental_price=20.0, bike_type=\"Mountain Bike\")\n",
    "print(\"Car Details:\")\n",
    "print(car.display_details())\n",
    "print(\"\\nBike Details:\")\n",
    "print(bike.display_details())\n",
    "car_days = 5\n",
    "bike_days = 3\n",
    "print(f\"\\nCar Rental Cost for {car_days} days: ${car.total_rental_cost(car_days)}\")\n",
    "print(f\"Bike Rental Cost for {bike_days} days: ${bike.total_rental_cost(bike_days)}\")\n"
   ]
  },
  {
   "cell_type": "code",
   "execution_count": null,
   "metadata": {},
   "outputs": [],
   "source": []
  }
 ],
 "metadata": {
  "kernelspec": {
   "display_name": "Python 3 (ipykernel)",
   "language": "python",
   "name": "python3"
  },
  "language_info": {
   "codemirror_mode": {
    "name": "ipython",
    "version": 3
   },
   "file_extension": ".py",
   "mimetype": "text/x-python",
   "name": "python",
   "nbconvert_exporter": "python",
   "pygments_lexer": "ipython3",
   "version": "3.11.10"
  }
 },
 "nbformat": 4,
 "nbformat_minor": 4
}

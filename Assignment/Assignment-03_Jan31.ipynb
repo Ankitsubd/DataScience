{
 "cells": [
  {
   "cell_type": "markdown",
   "id": "7e76d9b4",
   "metadata": {},
   "source": [
    "# Problem Statement\n",
    "\n",
    "We want to build an online shopping cart system that allows users to add products to their cart, calculate the total cost, apply discounts, and generate an invoice. The system should include the following functionalities:\n",
    "\n",
    "- Adding products to the cart\n",
    "- Removing products from the cart\n",
    "- Calculating the total cost\n",
    "- Applying discounts based on user type\n",
    "- Generating an invoice\n",
    "\n",
    "### 1. Create the Product class\n",
    "\n",
    "We create a basic `Product` class with attributes for the product name and price."
   ]
  },
  {
   "cell_type": "code",
   "execution_count": 6,
   "id": "a286f01a",
   "metadata": {},
   "outputs": [],
   "source": [
    "class Product:\n",
    "    \"\"\"\n",
    "    Product Name: str\n",
    "    Product Price: float\n",
    "    \"\"\"\n",
    "    def __init__(self, name, price):\n",
    "        self.name = name\n",
    "        self.price = price"
   ]
  },
  {
   "cell_type": "markdown",
   "id": "0c9aa397",
   "metadata": {},
   "source": [
    "### 2.  Implement the User class\n",
    "\n",
    "In this step, we create a `User` class with attributes for the user's name and whether they are a premium member. We then modify the `calculate_total_cost` method in the `ShoppingCart` class to apply a `10%` discount for premium users."
   ]
  },
  {
   "cell_type": "code",
   "execution_count": 7,
   "id": "3393e953",
   "metadata": {},
   "outputs": [],
   "source": [
    "class User:\n",
    "    def __init__(self, u_name, premium_member= False):\n",
    "        \"\"\"\n",
    "        User Name: str\n",
    "        Premium Member: True or False\n",
    "        \"\"\"\n",
    "        self.u_name = u_name\n",
    "        self.premium_member = premium_member"
   ]
  },
  {
   "cell_type": "markdown",
   "id": "3b7e070b",
   "metadata": {},
   "source": [
    "### 3. Create the ShoppingCart class\n",
    "\n",
    "In this step, we create a `ShoppingCart` class with methods for adding and removing products from the cart, as well as calculating the total cost of the items in the cart."
   ]
  },
  {
   "cell_type": "code",
   "execution_count": 9,
   "id": "c0b5196d",
   "metadata": {},
   "outputs": [],
   "source": [
    "class ShoppingCart:\n",
    "    \"\"\"\n",
    "    1. add product\n",
    "    2. remove product\n",
    "    3. calculate total cost\n",
    "    \"\"\"\n",
    "    def __init__(self):\n",
    "        self.products = [] \n",
    "\n",
    "    def add_product(self, product: str):\n",
    "        \"\"\"\n",
    "        Add product to the Cart\n",
    "        \"\"\"\n",
    "        self.products.append(product)\n",
    "\n",
    "    def remove_products(self, product_name: str):\n",
    "        \"\"\"\n",
    "        Remove product from the Cart\n",
    "        \"\"\"\n",
    "        if product_name in self.products:\n",
    "            self.products.remove(product_name)\n",
    "        \n",
    "\n",
    "    def calculate_total_cost(self, discount_10_percent = False):\n",
    "        \"\"\"\n",
    "        Calculate the total cost of all products from the cart. And if you are a Premium member, you get a discount.\n",
    "        \"\"\"\n",
    "        total = sum(item.price for item in self.products)\n",
    "\n",
    "        if discount_10_percent:\n",
    "            discount_amount = total * 0.1\n",
    "            total_rate = total - discount_amount\n",
    "            return total_rate\n",
    "        else:\n",
    "            return total\n",
    "        \n",
    "\n",
    "        "
   ]
  },
  {
   "cell_type": "markdown",
   "id": "da1f3494",
   "metadata": {},
   "source": [
    "Here, we defined a decorator `discount_10_percent` that applies a `10%` discount to the total cost. We then apply this decorator to the `calculate_total_cost` method in the `ShoppingCart` class."
   ]
  },
  {
   "cell_type": "code",
   "execution_count": null,
   "id": "70bbec8d",
   "metadata": {},
   "outputs": [],
   "source": []
  },
  {
   "cell_type": "markdown",
   "id": "afc26053",
   "metadata": {},
   "source": [
    "### 4. Testing the functionality\n",
    "\n",
    "Now that we have implemented the necessary classes and methods, let's test our online shopping cart system:"
   ]
  },
  {
   "cell_type": "code",
   "execution_count": 10,
   "id": "6186bdcb",
   "metadata": {},
   "outputs": [
    {
     "name": "stdout",
     "output_type": "stream",
     "text": [
      "Total cost without discount: $300000\n",
      "Total cost with 10% discount for Ankit Subedi: $270000.0\n"
     ]
    }
   ],
   "source": [
    "        \n",
    "#Product \n",
    "product1 = Product(\"Laptop\", 200000)\n",
    "product2 = Product(\"Mobile\", 24000)\n",
    "product3 = Product(\"PS5\", 76000)\n",
    "#User name\n",
    "user1 = User(\"Ankit Subedi\", True)\n",
    "\n",
    "cart = ShoppingCart()\n",
    "cart.add_product(product1)\n",
    "cart.add_product(product2)\n",
    "cart.add_product(product3)\n",
    "\n",
    "\n",
    "print(f\"Total cost without discount: ${cart.calculate_total_cost()}\")\n",
    "if user1.premium_member:\n",
    "    print(f\"Total cost with 10% discount for {user1.u_name}: ${cart.calculate_total_cost(discount_10_percent=user1.premium_member)}\")\n",
    "\n",
    "\n"
   ]
  },
  {
   "cell_type": "markdown",
   "id": "7ea7c96e",
   "metadata": {},
   "source": [
    "### 5. Generating Invoice for a given cart"
   ]
  },
  {
   "cell_type": "code",
   "execution_count": 11,
   "id": "3c12ae69",
   "metadata": {
    "scrolled": true
   },
   "outputs": [
    {
     "name": "stdout",
     "output_type": "stream",
     "text": [
      "= = = = = = = = = = = = = = = = = = = = = = = = = \n",
      "Name      : Ankit Subedi\n",
      "Invoice   : 01\n",
      "Date      : 2025-02-03\n",
      "= = = = = = = = = = = = = = = = = = = = = = = = = \n",
      "1. Laptop                      : 200000\n",
      "2. Mobile                      : 24000\n",
      "3. PS5                         : 76000\n",
      "\n",
      "\n",
      "= = = = = = = = = = = = = = = = = = = = = = = = = \n",
      "\n",
      "\n",
      "Discount for Member            : 10%\n",
      "Total cost without discount    : $300000\n",
      "Total cost with 10% discount   : $270000.0\n",
      "\n",
      "\n",
      "= = = = = = = = = = = = = = = = = = = = = = = = = \n"
     ]
    }
   ],
   "source": [
    "import datetime\n",
    "## Invoice\n",
    "print(\"= \"*25)\n",
    "print(f\"Name{' '.ljust(5)} : {user1.u_name}\")\n",
    "print(f\"Invoice{' '.ljust(2)} : 01\")\n",
    "print(f\"Date{' '.ljust(5)} : {datetime.date.today()}\")\n",
    "print(\"= \"*25)\n",
    "# lsit of product in loop\n",
    "for i, list in enumerate(cart.products):\n",
    "    print(f\"{i+1}. {list.name.ljust(25)}   : {list.price}\")\n",
    "\n",
    "print(\"\\n\")\n",
    "print(\"= \"*25)\n",
    "print(\"\\n\")\n",
    "print(f\"Discount for Member{''.ljust(12)}: 10%\")\n",
    "print(f\"Total cost without discount{''.ljust(4)}: ${cart.calculate_total_cost()}\")\n",
    "if user1.premium_member:\n",
    "    print(f\"Total cost with 10% discount{''.ljust(2)} : ${cart.calculate_total_cost(discount_10_percent=user1.premium_member)}\")\n",
    "print(\"\\n\")\n",
    "print(\"= \"* 25)\n",
    "\n"
   ]
  },
  {
   "cell_type": "markdown",
   "id": "b602d561-09a8-4086-9295-dce1e8dacb71",
   "metadata": {},
   "source": [
    "### 6. Bonus Challenge"
   ]
  },
  {
   "cell_type": "markdown",
   "id": "cd2cf83b",
   "metadata": {},
   "source": [
    "In this case each user share the same cart, which is useless. Also each user can register himself/herself as a premium user, which is not practical again. So, you have to add following two additional features to the above program, to make it more real:\n",
    "\n",
    "1. Cart for a user should be independent from other users\n",
    "2. Add a new admin feature `is_admin` that takes in boolean values `[True, False]`, and only admin should be allowed to create other admins and set `is_premium=True` for other users"
   ]
  },
  {
   "cell_type": "code",
   "execution_count": null,
   "id": "59e0bc19-36f6-4f4f-9d96-994e0dc19b59",
   "metadata": {},
   "outputs": [],
   "source": []
  }
 ],
 "metadata": {
  "kernelspec": {
   "display_name": "Python 3 (ipykernel)",
   "language": "python",
   "name": "python3"
  },
  "language_info": {
   "codemirror_mode": {
    "name": "ipython",
    "version": 3
   },
   "file_extension": ".py",
   "mimetype": "text/x-python",
   "name": "python",
   "nbconvert_exporter": "python",
   "pygments_lexer": "ipython3",
   "version": "3.11.10"
  }
 },
 "nbformat": 4,
 "nbformat_minor": 5
}

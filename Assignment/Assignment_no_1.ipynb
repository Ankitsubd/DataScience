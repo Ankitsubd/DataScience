{
 "cells": [
  {
   "cell_type": "markdown",
   "id": "2b72c5ba-404f-42cd-abe7-12125da00c91",
   "metadata": {},
   "source": [
    "# Assignment \n",
    "\n",
    "### Task Instructions:\n",
    "\n",
    "#### Personal Information\n",
    "Create a variable name (str) to store the user's name.\n",
    "Create a variable age (int) to store the user's age.\n",
    "Print a greeting message using these variables, e.g., `\"Hello, my name is Alice and I am 30 years old.\"`\n"
   ]
  },
  {
   "cell_type": "code",
   "execution_count": 1,
   "id": "b5c1fd21-d909-43e7-8f1f-c807e7faf9e0",
   "metadata": {},
   "outputs": [
    {
     "name": "stdin",
     "output_type": "stream",
     "text": [
      "Name:  Ankit\n",
      "Age:  23\n"
     ]
    },
    {
     "name": "stdout",
     "output_type": "stream",
     "text": [
      "Hello, I'm Ankit and I am 23 years old\n"
     ]
    }
   ],
   "source": [
    "name = input(\"Name: \")\n",
    "age = int(input(\"Age: \"))\n",
    "print(f\"Hello, I'm {name} and I am {age} years old\")"
   ]
  },
  {
   "cell_type": "markdown",
   "id": "691f07e8-4031-4ad9-864b-8ab4c38ad685",
   "metadata": {},
   "source": [
    "#### Favorite Hobbies\n",
    "Create a list favorite_hobbies containing at least three hobbies as strings.\n",
    "Add another hobby to this list and print the updated list."
   ]
  },
  {
   "cell_type": "code",
   "execution_count": 2,
   "id": "7d00f52a-0e16-43c8-a755-b1fe3fcf31eb",
   "metadata": {},
   "outputs": [
    {
     "name": "stdout",
     "output_type": "stream",
     "text": [
      "['Football', 'learning', 'Playing mobile Games']\n"
     ]
    }
   ],
   "source": [
    "favorite_hobbies = [\"Football\", \"learning\", \"Playing mobile Games\"]\n",
    "print(favorite_hobbies)\n"
   ]
  },
  {
   "cell_type": "code",
   "execution_count": 3,
   "id": "44ac82ab-41a6-459b-aa48-7cfcca4cba84",
   "metadata": {},
   "outputs": [
    {
     "name": "stdout",
     "output_type": "stream",
     "text": [
      "['Football', 'learning', 'Playing mobile Games', 'Programming']\n"
     ]
    }
   ],
   "source": [
    "favorite_hobbies.append(\"Programming\")\n",
    "print(favorite_hobbies)"
   ]
  },
  {
   "cell_type": "markdown",
   "id": "d9c12921-2a07-4e06-aad8-c7501091245f",
   "metadata": {},
   "source": [
    "#### Screen Dimensions\n",
    "Define a tuple screen_dimensions with two integers representing the width and height of the user's preferred screen size for the app.\n",
    "Attempt to modify one of the values in the tuple to simulate an attempt to change screen preferences and comment on the outcome."
   ]
  },
  {
   "cell_type": "code",
   "execution_count": 4,
   "id": "eadeab5c-c0f7-439c-8271-5e5ba62b60f3",
   "metadata": {},
   "outputs": [
    {
     "name": "stdout",
     "output_type": "stream",
     "text": [
      "What is your preferred screen size?\n"
     ]
    },
    {
     "name": "stdin",
     "output_type": "stream",
     "text": [
      "Width:  4\n",
      "Height:  5\n"
     ]
    },
    {
     "name": "stdout",
     "output_type": "stream",
     "text": [
      "(4.0, 5.0)\n"
     ]
    }
   ],
   "source": [
    "print(\"What is your preferred screen size?\")\n",
    "width = float(input(\"Width: \"))\n",
    "height = float(input(\"Height: \"))\n",
    "screen_dimensions = (width, height)\n",
    "print(screen_dimensions)"
   ]
  },
  {
   "cell_type": "code",
   "execution_count": 5,
   "id": "2d88a17d-4ae5-4ae3-8384-75b189eb3218",
   "metadata": {},
   "outputs": [
    {
     "ename": "TypeError",
     "evalue": "'tuple' object does not support item assignment",
     "output_type": "error",
     "traceback": [
      "\u001b[0;31m---------------------------------------------------------------------------\u001b[0m",
      "\u001b[0;31mTypeError\u001b[0m                                 Traceback (most recent call last)",
      "Cell \u001b[0;32mIn[5], line 1\u001b[0m\n\u001b[0;32m----> 1\u001b[0m \u001b[43mscreen_dimensions\u001b[49m\u001b[43m[\u001b[49m\u001b[38;5;241;43m0\u001b[39;49m\u001b[43m]\u001b[49m \u001b[38;5;241m=\u001b[39m \u001b[38;5;241m6.3\u001b[39m\n\u001b[1;32m      3\u001b[0m \u001b[38;5;66;03m# TypeError                                 Traceback (most recent call last)\u001b[39;00m\n\u001b[1;32m      4\u001b[0m \u001b[38;5;66;03m# Cell In[10], line 5\u001b[39;00m\n\u001b[1;32m      5\u001b[0m \u001b[38;5;66;03m#       3 height = float(input(\"Height: \"))\u001b[39;00m\n\u001b[0;32m   (...)\u001b[0m\n\u001b[1;32m      8\u001b[0m \n\u001b[1;32m      9\u001b[0m \u001b[38;5;66;03m# TypeError: 'tuple' object does not support item assignment\u001b[39;00m\n",
      "\u001b[0;31mTypeError\u001b[0m: 'tuple' object does not support item assignment"
     ]
    }
   ],
   "source": [
    "screen_dimensions[0] = 6.3\n",
    "\n",
    "# TypeError                                 Traceback (most recent call last)\n",
    "# Cell In[10], line 5\n",
    "#       3 height = float(input(\"Height: \"))\n",
    "#       4 screen_dimensions = (width, height)\n",
    "# ----> 5 screen_dimensions[0] = 6.3\n",
    "\n",
    "# TypeError: 'tuple' object does not support item assignment"
   ]
  },
  {
   "cell_type": "markdown",
   "id": "97759d8d-0865-48be-8304-4c36ecf1603b",
   "metadata": {},
   "source": [
    "#### Pet Description\n",
    "Create a dictionary pet to describe the user's pet. It should include keys for type, name, age, and later, color.\n",
    "Add a color key to the pet dictionary with an appropriate value and print the pet's name and color."
   ]
  },
  {
   "cell_type": "code",
   "execution_count": 6,
   "id": "a3c9e2c1-7549-471f-ab8f-fe4b0be94b59",
   "metadata": {},
   "outputs": [
    {
     "name": "stdout",
     "output_type": "stream",
     "text": [
      "Pet name is khairi and color is Brown\n"
     ]
    }
   ],
   "source": [
    "pet = {\n",
    "    \"type\": \"dog\",\n",
    "    \"name\": \"khairi\",\n",
    "    \"age\": 2\n",
    "}\n",
    "pet[\"color\"] = \"Brown\"\n",
    "print(f\"Pet name is {pet['name']} and color is {pet['color']}\")"
   ]
  },
  {
   "cell_type": "markdown",
   "id": "8af2a7a8-f2c1-4488-9251-5d269da3c508",
   "metadata": {},
   "source": [
    "#### Adult Status\n",
    "Determine if the user is an adult with a boolean variable is_adult. Consider someone an adult if they are 18 years old or more.\n",
    "Using conditional logic, print \"I am an adult.\" if true, and \"I am not an adult.\" if false."
   ]
  },
  {
   "cell_type": "code",
   "execution_count": 7,
   "id": "b63dcc32-f6b9-41aa-868f-bd7f90166dcc",
   "metadata": {},
   "outputs": [
    {
     "name": "stdout",
     "output_type": "stream",
     "text": [
      "Are you adult or not ???\n"
     ]
    },
    {
     "name": "stdin",
     "output_type": "stream",
     "text": [
      "Your age?:  23\n"
     ]
    },
    {
     "name": "stdout",
     "output_type": "stream",
     "text": [
      "You are adult!!!\n"
     ]
    }
   ],
   "source": [
    "print(\"Are you adult or not ???\")\n",
    "is_adult = int(input(\"Your age?: \"))\n",
    "if is_adult >= 18:\n",
    "    print(\"You are adult!!!\")\n",
    "else:\n",
    "    print(f\"You aren't adult.\\nYou will be adult in {18 - is_adult} years old.\")"
   ]
  },
  {
   "cell_type": "code",
   "execution_count": null,
   "id": "32d96bbf-9d0c-417d-801d-03d72b3bcbc0",
   "metadata": {},
   "outputs": [],
   "source": []
  },
  {
   "cell_type": "markdown",
   "id": "045d97c7-725d-4d74-bf45-f86392635321",
   "metadata": {},
   "source": [
    "Question : Book Keeper\n",
    "\n",
    "Following the data below , complete the given Tasks :\n",
    "    A list of tuples, where each tuple contains information about a book: (title, genre, year_published, times_borrowed).\n",
    "\n"
   ]
  },
  {
   "cell_type": "code",
   "execution_count": 8,
   "id": "5192df2e-2173-4661-bbe9-c9107ec6aaf5",
   "metadata": {},
   "outputs": [],
   "source": [
    "books = [\n",
    "    (\"The Alchemist\", \"Fiction\", 1988, 250),\n",
    "    (\"The Da Vinci Code\", \"Mystery\", 2003, 300),\n",
    "    (\"A Brief History of Time\", \"Science\", 1988, 150),\n",
    "    (\"The Theory of Everything\", \"Science\", 2002, 100),\n",
    "    (\"Pride and Prejudice\", \"Fiction\", 1813, 200),\n",
    "    (\"To Kill a Mockingbird\", \"Fiction\", 1960, 180),\n",
    "    (\"The Catcher in the Rye\", \"Fiction\", 1951, 220),\n",
    "    (\"Angels & Demons\", \"Mystery\", 2000, 210),\n",
    "    (\"The Grand Design\", \"Science\", 2010, 90),\n",
    "    (\"1984\", \"Fiction\", 1949, 190)\n",
    "]"
   ]
  },
  {
   "cell_type": "markdown",
   "id": "194e2d0b-a201-4c3c-b958-efd488ecd5f6",
   "metadata": {},
   "source": [
    "Task 01: Create a Book Filtering Function\n",
    "\n",
    "Given the list books as shown below, write a Python function named filter_books that filters books based on genre and publication year. The function should take two parameters: genre (a string) and year (an integer). It should return a list of book titles that match the given genre and have been published on or after the specified year.\n",
    "\n",
    "Example usage : ``` print(filter_books(\"Fiction\", 1980))```\n",
    "\n",
    "Expected output:``` ['The Alchemist', 'The Catcher in the Rye']```\n",
    "\n",
    "Try to use List Comprehension with If condition"
   ]
  },
  {
   "cell_type": "code",
   "execution_count": 9,
   "id": "e9302907-890e-450e-83af-7932d8658282",
   "metadata": {},
   "outputs": [],
   "source": [
    "# function that give output of title\n",
    "def filter_books(genre, year_published):\n",
    "    book_output = [book[0] for book in books if book[1] == genre and book[2] >= year_published]\n",
    "    return book_output"
   ]
  },
  {
   "cell_type": "code",
   "execution_count": 10,
   "id": "ff14f4c6-5a06-4c41-a097-ecf72ab48151",
   "metadata": {},
   "outputs": [
    {
     "name": "stdout",
     "output_type": "stream",
     "text": [
      "['A Brief History of Time', 'The Theory of Everything', 'The Grand Design']\n"
     ]
    }
   ],
   "source": [
    "#calling the function filter_books\n",
    "print(filter_books(\"Science\", 1980))"
   ]
  },
  {
   "cell_type": "code",
   "execution_count": null,
   "id": "c4ec47be-2950-42b1-88c9-fe87497efe65",
   "metadata": {},
   "outputs": [],
   "source": []
  },
  {
   "cell_type": "markdown",
   "id": "7d1fd664-e8d5-4faf-9198-795ef42cfc60",
   "metadata": {},
   "source": [
    "Task 02 : Write a Python program that uses a lambda expression to sort this list by publication year in ascending order.\n",
    "\n",
    "Print the sorted list of books.\n",
    "\n",
    "Try using a lambda expression with the sorted() function"
   ]
  },
  {
   "cell_type": "code",
   "execution_count": 11,
   "id": "47773ab4-ec2e-4274-be1a-b2f716d98be8",
   "metadata": {},
   "outputs": [],
   "source": [
    "sorted_book = sorted(books, key = lambda year : year[2])"
   ]
  },
  {
   "cell_type": "code",
   "execution_count": 12,
   "id": "318f884e-00b4-46db-a29c-e7d54e6bbd4b",
   "metadata": {},
   "outputs": [
    {
     "data": {
      "text/plain": [
       "[('Pride and Prejudice', 'Fiction', 1813, 200),\n",
       " ('1984', 'Fiction', 1949, 190),\n",
       " ('The Catcher in the Rye', 'Fiction', 1951, 220),\n",
       " ('To Kill a Mockingbird', 'Fiction', 1960, 180),\n",
       " ('The Alchemist', 'Fiction', 1988, 250),\n",
       " ('A Brief History of Time', 'Science', 1988, 150),\n",
       " ('Angels & Demons', 'Mystery', 2000, 210),\n",
       " ('The Theory of Everything', 'Science', 2002, 100),\n",
       " ('The Da Vinci Code', 'Mystery', 2003, 300),\n",
       " ('The Grand Design', 'Science', 2010, 90)]"
      ]
     },
     "execution_count": 12,
     "metadata": {},
     "output_type": "execute_result"
    }
   ],
   "source": [
    "sorted_book"
   ]
  },
  {
   "cell_type": "code",
   "execution_count": null,
   "id": "2e0e1c42-9ea7-42af-9d80-0b623f1c8093",
   "metadata": {},
   "outputs": [],
   "source": []
  },
  {
   "cell_type": "code",
   "execution_count": null,
   "id": "38fbe9ab-b39f-443b-98fd-4481400fd8ce",
   "metadata": {},
   "outputs": [],
   "source": []
  }
 ],
 "metadata": {
  "kernelspec": {
   "display_name": "Python 3 (ipykernel)",
   "language": "python",
   "name": "python3"
  },
  "language_info": {
   "codemirror_mode": {
    "name": "ipython",
    "version": 3
   },
   "file_extension": ".py",
   "mimetype": "text/x-python",
   "name": "python",
   "nbconvert_exporter": "python",
   "pygments_lexer": "ipython3",
   "version": "3.11.10"
  }
 },
 "nbformat": 4,
 "nbformat_minor": 5
}

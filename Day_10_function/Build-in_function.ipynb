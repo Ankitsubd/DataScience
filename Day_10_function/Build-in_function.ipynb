{
 "cells": [
  {
   "cell_type": "markdown",
   "id": "080a2b1a-eb6f-4e14-ab69-22d3cb2f093b",
   "metadata": {},
   "source": [
    "## Build-in function"
   ]
  },
  {
   "cell_type": "markdown",
   "id": "6b91d867-c82d-4c74-b32d-e8fd9b0c983b",
   "metadata": {},
   "source": [
    "### print()"
   ]
  },
  {
   "cell_type": "code",
   "execution_count": 7,
   "id": "16d8d904-5d36-4e63-9611-dee41e880b77",
   "metadata": {},
   "outputs": [
    {
     "name": "stdout",
     "output_type": "stream",
     "text": [
      "the value of your is:  10\n"
     ]
    }
   ],
   "source": [
    "x = 5\n",
    "y = x + 5\n",
    "print(\"the value of your is: \", y)"
   ]
  },
  {
   "cell_type": "code",
   "execution_count": 2,
   "id": "b7d99d09-0bdd-4bdb-a41b-9678a75619ae",
   "metadata": {},
   "outputs": [
    {
     "name": "stdout",
     "output_type": "stream",
     "text": [
      "x is  5 y is  10\n"
     ]
    }
   ],
   "source": [
    "print(\"x is \", x, \"y is \", y)"
   ]
  },
  {
   "cell_type": "code",
   "execution_count": 3,
   "id": "6e7431de-8704-446e-abcd-9316f0e829dd",
   "metadata": {},
   "outputs": [
    {
     "name": "stdout",
     "output_type": "stream",
     "text": [
      "Hello world\n"
     ]
    }
   ],
   "source": [
    "print(\"Hello\",\"world\")"
   ]
  },
  {
   "cell_type": "code",
   "execution_count": 4,
   "id": "8cc6b82d-5a3a-4afe-b971-3f40fee1a4a3",
   "metadata": {},
   "outputs": [
    {
     "name": "stdout",
     "output_type": "stream",
     "text": [
      "Hello_world\n"
     ]
    }
   ],
   "source": [
    "print(\"Hello\",\"world\",  sep=\"_\") "
   ]
  },
  {
   "cell_type": "code",
   "execution_count": 5,
   "id": "0650c503-03f2-4f46-8dae-bf82026fe03d",
   "metadata": {},
   "outputs": [
    {
     "name": "stdout",
     "output_type": "stream",
     "text": [
      "Hello-world."
     ]
    }
   ],
   "source": [
    "print(\"Hello\",\"world\", sep=\"-\", end=\".\")"
   ]
  },
  {
   "cell_type": "markdown",
   "id": "93afabde-609e-42dd-bc9e-76e345284d13",
   "metadata": {},
   "source": [
    "### input()"
   ]
  },
  {
   "cell_type": "code",
   "execution_count": 9,
   "id": "cf8d980c-713d-4cc6-ad54-74e115783986",
   "metadata": {},
   "outputs": [
    {
     "name": "stdin",
     "output_type": "stream",
     "text": [
      "what is your name:  Ankit\n"
     ]
    },
    {
     "name": "stdout",
     "output_type": "stream",
     "text": [
      "Hello Ankit\n"
     ]
    }
   ],
   "source": [
    "name = input(\"what is your name: \")\n",
    "print(\"Hello\", name)"
   ]
  },
  {
   "cell_type": "code",
   "execution_count": null,
   "id": "e6b51620-e125-4700-a416-1172e5892805",
   "metadata": {},
   "outputs": [],
   "source": []
  },
  {
   "cell_type": "markdown",
   "id": "bf63b359-7a5a-4013-b44f-884b2610bb66",
   "metadata": {},
   "source": [
    "#### len()"
   ]
  },
  {
   "cell_type": "code",
   "execution_count": 10,
   "id": "71a5f2a6-2f0f-451e-b25c-07cefb59277c",
   "metadata": {},
   "outputs": [
    {
     "data": {
      "text/plain": [
       "12"
      ]
     },
     "execution_count": 10,
     "metadata": {},
     "output_type": "execute_result"
    }
   ],
   "source": [
    "len(\"Ankit subedi\") # give length"
   ]
  },
  {
   "cell_type": "markdown",
   "id": "6de3a398-65a8-43ad-947b-800cf3c0b44d",
   "metadata": {},
   "source": [
    "#### dir()"
   ]
  },
  {
   "cell_type": "code",
   "execution_count": 11,
   "id": "13a83b9d-e775-440f-aecb-be47d59ac877",
   "metadata": {},
   "outputs": [
    {
     "data": {
      "text/plain": [
       "['__add__',\n",
       " '__class__',\n",
       " '__contains__',\n",
       " '__delattr__',\n",
       " '__dir__',\n",
       " '__doc__',\n",
       " '__eq__',\n",
       " '__format__',\n",
       " '__ge__',\n",
       " '__getattribute__',\n",
       " '__getitem__',\n",
       " '__getnewargs__',\n",
       " '__getstate__',\n",
       " '__gt__',\n",
       " '__hash__',\n",
       " '__init__',\n",
       " '__init_subclass__',\n",
       " '__iter__',\n",
       " '__le__',\n",
       " '__len__',\n",
       " '__lt__',\n",
       " '__mod__',\n",
       " '__mul__',\n",
       " '__ne__',\n",
       " '__new__',\n",
       " '__reduce__',\n",
       " '__reduce_ex__',\n",
       " '__repr__',\n",
       " '__rmod__',\n",
       " '__rmul__',\n",
       " '__setattr__',\n",
       " '__sizeof__',\n",
       " '__str__',\n",
       " '__subclasshook__',\n",
       " 'capitalize',\n",
       " 'casefold',\n",
       " 'center',\n",
       " 'count',\n",
       " 'encode',\n",
       " 'endswith',\n",
       " 'expandtabs',\n",
       " 'find',\n",
       " 'format',\n",
       " 'format_map',\n",
       " 'index',\n",
       " 'isalnum',\n",
       " 'isalpha',\n",
       " 'isascii',\n",
       " 'isdecimal',\n",
       " 'isdigit',\n",
       " 'isidentifier',\n",
       " 'islower',\n",
       " 'isnumeric',\n",
       " 'isprintable',\n",
       " 'isspace',\n",
       " 'istitle',\n",
       " 'isupper',\n",
       " 'join',\n",
       " 'ljust',\n",
       " 'lower',\n",
       " 'lstrip',\n",
       " 'maketrans',\n",
       " 'partition',\n",
       " 'removeprefix',\n",
       " 'removesuffix',\n",
       " 'replace',\n",
       " 'rfind',\n",
       " 'rindex',\n",
       " 'rjust',\n",
       " 'rpartition',\n",
       " 'rsplit',\n",
       " 'rstrip',\n",
       " 'split',\n",
       " 'splitlines',\n",
       " 'startswith',\n",
       " 'strip',\n",
       " 'swapcase',\n",
       " 'title',\n",
       " 'translate',\n",
       " 'upper',\n",
       " 'zfill']"
      ]
     },
     "execution_count": 11,
     "metadata": {},
     "output_type": "execute_result"
    }
   ],
   "source": [
    "x = 'hello'\n",
    "dir(x) # to check which which method can used "
   ]
  },
  {
   "cell_type": "markdown",
   "id": "b02cd37a-bdfb-43b5-81b7-385eafcd8033",
   "metadata": {},
   "source": [
    "#### enumerate()"
   ]
  },
  {
   "cell_type": "code",
   "execution_count": 19,
   "id": "fb9129b7-633a-4760-9f72-d5a08af5c9ec",
   "metadata": {},
   "outputs": [
    {
     "name": "stdout",
     "output_type": "stream",
     "text": [
      "1-Ankit\n",
      "2-Bob\n",
      "3-John\n"
     ]
    }
   ],
   "source": [
    "names = ['Ankit', 'Bob', 'John']\n",
    "for i,name in enumerate(names, start= 1):\n",
    "    print(i, name, sep=\"-\")"
   ]
  },
  {
   "cell_type": "code",
   "execution_count": 20,
   "id": "755066e0-3ceb-4542-ade4-5aaa80b1b033",
   "metadata": {},
   "outputs": [
    {
     "data": {
      "text/plain": [
       "[(100, 'Ankit'), (101, 'Bob'), (102, 'John')]"
      ]
     },
     "execution_count": 20,
     "metadata": {},
     "output_type": "execute_result"
    }
   ],
   "source": [
    "list(enumerate(names, start= 100))"
   ]
  },
  {
   "cell_type": "markdown",
   "id": "ef06c1cf-b586-4a3d-8a8b-15f60040dcae",
   "metadata": {},
   "source": [
    "### zip()"
   ]
  },
  {
   "cell_type": "code",
   "execution_count": 26,
   "id": "3f09c7bc-da65-4951-8791-d8897ef73a9b",
   "metadata": {},
   "outputs": [
    {
     "data": {
      "text/plain": [
       "[('Ankit', 23), ('Bob', 25), ('John', 18)]"
      ]
     },
     "execution_count": 26,
     "metadata": {},
     "output_type": "execute_result"
    }
   ],
   "source": [
    "names = ['Ankit', 'Bob', 'John']\n",
    "age = [23, 25, 18]\n",
    "list(zip(names, age))"
   ]
  },
  {
   "cell_type": "code",
   "execution_count": 31,
   "id": "c9b83666-0494-4137-9ca2-a6bb07b4e6e3",
   "metadata": {},
   "outputs": [
    {
     "name": "stdout",
     "output_type": "stream",
     "text": [
      "Age of Ankit is 23\n",
      "Age of Bob is 25\n",
      "Age of John is 18\n"
     ]
    }
   ],
   "source": [
    "namee = ['Ankit', 'Bob','John', 'ram']\n",
    "agee = [23, 25, 18]\n",
    "for nameee, a in zip(namee, agee):\n",
    "    print(f\"Age of {nameee} is {a}\") "
   ]
  },
  {
   "cell_type": "code",
   "execution_count": null,
   "id": "5f221af9-25da-4f3b-911b-e9f19c44fe53",
   "metadata": {},
   "outputs": [],
   "source": []
  },
  {
   "cell_type": "markdown",
   "id": "59216667-0ccf-4a18-b54d-a21cfc38ea72",
   "metadata": {},
   "source": [
    "### map()"
   ]
  },
  {
   "cell_type": "code",
   "execution_count": 36,
   "id": "b3e714e3-1e86-4c89-971d-6d1feb25b79f",
   "metadata": {},
   "outputs": [],
   "source": [
    "def mult(x):\n",
    "    return x * 2"
   ]
  },
  {
   "cell_type": "code",
   "execution_count": 40,
   "id": "8167d0d8-0b79-4de6-93da-c8aedc51c311",
   "metadata": {},
   "outputs": [
    {
     "name": "stdout",
     "output_type": "stream",
     "text": [
      "<map object at 0x111281ae0>\n"
     ]
    },
    {
     "data": {
      "text/plain": [
       "[2, 10, 16, 6, 0]"
      ]
     },
     "execution_count": 40,
     "metadata": {},
     "output_type": "execute_result"
    }
   ],
   "source": [
    "my_list = [1,5,8,3,0]\n",
    "map_obj = map(mult, my_list)\n",
    "print(map_obj)\n",
    "[a for a in map_obj]"
   ]
  },
  {
   "cell_type": "markdown",
   "id": "25c5e6e0-cb28-4893-8e24-25cdf8505aad",
   "metadata": {},
   "source": [
    "### reduce()"
   ]
  },
  {
   "cell_type": "code",
   "execution_count": null,
   "id": "c8ad4c12-33a0-48f0-9840-4760684d5bcf",
   "metadata": {},
   "outputs": [],
   "source": []
  },
  {
   "cell_type": "code",
   "execution_count": null,
   "id": "79111f2c-b23e-4d28-8624-fb333ddb5991",
   "metadata": {},
   "outputs": [],
   "source": []
  },
  {
   "cell_type": "markdown",
   "id": "3727398e-4083-4ef5-9b41-37c55bd52d45",
   "metadata": {},
   "source": [
    "### filter()"
   ]
  },
  {
   "cell_type": "code",
   "execution_count": 43,
   "id": "289ce6ab-5970-4a1d-9b5c-0dc9a85bdb11",
   "metadata": {},
   "outputs": [],
   "source": [
    "filter_obj = filter( lambda x:x % 2 == 0, range(1,20))"
   ]
  },
  {
   "cell_type": "code",
   "execution_count": 44,
   "id": "285a3d47-a010-42b8-9653-e158fad3413b",
   "metadata": {},
   "outputs": [
    {
     "data": {
      "text/plain": [
       "[2, 4, 6, 8, 10, 12, 14, 16, 18]"
      ]
     },
     "execution_count": 44,
     "metadata": {},
     "output_type": "execute_result"
    }
   ],
   "source": [
    "list(filter_obj)"
   ]
  },
  {
   "cell_type": "code",
   "execution_count": null,
   "id": "42a9e8d6-a45f-44ea-b22a-0c1d61b481a9",
   "metadata": {},
   "outputs": [],
   "source": []
  },
  {
   "cell_type": "code",
   "execution_count": 47,
   "id": "ab1c3ea2-c816-4502-8ef1-39cb369061e9",
   "metadata": {},
   "outputs": [
    {
     "data": {
      "text/plain": [
       "['egg', 'milk']"
      ]
     },
     "execution_count": 47,
     "metadata": {},
     "output_type": "execute_result"
    }
   ],
   "source": [
    "my_list = [\"\", \"egg\", \"\", \"milk\"]\n",
    "filter_obj = filter( lambda x: x != \"\" ,my_list)\n",
    "list(filter_obj)"
   ]
  },
  {
   "cell_type": "code",
   "execution_count": null,
   "id": "64c73a78-c956-49c6-a062-b44cad455301",
   "metadata": {},
   "outputs": [],
   "source": []
  },
  {
   "cell_type": "code",
   "execution_count": null,
   "id": "16cd3c40-31ab-47c0-a249-a16f1bd247f6",
   "metadata": {},
   "outputs": [],
   "source": []
  },
  {
   "cell_type": "code",
   "execution_count": null,
   "id": "c2b3dc25-a4d1-45fc-b5f9-e15972406340",
   "metadata": {},
   "outputs": [],
   "source": []
  }
 ],
 "metadata": {
  "kernelspec": {
   "display_name": "Python 3 (ipykernel)",
   "language": "python",
   "name": "python3"
  },
  "language_info": {
   "codemirror_mode": {
    "name": "ipython",
    "version": 3
   },
   "file_extension": ".py",
   "mimetype": "text/x-python",
   "name": "python",
   "nbconvert_exporter": "python",
   "pygments_lexer": "ipython3",
   "version": "3.11.10"
  }
 },
 "nbformat": 4,
 "nbformat_minor": 5
}

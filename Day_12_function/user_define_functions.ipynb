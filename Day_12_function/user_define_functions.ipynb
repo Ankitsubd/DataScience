{
 "cells": [
  {
   "cell_type": "markdown",
   "id": "880be982-9634-419b-8761-48590beaf084",
   "metadata": {},
   "source": [
    "## Function"
   ]
  },
  {
   "cell_type": "code",
   "execution_count": 3,
   "id": "d21a2567-9c00-4c58-9ec8-5c54c3abb39e",
   "metadata": {},
   "outputs": [
    {
     "name": "stdout",
     "output_type": "stream",
     "text": [
      "42\n"
     ]
    }
   ],
   "source": [
    "def sum_list(input_list):\n",
    "    result = 0\n",
    "    for i in input_list:\n",
    "        result += i\n",
    "    return result\n",
    "\n",
    "print(sum_list([3,4,5,6,7,8,9]))\n"
   ]
  },
  {
   "cell_type": "code",
   "execution_count": 6,
   "id": "7d5a84ac-05a5-459f-8989-3e381055a31e",
   "metadata": {},
   "outputs": [],
   "source": [
    "def greet(name, greeting = \"Hello\"):\n",
    "    return f\"{greeting}, {name}\""
   ]
  },
  {
   "cell_type": "code",
   "execution_count": 8,
   "id": "3070d08d-2dd9-4028-a914-fc7464d70019",
   "metadata": {},
   "outputs": [
    {
     "data": {
      "text/plain": [
       "'Hello, Ankit'"
      ]
     },
     "execution_count": 8,
     "metadata": {},
     "output_type": "execute_result"
    }
   ],
   "source": [
    "greet(\"Ankit\")"
   ]
  },
  {
   "cell_type": "code",
   "execution_count": 9,
   "id": "a6154a18-de44-485f-8355-07b0a3c5cf0d",
   "metadata": {},
   "outputs": [
    {
     "data": {
      "text/plain": [
       "'Hi, Ankit'"
      ]
     },
     "execution_count": 9,
     "metadata": {},
     "output_type": "execute_result"
    }
   ],
   "source": [
    "greet(\"Ankit\", \"Hi\")"
   ]
  },
  {
   "cell_type": "markdown",
   "id": "6807039c-e4dc-4d4a-80dc-08f64d8a7a54",
   "metadata": {},
   "source": [
    "## ```*args``` and ```**kwargs```"
   ]
  },
  {
   "cell_type": "code",
   "execution_count": 16,
   "id": "b8b903f4-7f14-4ceb-98a2-cbafbab9288f",
   "metadata": {},
   "outputs": [],
   "source": [
    "def print_arguments(*args, **kwargs):\n",
    "    print(\"Positional Args\")\n",
    "    for arg in args:\n",
    "        print(arg, end = \" \")"
   ]
  },
  {
   "cell_type": "code",
   "execution_count": 17,
   "id": "5e4668d6-2651-4b95-beeb-5c72838a7598",
   "metadata": {},
   "outputs": [
    {
     "name": "stdout",
     "output_type": "stream",
     "text": [
      "Positional Args\n",
      "Ankit 1 Hello [5, 6, 10, 11] "
     ]
    }
   ],
   "source": [
    "print_arguments(\"Ankit\", 1, \"Hello\", [5,6,10,11])"
   ]
  },
  {
   "cell_type": "code",
   "execution_count": 18,
   "id": "eb1761f4-f90d-4858-b16d-ef158e17a7eb",
   "metadata": {},
   "outputs": [],
   "source": [
    "def print_arguments(*args, **kwargs):\n",
    "    print(\"Positional Args\")\n",
    "    for arg in args:\n",
    "        print(arg, end = \" \")"
   ]
  },
  {
   "cell_type": "code",
   "execution_count": 19,
   "id": "d2fcf27f-271c-4e16-93b1-3d336ad55d0d",
   "metadata": {},
   "outputs": [
    {
     "name": "stdout",
     "output_type": "stream",
     "text": [
      "Positional Args\n",
      "Ankit 1 Hello [5, 6, 10, 11] "
     ]
    }
   ],
   "source": [
    "print_arguments(\"Ankit\", 1, \"Hello\", [5,6,10,11], greet = \"Hello\", time = \"9am\")"
   ]
  },
  {
   "cell_type": "code",
   "execution_count": 26,
   "id": "62756b32-2ad6-4dac-a8da-d26162cad0e4",
   "metadata": {},
   "outputs": [],
   "source": [
    "def print_arguments(*args, **kwargs):\n",
    "    print(\"Positional Args\")\n",
    "    for arg in args:\n",
    "        print(arg, end = \" \")\n",
    "    print()\n",
    "    print(\"Keyword Args\")  \n",
    "    for key, value in kwargs.items():\n",
    "        print(f\"value for {key} is {value}\")\n"
   ]
  },
  {
   "cell_type": "code",
   "execution_count": 27,
   "id": "9a6aa85f-c804-4ac5-931e-5a2388a6b2ba",
   "metadata": {},
   "outputs": [
    {
     "name": "stdout",
     "output_type": "stream",
     "text": [
      "Positional Args\n",
      "Ankit 1 Hello [5, 6, 10, 11] \n",
      "Keyword Args\n",
      "value for greet is Hello\n",
      "value for time is 9am\n"
     ]
    }
   ],
   "source": [
    "print_arguments(\"Ankit\", 1, \"Hello\", [5,6,10,11], greet = \"Hello\", time = \"9am\")"
   ]
  },
  {
   "cell_type": "code",
   "execution_count": 31,
   "id": "3bec88e1-866b-440b-a30d-dfe252a2e456",
   "metadata": {},
   "outputs": [],
   "source": [
    "def print_arguments(*args, **kwargs):\n",
    "    time = kwargs.get('time', '10am')\n",
    "    print(\"Positional Args\")\n",
    "    for arg in args:\n",
    "        print(arg, end = \" \")\n",
    "    print()\n",
    "    print(\"Keyword Args\")  \n",
    "    for key, value in kwargs.items():\n",
    "        print(f\"value for {key} is {value}\")\n",
    "    "
   ]
  },
  {
   "cell_type": "code",
   "execution_count": 32,
   "id": "7c44b1fa-f881-45eb-b7ff-00262982e836",
   "metadata": {},
   "outputs": [
    {
     "name": "stdout",
     "output_type": "stream",
     "text": [
      "Positional Args\n",
      "Ankit 1 Hello [5, 6, 10, 11] \n",
      "Keyword Args\n",
      "value for greet is Hello\n"
     ]
    }
   ],
   "source": [
    "print_arguments(\"Ankit\", 1, \"Hello\", [5,6,10,11], greet = \"Hello\")"
   ]
  },
  {
   "cell_type": "markdown",
   "id": "8875b3dc-5ae8-4f31-9e45-83ad4743c7db",
   "metadata": {},
   "source": [
    "### Documentation"
   ]
  },
  {
   "cell_type": "code",
   "execution_count": 38,
   "id": "5f19b15f-2662-40f8-9986-7aeb05359f2b",
   "metadata": {},
   "outputs": [],
   "source": [
    "def square(n:int) -> int:\n",
    "    \"\"\"\n",
    "    Give square of number.\n",
    "\n",
    "    parameter:\n",
    "        n(int) : user input number\n",
    "\n",
    "    return:\n",
    "        int: square og input number\n",
    "    \"\"\"\n",
    "    return n ** 2"
   ]
  },
  {
   "cell_type": "code",
   "execution_count": 42,
   "id": "3126d2ab-f58d-4121-b15b-60919f509afa",
   "metadata": {},
   "outputs": [
    {
     "data": {
      "text/plain": [
       "121"
      ]
     },
     "execution_count": 42,
     "metadata": {},
     "output_type": "execute_result"
    }
   ],
   "source": [
    "square(11)"
   ]
  },
  {
   "cell_type": "code",
   "execution_count": 43,
   "id": "960fdf78-e272-48e8-ac9e-8e64439f1434",
   "metadata": {},
   "outputs": [
    {
     "name": "stdout",
     "output_type": "stream",
     "text": [
      "\n",
      "    Give square of number.\n",
      "\n",
      "    parameter:\n",
      "        n(int) : user input number\n",
      "\n",
      "    return:\n",
      "        int: square og input number\n",
      "    \n"
     ]
    }
   ],
   "source": [
    "print(square.__doc__)"
   ]
  },
  {
   "cell_type": "code",
   "execution_count": 44,
   "id": "c0802aa8-e55d-450b-b49b-9742b6c28d9d",
   "metadata": {},
   "outputs": [
    {
     "name": "stdout",
     "output_type": "stream",
     "text": [
      "25\n"
     ]
    }
   ],
   "source": [
    "# CLass test\n",
    "def power(base, exp=2):\n",
    "    return base**exp\n",
    "\n",
    "print(power(5))"
   ]
  },
  {
   "cell_type": "code",
   "execution_count": 45,
   "id": "7295d611-b368-4881-af01-44af8f8f1950",
   "metadata": {},
   "outputs": [
    {
     "name": "stdout",
     "output_type": "stream",
     "text": [
      "125\n"
     ]
    }
   ],
   "source": [
    "print(power(5,3))"
   ]
  },
  {
   "cell_type": "markdown",
   "id": "48bb2d18-dbf5-4fc5-a3ac-6e552ef037e4",
   "metadata": {},
   "source": [
    "### Standard Deviation"
   ]
  },
  {
   "cell_type": "code",
   "execution_count": 50,
   "id": "851c5360-3fd3-476b-9b48-9b4fba508c22",
   "metadata": {},
   "outputs": [
    {
     "name": "stdout",
     "output_type": "stream",
     "text": [
      "115.17812292271479\n"
     ]
    }
   ],
   "source": [
    "\n",
    "def std_dev(list1 : list) -> float:\n",
    "    n = len(list1)\n",
    "    mean = sum(list1)/n\n",
    "    summation = sum([(x-mean) ** 2 for x in list1])\n",
    "    result =  (summation / n) ** 0.5\n",
    "    return result\n",
    "\n",
    "print(std_dev(list(range(1,400,3))))"
   ]
  },
  {
   "cell_type": "code",
   "execution_count": null,
   "id": "216240b0-0e25-4787-875b-dbb9c387c8bc",
   "metadata": {},
   "outputs": [],
   "source": []
  },
  {
   "cell_type": "code",
   "execution_count": null,
   "id": "220899a3-9f60-4124-944e-3e9abfac7a32",
   "metadata": {},
   "outputs": [],
   "source": []
  },
  {
   "cell_type": "code",
   "execution_count": null,
   "id": "d6b55f55-06f4-4f9e-8bf0-cb44bf7c47c6",
   "metadata": {},
   "outputs": [],
   "source": []
  }
 ],
 "metadata": {
  "kernelspec": {
   "display_name": "Python 3 (ipykernel)",
   "language": "python",
   "name": "python3"
  },
  "language_info": {
   "codemirror_mode": {
    "name": "ipython",
    "version": 3
   },
   "file_extension": ".py",
   "mimetype": "text/x-python",
   "name": "python",
   "nbconvert_exporter": "python",
   "pygments_lexer": "ipython3",
   "version": "3.11.10"
  }
 },
 "nbformat": 4,
 "nbformat_minor": 5
}

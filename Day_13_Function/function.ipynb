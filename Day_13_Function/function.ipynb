{
 "cells": [
  {
   "cell_type": "markdown",
   "id": "8f9bc7b5-0b24-478a-93b0-d8430daf82a8",
   "metadata": {},
   "source": [
    "## Function"
   ]
  },
  {
   "cell_type": "markdown",
   "id": "eb5ab407-f00d-4f1e-bdb6-2f6e425b7ac6",
   "metadata": {},
   "source": [
    "### Question: calculate mean error"
   ]
  },
  {
   "cell_type": "code",
   "execution_count": null,
   "id": "02893c28-5a80-46f8-8a2b-7ea8f90a2721",
   "metadata": {},
   "outputs": [],
   "source": []
  },
  {
   "cell_type": "markdown",
   "id": "cce4f752-3da9-4448-bbeb-7ee7351197ab",
   "metadata": {},
   "source": [
    "#### Create a function that takes any number of error value and find their mean"
   ]
  },
  {
   "cell_type": "code",
   "execution_count": 7,
   "id": "6406520a-721e-4160-aaf0-27c79751333c",
   "metadata": {},
   "outputs": [
    {
     "name": "stdout",
     "output_type": "stream",
     "text": [
      "3.8000000000000003\n"
     ]
    }
   ],
   "source": [
    "def mean_error(*error):\n",
    "    mean = (sum(error))/(len(error))\n",
    "    return mean\n",
    "result = mean_error(2.3,4.5,6.7,7.8,0.1,4.5,0.7)\n",
    "print(result)"
   ]
  },
  {
   "cell_type": "code",
   "execution_count": 8,
   "id": "6bb2d2e8-ff93-47c8-baab-125105e3ad29",
   "metadata": {},
   "outputs": [
    {
     "ename": "TypeError",
     "evalue": "unsupported operand type(s) for +: 'int' and 'list'",
     "output_type": "error",
     "traceback": [
      "\u001b[0;31m---------------------------------------------------------------------------\u001b[0m",
      "\u001b[0;31mTypeError\u001b[0m                                 Traceback (most recent call last)",
      "Cell \u001b[0;32mIn[8], line 1\u001b[0m\n\u001b[0;32m----> 1\u001b[0m result \u001b[38;5;241m=\u001b[39m \u001b[43mmean_error\u001b[49m\u001b[43m(\u001b[49m\u001b[43m[\u001b[49m\u001b[38;5;241;43m2.3\u001b[39;49m\u001b[43m,\u001b[49m\u001b[38;5;241;43m4.5\u001b[39;49m\u001b[43m,\u001b[49m\u001b[38;5;241;43m6.7\u001b[39;49m\u001b[43m,\u001b[49m\u001b[38;5;241;43m7.8\u001b[39;49m\u001b[43m,\u001b[49m\u001b[38;5;241;43m0.1\u001b[39;49m\u001b[43m,\u001b[49m\u001b[38;5;241;43m4.5\u001b[39;49m\u001b[43m,\u001b[49m\u001b[38;5;241;43m0.7\u001b[39;49m\u001b[43m]\u001b[49m\u001b[43m)\u001b[49m\n\u001b[1;32m      2\u001b[0m \u001b[38;5;28mprint\u001b[39m(result)\n",
      "Cell \u001b[0;32mIn[7], line 2\u001b[0m, in \u001b[0;36mmean_error\u001b[0;34m(*error)\u001b[0m\n\u001b[1;32m      1\u001b[0m \u001b[38;5;28;01mdef\u001b[39;00m \u001b[38;5;21mmean_error\u001b[39m(\u001b[38;5;241m*\u001b[39merror):\n\u001b[0;32m----> 2\u001b[0m     mean \u001b[38;5;241m=\u001b[39m (\u001b[38;5;28;43msum\u001b[39;49m\u001b[43m(\u001b[49m\u001b[43merror\u001b[49m\u001b[43m)\u001b[49m)\u001b[38;5;241m/\u001b[39m(\u001b[38;5;28mlen\u001b[39m(error))\n\u001b[1;32m      3\u001b[0m     \u001b[38;5;28;01mreturn\u001b[39;00m mean\n",
      "\u001b[0;31mTypeError\u001b[0m: unsupported operand type(s) for +: 'int' and 'list'"
     ]
    }
   ],
   "source": [
    "result = mean_error([2.3,4.5,6.7,7.8,0.1,4.5,0.7])\n",
    "print(result)"
   ]
  },
  {
   "cell_type": "code",
   "execution_count": 9,
   "id": "6d90ebe5-0e1c-49a3-90ad-3ae3682fd930",
   "metadata": {},
   "outputs": [
    {
     "name": "stdout",
     "output_type": "stream",
     "text": [
      "3.8000000000000003\n"
     ]
    }
   ],
   "source": [
    "result = mean_error(*[2.3,4.5,6.7,7.8,0.1,4.5,0.7])\n",
    "print(result)"
   ]
  },
  {
   "cell_type": "markdown",
   "id": "783b9eb4-f52c-4df4-9234-db6d8036de89",
   "metadata": {},
   "source": [
    "## Recursive function"
   ]
  },
  {
   "cell_type": "markdown",
   "id": "2ca3a8b5-6a0f-43ab-b1e8-03608d7f6b2a",
   "metadata": {},
   "source": []
  },
  {
   "cell_type": "code",
   "execution_count": null,
   "id": "12506760-0afc-4e50-800a-86ce839466bd",
   "metadata": {},
   "outputs": [],
   "source": []
  },
  {
   "cell_type": "code",
   "execution_count": 41,
   "id": "92459a8b-ea6a-4312-a50c-6046218015d5",
   "metadata": {},
   "outputs": [
    {
     "name": "stdout",
     "output_type": "stream",
     "text": [
      "8\n"
     ]
    }
   ],
   "source": [
    "def fib(n):\n",
    "    if n == 0:\n",
    "        return 0;\n",
    "    elif n == 1  :\n",
    "        return 1;\n",
    "    else:\n",
    "        return fib(n-1) + fib(n-2)\n",
    "\n",
    "print(fib(6))"
   ]
  },
  {
   "cell_type": "code",
   "execution_count": null,
   "id": "50e742de-43d0-435c-922b-f488d235cc6a",
   "metadata": {},
   "outputs": [],
   "source": []
  },
  {
   "cell_type": "code",
   "execution_count": 38,
   "id": "4f7a8eb9-0416-4092-b59f-d97703e15e00",
   "metadata": {},
   "outputs": [],
   "source": [
    "cache = {0 : 0, 1 : 1} # Memoizing the Recursive Algorithm\n",
    "def fib(n):\n",
    "    if n in cache:\n",
    "        return cache[n]\n",
    "    else:\n",
    "        cache[n] = fib(n-1) + fib(n-2)\n",
    "        return cache[n]\n"
   ]
  },
  {
   "cell_type": "code",
   "execution_count": 40,
   "id": "ab2a5e7e-3857-46ec-b917-fa07e97ed2e7",
   "metadata": {},
   "outputs": [
    {
     "data": {
      "text/plain": [
       "832040"
      ]
     },
     "execution_count": 40,
     "metadata": {},
     "output_type": "execute_result"
    }
   ],
   "source": [
    "fib(30)"
   ]
  },
  {
   "cell_type": "code",
   "execution_count": null,
   "id": "b46e03df-218d-400b-bc06-3e88ca1741a3",
   "metadata": {},
   "outputs": [],
   "source": []
  },
  {
   "cell_type": "code",
   "execution_count": null,
   "id": "c2ef652b-8c95-4f4a-af32-668f40afd6d1",
   "metadata": {},
   "outputs": [],
   "source": []
  },
  {
   "cell_type": "code",
   "execution_count": null,
   "id": "e1bc615a-f028-44da-9a88-fb2cf07d6b74",
   "metadata": {},
   "outputs": [],
   "source": []
  },
  {
   "cell_type": "code",
   "execution_count": null,
   "id": "6fa82a1a-8e93-4ebd-b684-2582c50a2018",
   "metadata": {},
   "outputs": [],
   "source": []
  }
 ],
 "metadata": {
  "kernelspec": {
   "display_name": "Python 3 (ipykernel)",
   "language": "python",
   "name": "python3"
  },
  "language_info": {
   "codemirror_mode": {
    "name": "ipython",
    "version": 3
   },
   "file_extension": ".py",
   "mimetype": "text/x-python",
   "name": "python",
   "nbconvert_exporter": "python",
   "pygments_lexer": "ipython3",
   "version": "3.11.10"
  }
 },
 "nbformat": 4,
 "nbformat_minor": 5
}

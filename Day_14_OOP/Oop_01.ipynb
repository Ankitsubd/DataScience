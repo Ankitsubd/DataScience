{
 "cells": [
  {
   "cell_type": "markdown",
   "id": "1caab762-f482-4162-8ba1-d9621193a352",
   "metadata": {},
   "source": [
    "## Object Oriented Programming "
   ]
  },
  {
   "cell_type": "markdown",
   "id": "e7b1454e-9879-4f91-9ce8-56df9735f236",
   "metadata": {},
   "source": [
    "### Class and Objects\n",
    "\n",
    "``` class ClassName: ```\n",
    "\n",
    "        def method:\n",
    "            ...\n",
    "        "
   ]
  },
  {
   "cell_type": "code",
   "execution_count": 1,
   "id": "b6c80ff7-2509-4d19-ae47-8b4d8f476f3f",
   "metadata": {},
   "outputs": [],
   "source": [
    "class Calculator:\n",
    "    def __init__(self, num1, num2):\n",
    "        self.x = num1\n",
    "        self.y = num2\n",
    "\n",
    "    def sum(self):\n",
    "        return self.x + self.y\n",
    "\n",
    "    def product(self):\n",
    "        return self.x * self.y"
   ]
  },
  {
   "cell_type": "code",
   "execution_count": 2,
   "id": "cde727db-e1a9-4ecf-a1f3-69b6d550b591",
   "metadata": {},
   "outputs": [
    {
     "data": {
      "text/plain": [
       "14"
      ]
     },
     "execution_count": 2,
     "metadata": {},
     "output_type": "execute_result"
    }
   ],
   "source": [
    "cal_obj = Calculator(num1 = 5, num2 = 9)\n",
    "cal_obj.sum()"
   ]
  },
  {
   "cell_type": "code",
   "execution_count": 3,
   "id": "d957a15f-685b-4390-b4da-6ef1caca87f7",
   "metadata": {},
   "outputs": [
    {
     "data": {
      "text/plain": [
       "45"
      ]
     },
     "execution_count": 3,
     "metadata": {},
     "output_type": "execute_result"
    }
   ],
   "source": [
    "cal_obj.product()"
   ]
  },
  {
   "cell_type": "code",
   "execution_count": 4,
   "id": "ca0e6015-70cb-46ea-8c03-fd51d051872d",
   "metadata": {},
   "outputs": [
    {
     "data": {
      "text/plain": [
       "'Lucky is barking'"
      ]
     },
     "execution_count": 4,
     "metadata": {},
     "output_type": "execute_result"
    }
   ],
   "source": [
    "class Dog:\n",
    "    def __init__(self, name, age = 3):\n",
    "        self.name = name\n",
    "        self.age = age\n",
    "\n",
    "    def bark(self):\n",
    "        return f\"{self.name} is barking\"\n",
    "\n",
    "dog1 = Dog(\"Lucky\")\n",
    "dog1.bark()"
   ]
  },
  {
   "cell_type": "code",
   "execution_count": 5,
   "id": "5b6553c7-0c18-4c5e-b419-21830fb4de5f",
   "metadata": {},
   "outputs": [
    {
     "data": {
      "text/plain": [
       "'Rocky is barking'"
      ]
     },
     "execution_count": 5,
     "metadata": {},
     "output_type": "execute_result"
    }
   ],
   "source": [
    "dog1 = Dog(\"Rocky\")\n",
    "dog1.bark()"
   ]
  },
  {
   "cell_type": "code",
   "execution_count": 6,
   "id": "3aed8536-b3c6-455f-9e13-a89249b24ba7",
   "metadata": {},
   "outputs": [
    {
     "data": {
      "text/plain": [
       "3"
      ]
     },
     "execution_count": 6,
     "metadata": {},
     "output_type": "execute_result"
    }
   ],
   "source": [
    "dog1.age"
   ]
  },
  {
   "cell_type": "markdown",
   "id": "9ffe85ed-0ac3-47df-a070-ca1e4db5ab58",
   "metadata": {},
   "source": [
    "## Type if Attribues\n",
    "\n",
    "### 1. Instance Attributes\n",
    "\n",
    "      example: self.attributes\n",
    "### 2. Class attrubutes\n",
    "\n",
    "       example: className.attributes\n"
   ]
  },
  {
   "cell_type": "code",
   "execution_count": 7,
   "id": "9d99ebaf-ace8-4c2c-bff0-932a951ff943",
   "metadata": {},
   "outputs": [
    {
     "data": {
      "text/plain": [
       "'Lucky is barking'"
      ]
     },
     "execution_count": 7,
     "metadata": {},
     "output_type": "execute_result"
    }
   ],
   "source": [
    "class Dog:\n",
    "    count = 0 # class attributes\n",
    "    def __init__(self, name, age = 3):\n",
    "        self.name = name\n",
    "        self.age = age\n",
    "        Dog.count += 1 \n",
    "    def bark(self):\n",
    "        return f\"{self.name} is barking\"\n",
    "\n",
    "\n",
    "\n",
    "dog1 = Dog(\"Lucky\")\n",
    "dog1.bark()"
   ]
  },
  {
   "cell_type": "markdown",
   "id": "bc7aed28-2356-447d-9ccc-ad05291507df",
   "metadata": {},
   "source": [
    "## Type of method\n",
    "    1. Instance method\n",
    "    2. Class method\n",
    "    3. Static method"
   ]
  },
  {
   "cell_type": "code",
   "execution_count": 8,
   "id": "ecb1d524-04fd-4b0d-b011-fd6ddafd173b",
   "metadata": {},
   "outputs": [
    {
     "data": {
      "text/plain": [
       "'Lucky is barking'"
      ]
     },
     "execution_count": 8,
     "metadata": {},
     "output_type": "execute_result"
    }
   ],
   "source": [
    "class Dog:\n",
    "    count = 0 # class attributes\n",
    "    def __init__(self, name, age = 3):\n",
    "        self.name = name\n",
    "        self.age = age\n",
    "        Dog.count += 1 \n",
    "    def bark(self):\n",
    "        return f\"{self.name} is barking\"\n",
    "\n",
    "    @classmethod\n",
    "    def get_count(cls):\n",
    "        return cls.count\n",
    "\n",
    "    @staticmethod\n",
    "    def get_vet_info():\n",
    "        return \"Dr. Sam, NYC\"\n",
    "\n",
    "dog1 = Dog(\"Lucky\")\n",
    "dog1.bark()"
   ]
  },
  {
   "cell_type": "code",
   "execution_count": null,
   "id": "34185e63-1eb9-4b95-a8c4-fd95063993ad",
   "metadata": {},
   "outputs": [],
   "source": []
  },
  {
   "cell_type": "code",
   "execution_count": 9,
   "id": "42c23bc3-07aa-4cdd-a8cd-66ece01262d2",
   "metadata": {},
   "outputs": [],
   "source": [
    "# Example\n",
    "class Person:\n",
    "    count = 0 #class attributes\n",
    "\n",
    "    def __init__(self, name, address = \"Chitwan\"): # constructor Initializer\n",
    "        self.name = name\n",
    "        self.address = address\n",
    "        Person.count += 1\n",
    "\n",
    "    def update_name(self, new_name): # Instance Method\n",
    "        self.name = new_name\n",
    "        print(f\"Name Updated to {self.name}\")\n",
    "\n",
    "    @classmethod\n",
    "    def get_count(cls): # Class Method\n",
    "        return cls.count\n",
    "\n",
    "    @staticmethod\n",
    "    def create_fullname(firstname, lastname):#(Static method) # unrelated to anything \n",
    "        return f\"{firstname}, {lastname}\"\n",
    "        "
   ]
  },
  {
   "cell_type": "code",
   "execution_count": 10,
   "id": "9935d34e-d8df-4460-97ba-df5efdf199a5",
   "metadata": {},
   "outputs": [
    {
     "data": {
      "text/plain": [
       "'Hari'"
      ]
     },
     "execution_count": 10,
     "metadata": {},
     "output_type": "execute_result"
    }
   ],
   "source": [
    "person1 = Person(name = \"Hari\")\n",
    "person1.name"
   ]
  },
  {
   "cell_type": "code",
   "execution_count": 11,
   "id": "1f9e9846-5480-4553-a84e-e90eeed02d23",
   "metadata": {},
   "outputs": [
    {
     "name": "stdout",
     "output_type": "stream",
     "text": [
      "Name Updated to Ankit Subedi\n"
     ]
    }
   ],
   "source": [
    "person1.update_name(\"Ankit Subedi\")"
   ]
  },
  {
   "cell_type": "code",
   "execution_count": 12,
   "id": "9be18831-0ef5-462e-b7f2-6b9662ae62fb",
   "metadata": {},
   "outputs": [
    {
     "data": {
      "text/plain": [
       "'Ankit Subedi'"
      ]
     },
     "execution_count": 12,
     "metadata": {},
     "output_type": "execute_result"
    }
   ],
   "source": [
    "person1.name"
   ]
  },
  {
   "cell_type": "code",
   "execution_count": 13,
   "id": "4db841dd-bf3e-4be9-ba57-5bfabed91a04",
   "metadata": {},
   "outputs": [
    {
     "data": {
      "text/plain": [
       "'Aauysh, Nepal'"
      ]
     },
     "execution_count": 13,
     "metadata": {},
     "output_type": "execute_result"
    }
   ],
   "source": [
    "#Static method\n",
    "person1.create_fullname(\"Aauysh\", \"Nepal\")"
   ]
  },
  {
   "cell_type": "code",
   "execution_count": 14,
   "id": "a7884dd9-158e-4036-b566-fbf4fd8f5393",
   "metadata": {},
   "outputs": [
    {
     "name": "stdout",
     "output_type": "stream",
     "text": [
      "1\n"
     ]
    }
   ],
   "source": [
    "print(Person.count)"
   ]
  },
  {
   "cell_type": "code",
   "execution_count": null,
   "id": "19df7bca-0cbd-41e7-9248-bdc7342bbd9c",
   "metadata": {},
   "outputs": [],
   "source": []
  },
  {
   "cell_type": "code",
   "execution_count": null,
   "id": "120da01e-21b7-4918-82ec-ce35acd81796",
   "metadata": {},
   "outputs": [],
   "source": [
    "books = [ \n",
    "            (\"The Alchemist\", 25),\n",
    "            (\"The Da Vinci Code\", 30),\n",
    "            (\"A Brief History of Time\", 15),\n",
    "            (\"Angels & Demons\", 0),\n",
    "            (\"The Grand Design\", 0),\n",
    "            (\"1984\", 19)\n",
    "        ]"
   ]
  },
  {
   "cell_type": "code",
   "execution_count": 46,
   "id": "9faed6c5-19f0-497c-be79-7b809b3b485f",
   "metadata": {},
   "outputs": [],
   "source": [
    "class Library:\n",
    "    def __init__(self, name):\n",
    "        self.student_name = name\n",
    "        self.books = [ \n",
    "            (\"The Alchemist\", 25),\n",
    "            (\"The Da Vinci Code\", 30),\n",
    "            (\"A Brief History of Time\", 15),\n",
    "            (\"Angels & Demons\", 0),\n",
    "            (\"The Grand Design\", 0),\n",
    "            (\"1984\", 19)\n",
    "        ]\n",
    "\n",
    "    def can_burrow(self, book_name):\n",
    "        status = [name for name, quantity in self.books if (name == book_name) & (quantity > 0)]\n",
    "        return \"can burrow\" if status else \"can't burrow\""
   ]
  },
  {
   "cell_type": "code",
   "execution_count": 47,
   "id": "c8715754-56f0-4796-a5a4-c7c6f6f071ac",
   "metadata": {},
   "outputs": [
    {
     "data": {
      "text/plain": [
       "'can burrow'"
      ]
     },
     "execution_count": 47,
     "metadata": {},
     "output_type": "execute_result"
    }
   ],
   "source": [
    "student = Library(\"Ankit\")\n",
    "student.can_burrow(\"1984\")"
   ]
  },
  {
   "cell_type": "code",
   "execution_count": 28,
   "id": "47fd1699-89b6-4e44-bf41-3d38cabea374",
   "metadata": {},
   "outputs": [
    {
     "name": "stdout",
     "output_type": "stream",
     "text": [
      "hello:\n"
     ]
    }
   ],
   "source": []
  },
  {
   "cell_type": "code",
   "execution_count": null,
   "id": "c4bf5703-37cf-4f6b-ac64-e96d09588980",
   "metadata": {},
   "outputs": [],
   "source": []
  },
  {
   "cell_type": "code",
   "execution_count": null,
   "id": "fc13cb54-64fd-420d-9cb3-55b3af9b6dc8",
   "metadata": {},
   "outputs": [],
   "source": []
  },
  {
   "cell_type": "code",
   "execution_count": null,
   "id": "e55abb31-3620-4090-854a-d6e336cfff51",
   "metadata": {},
   "outputs": [],
   "source": []
  },
  {
   "cell_type": "code",
   "execution_count": null,
   "id": "b144edb6-5ffc-46a1-8ba1-37f6994b7dec",
   "metadata": {},
   "outputs": [],
   "source": []
  }
 ],
 "metadata": {
  "kernelspec": {
   "display_name": "Python 3 (ipykernel)",
   "language": "python",
   "name": "python3"
  },
  "language_info": {
   "codemirror_mode": {
    "name": "ipython",
    "version": 3
   },
   "file_extension": ".py",
   "mimetype": "text/x-python",
   "name": "python",
   "nbconvert_exporter": "python",
   "pygments_lexer": "ipython3",
   "version": "3.11.10"
  }
 },
 "nbformat": 4,
 "nbformat_minor": 5
}

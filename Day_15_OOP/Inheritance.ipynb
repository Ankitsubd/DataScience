{
 "cells": [
  {
   "cell_type": "markdown",
   "id": "db7efc23-8a9f-4901-907e-c71e45bfbb0d",
   "metadata": {},
   "source": [
    "## Inheritance "
   ]
  },
  {
   "cell_type": "markdown",
   "id": "3ce2f3c6-0ced-4174-9f2b-f476d9891da1",
   "metadata": {},
   "source": [
    "#### 1. Single Inheritance"
   ]
  },
  {
   "cell_type": "code",
   "execution_count": 1,
   "id": "3862517a-2ac8-4de8-a8b4-15d1a07ad5c7",
   "metadata": {},
   "outputs": [],
   "source": [
    "class Animal:\n",
    "    def __init__(self, name, age):\n",
    "        self.name = name\n",
    "        self.age = age\n",
    "\n",
    "    def intro(self):\n",
    "        print(f\"My name is {self.name}.\")"
   ]
  },
  {
   "cell_type": "code",
   "execution_count": 2,
   "id": "c0b27169-afc7-47dd-8207-eee11c88c8cb",
   "metadata": {},
   "outputs": [],
   "source": [
    "class Cat(Animal):\n",
    "    def __init__(self, name, age, color):\n",
    "        super().__init__(name, age) # access init parent class\n",
    "        self.color = color\n",
    "        \n",
    "    def speak(self):\n",
    "        print(\"Meow\")"
   ]
  },
  {
   "cell_type": "code",
   "execution_count": 3,
   "id": "4292b599-c2ca-46bc-bdb1-52c51aee6a8e",
   "metadata": {},
   "outputs": [],
   "source": [
    "cat = Cat(\"fluffy\", 3, \"white\")"
   ]
  },
  {
   "cell_type": "code",
   "execution_count": 4,
   "id": "e93cb984-c1d7-4ca8-ab7c-55ec5bfe3d20",
   "metadata": {},
   "outputs": [
    {
     "name": "stdout",
     "output_type": "stream",
     "text": [
      "My name is fluffy.\n",
      "Meow\n"
     ]
    }
   ],
   "source": [
    "cat.intro()\n",
    "cat.speak()"
   ]
  },
  {
   "cell_type": "markdown",
   "id": "5c981742-7f33-4646-8e8a-45c7b662696e",
   "metadata": {},
   "source": [
    "#### 2. Multiple Inheritance"
   ]
  },
  {
   "cell_type": "code",
   "execution_count": 5,
   "id": "a665509e-1b38-4693-be4a-ec0cac0ce497",
   "metadata": {},
   "outputs": [],
   "source": [
    "class Parent1:\n",
    "    def func1(self):\n",
    "        print(\"This is Parent 1\")\n",
    "class Parent2:\n",
    "    def func2(self):\n",
    "        print(\"This is Parent 2\")\n",
    "        \n",
    "class Parent3:\n",
    "    def func3(self):\n",
    "        print(\"This is Parent 3\")\n",
    "\n",
    "class Child(Parent1, Parent2, Parent3):\n",
    "    def func4(self):\n",
    "        print(\"This is child Function\")"
   ]
  },
  {
   "cell_type": "code",
   "execution_count": 6,
   "id": "8d177f59-c8e1-4415-8bdc-8b85cfd8fa26",
   "metadata": {},
   "outputs": [],
   "source": [
    "obj = Child()"
   ]
  },
  {
   "cell_type": "code",
   "execution_count": 7,
   "id": "d112ceb7-6439-4ecf-ad67-50bb023a83ad",
   "metadata": {},
   "outputs": [
    {
     "name": "stdout",
     "output_type": "stream",
     "text": [
      "This is Parent 1\n",
      "This is Parent 2\n",
      "This is Parent 3\n",
      "This is child Function\n"
     ]
    }
   ],
   "source": [
    "obj.func1()\n",
    "obj.func2()\n",
    "obj.func3()\n",
    "obj.func4()"
   ]
  },
  {
   "cell_type": "code",
   "execution_count": null,
   "id": "09d019b1-7821-489f-8c4f-da6ac4d0cb10",
   "metadata": {},
   "outputs": [],
   "source": []
  },
  {
   "cell_type": "markdown",
   "id": "a9420c14-3254-4c70-8c7a-405c8c8c0c1f",
   "metadata": {},
   "source": [
    "#### Multi-Level Inheritance"
   ]
  },
  {
   "cell_type": "code",
   "execution_count": 8,
   "id": "52b96d78-f78a-4c1c-ba11-304e4cdfe4df",
   "metadata": {},
   "outputs": [],
   "source": [
    "class A:\n",
    "    def method_a(self):\n",
    "        print(\"This is method from Class A\")\n",
    "\n",
    "class B(A):\n",
    "    def method_b(self):\n",
    "        print(\"This is method from Class B\")\n",
    "\n",
    "class C(B):\n",
    "    def method_c(self):\n",
    "        print(\"This is method from Class C\")"
   ]
  },
  {
   "cell_type": "code",
   "execution_count": 9,
   "id": "127adabd-a1a3-44e2-a86c-65cbf103b5e6",
   "metadata": {},
   "outputs": [
    {
     "name": "stdout",
     "output_type": "stream",
     "text": [
      "This is method from Class A\n",
      "This is method from Class B\n",
      "This is method from Class C\n"
     ]
    }
   ],
   "source": [
    "obj = C()  # method C can call all parent Class, here is 3\n",
    "obj.method_a()\n",
    "obj.method_b()\n",
    "obj.method_c()"
   ]
  },
  {
   "cell_type": "code",
   "execution_count": 10,
   "id": "f5f78fef-4588-4dc8-a576-9377a86e499b",
   "metadata": {},
   "outputs": [
    {
     "name": "stdout",
     "output_type": "stream",
     "text": [
      "This is method from Class A\n",
      "This is method from Class B\n"
     ]
    }
   ],
   "source": [
    "obej = B() # here is 2\n",
    "obej.method_a()\n",
    "obej.method_b()"
   ]
  },
  {
   "cell_type": "code",
   "execution_count": 11,
   "id": "d327560a-dc78-4ec7-be12-8feb1e45be93",
   "metadata": {},
   "outputs": [
    {
     "name": "stdout",
     "output_type": "stream",
     "text": [
      "This is method from Class A\n"
     ]
    }
   ],
   "source": [
    "obb = A() # here is 1\n",
    "obb.method_a()"
   ]
  },
  {
   "cell_type": "code",
   "execution_count": null,
   "id": "66cf619e-0216-4601-ae0b-6df331740b9a",
   "metadata": {},
   "outputs": [],
   "source": []
  },
  {
   "cell_type": "markdown",
   "id": "1130f99f-f35d-4f6c-b03a-c7a0c79e7a64",
   "metadata": {},
   "source": [
    "#### 4. Hierarchical Inheritance"
   ]
  },
  {
   "cell_type": "code",
   "execution_count": 18,
   "id": "21f95d43-06a1-476b-84b9-897f59517f54",
   "metadata": {},
   "outputs": [],
   "source": [
    "class Animal:\n",
    "    def __init__(self, name):\n",
    "        self.name = name\n",
    "\n",
    "    def intro(self):\n",
    "        print(f\"Hello, I am {self.name}\")"
   ]
  },
  {
   "cell_type": "code",
   "execution_count": 19,
   "id": "1c1751f3-7ba1-4617-ad35-9fd7c85f9783",
   "metadata": {},
   "outputs": [],
   "source": [
    "class Cat(Animal):\n",
    "    def speak(self):\n",
    "        return \"Meow\"\n",
    "\n",
    "class Dog(Animal):\n",
    "    def speak(self):\n",
    "        return \"Woof\"\n",
    "        \n",
    "class Lion(Animal):\n",
    "    def speak(self):\n",
    "        return \"Roar\"\n"
   ]
  },
  {
   "cell_type": "code",
   "execution_count": 21,
   "id": "5ceca152-3b91-4824-944f-b771f6f32d14",
   "metadata": {},
   "outputs": [
    {
     "name": "stdout",
     "output_type": "stream",
     "text": [
      "Hello, I am Fluffy\n"
     ]
    },
    {
     "data": {
      "text/plain": [
       "'Meow'"
      ]
     },
     "execution_count": 21,
     "metadata": {},
     "output_type": "execute_result"
    }
   ],
   "source": [
    "cat = Cat(\"Fluffy\")\n",
    "cat.intro()\n",
    "cat.speak()"
   ]
  },
  {
   "cell_type": "code",
   "execution_count": null,
   "id": "c79062bf-7f71-4030-936c-072b19aa9773",
   "metadata": {},
   "outputs": [],
   "source": []
  },
  {
   "cell_type": "markdown",
   "id": "27dcd39b-7680-4c52-8150-1249a23f9c15",
   "metadata": {},
   "source": [
    "#### 5. Hybrid Inheritance"
   ]
  },
  {
   "cell_type": "code",
   "execution_count": 44,
   "id": "08af3870-4962-432e-bae6-1bd5598bdc1b",
   "metadata": {},
   "outputs": [],
   "source": [
    "class Animal:\n",
    "    def __init__(self, name):\n",
    "        self.name = name\n",
    "\n",
    "    def intro(self):\n",
    "        print(f\"Hello, I am {self.name}\")"
   ]
  },
  {
   "cell_type": "code",
   "execution_count": 25,
   "id": "a3a3ea2f-4544-4406-b479-eb7872a3c390",
   "metadata": {},
   "outputs": [],
   "source": [
    "class Mammal(Animal):\n",
    "    def __init__(self, name, fur = True):\n",
    "        super().__init__(name)\n",
    "\n",
    "\n",
    "    def birth(self):\n",
    "        print(f\"{self.name} give birth to live ones!\")\n",
    "\n",
    "class Birds(Animal):\n",
    "    def fly(self):\n",
    "        print(f\"{self.name} can fly !\")"
   ]
  },
  {
   "cell_type": "code",
   "execution_count": 26,
   "id": "89fd4469-fd57-4bdc-bbfb-2bdf93539e71",
   "metadata": {},
   "outputs": [],
   "source": [
    "class Bat(Mammal, Birds):\n",
    "    pass"
   ]
  },
  {
   "cell_type": "code",
   "execution_count": 27,
   "id": "dadbe6ba-1fc3-40b6-8353-49e588913d07",
   "metadata": {},
   "outputs": [],
   "source": [
    "b = Bat(\"Bruce\")\n"
   ]
  },
  {
   "cell_type": "code",
   "execution_count": null,
   "id": "295130af-7805-4acf-9971-6d736aa062da",
   "metadata": {},
   "outputs": [],
   "source": []
  },
  {
   "cell_type": "code",
   "execution_count": null,
   "id": "36b6a603-ef52-465c-976b-6f192704ac28",
   "metadata": {},
   "outputs": [],
   "source": [
    "# Inheritance\n",
    "# Question:You are tasked with designing a system for an online bookstore. Create a base class Book with the following attributes and methods:\n",
    "# Attributes:\n",
    "# title (string)\n",
    "# author (string)\n",
    "# price (float)\n",
    "# Methods:\n",
    "# __init__() to initialize the attributes.\n",
    "# display_info() to print the details of the book in the format:\n",
    "# \"Title: [title], Author: [author], Price: $[price]\"\n",
    "# Now, create a derived class EBook that inherits from the Book class with the following additional attribute and method:\n",
    "# Additional Attribute:\n",
    "# file_size (float in MB)\n",
    "# Method:\n",
    "# __init__() to initialize all attributes of EBook, including those inherited from the Book class.\n",
    "# Override the display_info() method to include the file size in the format:\n",
    "# \"Title: [title], Author: [author], Price: $[price], File Size: [file_size] MB\"\n",
    "# Finally, demonstrate the usage of both classes by creating:\n",
    "# An object of Book and displaying its information.\n",
    "# An object of EBook and displaying its information.\n",
    " "
   ]
  },
  {
   "cell_type": "code",
   "execution_count": 48,
   "id": "5bea691f-7b90-4465-bd3b-8c555ba90fb7",
   "metadata": {},
   "outputs": [],
   "source": [
    "class Book:\n",
    "    def __init__(self, title: str, author: str, price: float):\n",
    "        self.title = title\n",
    "        self.author = author\n",
    "        self.price = price\n",
    "\n",
    "    def display_info(self):\n",
    "        print(f\"Title: {self.title}, Author: {self.author}, Price: ${self.price}\")\n",
    "\n",
    "class EBook(Book):\n",
    "    def __init__(self, title, author, price, file_size: float):\n",
    "        super().__init__(title, author, price)\n",
    "        self.file_size = file_size\n",
    "        \n",
    "    def display_info(self):\n",
    "        print(f\"Title: {self.title}, Author: {self.author}, Price: ${self.price}, File Size: {self.file_size} MB\")\n",
    "    "
   ]
  },
  {
   "cell_type": "code",
   "execution_count": 49,
   "id": "99b257d8-ce6f-43d7-a050-cde0590dfa63",
   "metadata": {},
   "outputs": [
    {
     "name": "stdout",
     "output_type": "stream",
     "text": [
      "Title: A book, Author: Ankit, Price: $555.55\n"
     ]
    }
   ],
   "source": [
    "obj = Book(\"A book\", \"Ankit\", 555.55)\n",
    "obj.display_info()"
   ]
  },
  {
   "cell_type": "code",
   "execution_count": 53,
   "id": "d0ded427-07b1-4e0e-a456-48b8104626f8",
   "metadata": {},
   "outputs": [],
   "source": [
    "objj = EBook(\"A book\", \"Ankit\", 555.55,5.66)"
   ]
  },
  {
   "cell_type": "code",
   "execution_count": 54,
   "id": "faf52b78-d568-4a97-bb6a-4178771b974c",
   "metadata": {},
   "outputs": [
    {
     "name": "stdout",
     "output_type": "stream",
     "text": [
      "Title: A book, Author: Ankit, Price: $555.55, File Size: 5.66 MB\n"
     ]
    }
   ],
   "source": [
    "objj.display_info()"
   ]
  },
  {
   "cell_type": "code",
   "execution_count": null,
   "id": "f29b422a-b6f0-4a42-843a-bd74ccc6e9e5",
   "metadata": {},
   "outputs": [],
   "source": []
  },
  {
   "cell_type": "code",
   "execution_count": null,
   "id": "114a284e-a754-42da-840d-b74ba8b804ab",
   "metadata": {},
   "outputs": [],
   "source": []
  },
  {
   "cell_type": "code",
   "execution_count": null,
   "id": "04e2e5db-064d-4ebe-ad85-bd45a6367d0e",
   "metadata": {},
   "outputs": [],
   "source": []
  }
 ],
 "metadata": {
  "kernelspec": {
   "display_name": "Python 3 (ipykernel)",
   "language": "python",
   "name": "python3"
  },
  "language_info": {
   "codemirror_mode": {
    "name": "ipython",
    "version": 3
   },
   "file_extension": ".py",
   "mimetype": "text/x-python",
   "name": "python",
   "nbconvert_exporter": "python",
   "pygments_lexer": "ipython3",
   "version": "3.11.10"
  }
 },
 "nbformat": 4,
 "nbformat_minor": 5
}

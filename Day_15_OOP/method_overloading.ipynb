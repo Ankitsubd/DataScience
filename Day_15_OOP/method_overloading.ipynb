{
 "cells": [
  {
   "cell_type": "markdown",
   "id": "c805b858-5046-4954-be25-44efd11bdb73",
   "metadata": {},
   "source": [
    "## Method OverLoading"
   ]
  },
  {
   "cell_type": "code",
   "execution_count": 1,
   "id": "78c81b26-7c7d-4125-bf08-e07264208045",
   "metadata": {},
   "outputs": [],
   "source": [
    "class Example:\n",
    "    def add(self, a, b = 0, c = 0):\n",
    "        return a + b + c"
   ]
  },
  {
   "cell_type": "markdown",
   "id": "dce0f9b4-5382-40ea-9d1c-24f5e745ed25",
   "metadata": {},
   "source": [
    "#### *args, *kwargs"
   ]
  },
  {
   "cell_type": "code",
   "execution_count": 5,
   "id": "8ea7cee9-933c-4ed1-b7fc-5d977096d2f3",
   "metadata": {},
   "outputs": [],
   "source": [
    "class Example:\n",
    "    def add(self, *args):\n",
    "        if len(args) == 1:\n",
    "            return args[0]\n",
    "        elif len(args) == 2:\n",
    "            return args[0] + args[1]\n",
    "        else:\n",
    "            return \"Length Mismatch\""
   ]
  },
  {
   "cell_type": "code",
   "execution_count": 6,
   "id": "a2c605b3-956b-4704-a54d-b2e8d884ab98",
   "metadata": {},
   "outputs": [
    {
     "data": {
      "text/plain": [
       "7"
      ]
     },
     "execution_count": 6,
     "metadata": {},
     "output_type": "execute_result"
    }
   ],
   "source": [
    "ex = Example()\n",
    "ex.add(2,5)"
   ]
  },
  {
   "cell_type": "code",
   "execution_count": null,
   "id": "86764c69-7733-42b5-bf5e-0e800246f340",
   "metadata": {},
   "outputs": [],
   "source": []
  },
  {
   "cell_type": "code",
   "execution_count": null,
   "id": "a97dddc5-6ca2-438c-acba-0f43254e063b",
   "metadata": {},
   "outputs": [],
   "source": []
  },
  {
   "cell_type": "code",
   "execution_count": null,
   "id": "d5314904-a2d4-492c-bcc1-5ad98b50b632",
   "metadata": {},
   "outputs": [],
   "source": []
  },
  {
   "cell_type": "code",
   "execution_count": null,
   "id": "13232aa8-f001-4d5d-9617-d3ab014fac6b",
   "metadata": {},
   "outputs": [],
   "source": []
  },
  {
   "cell_type": "code",
   "execution_count": null,
   "id": "c783bd4b-2a3b-4985-aed2-8651a3c76cc2",
   "metadata": {},
   "outputs": [],
   "source": []
  }
 ],
 "metadata": {
  "kernelspec": {
   "display_name": "Python 3 (ipykernel)",
   "language": "python",
   "name": "python3"
  },
  "language_info": {
   "codemirror_mode": {
    "name": "ipython",
    "version": 3
   },
   "file_extension": ".py",
   "mimetype": "text/x-python",
   "name": "python",
   "nbconvert_exporter": "python",
   "pygments_lexer": "ipython3",
   "version": "3.11.10"
  }
 },
 "nbformat": 4,
 "nbformat_minor": 5
}

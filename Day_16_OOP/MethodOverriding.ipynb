{
 "cells": [
  {
   "cell_type": "markdown",
   "id": "f248ff68-8f61-481b-9b86-095f6f7448df",
   "metadata": {},
   "source": [
    "## Method of Overriding"
   ]
  },
  {
   "cell_type": "code",
   "execution_count": 5,
   "id": "1dfbb677-0306-4eaf-878e-ec3fe43a7f4c",
   "metadata": {},
   "outputs": [],
   "source": [
    "class Animal:\n",
    "    def sound(self):\n",
    "        print(\"Making Animal Sound\")\n",
    "\n",
    "class Dog(Animal):\n",
    "    def sound(self, soundd):\n",
    "        print(f\"Dog makes {soundd} sound\")\n",
    "\n",
    "class Cat(Animal):\n",
    "    def sound(self):\n",
    "        print(f\"Meowing\")\n"
   ]
  },
  {
   "cell_type": "code",
   "execution_count": 6,
   "id": "0499a9e5-6411-4c5a-b178-40bd25bf0f1d",
   "metadata": {},
   "outputs": [
    {
     "name": "stdout",
     "output_type": "stream",
     "text": [
      "Making Animal Sound\n"
     ]
    }
   ],
   "source": [
    "animal = Animal()\n",
    "animal.sound()"
   ]
  },
  {
   "cell_type": "code",
   "execution_count": 7,
   "id": "d64c5222-eb8a-4647-861e-0bdbcd790d59",
   "metadata": {},
   "outputs": [
    {
     "name": "stdout",
     "output_type": "stream",
     "text": [
      "Dog makes wauuu sound\n"
     ]
    }
   ],
   "source": [
    "dog = Dog()\n",
    "dog.sound(\"wauuu\")"
   ]
  },
  {
   "cell_type": "code",
   "execution_count": 8,
   "id": "d202e867-b150-4030-ad12-f790a41a0dd6",
   "metadata": {},
   "outputs": [
    {
     "name": "stdout",
     "output_type": "stream",
     "text": [
      "Meowing\n"
     ]
    }
   ],
   "source": [
    "cat = Cat()\n",
    "cat.sound()"
   ]
  },
  {
   "cell_type": "code",
   "execution_count": null,
   "id": "53025f17-7fd3-44c0-90ad-3189a1f1b2c1",
   "metadata": {},
   "outputs": [],
   "source": []
  },
  {
   "cell_type": "code",
   "execution_count": 11,
   "id": "6da0b1fa-303c-40e5-a062-89debac8bbf9",
   "metadata": {},
   "outputs": [],
   "source": [
    "class Parent:\n",
    "    def say_hello(self):\n",
    "        print(\"Hello from parent\")\n",
    "\n",
    "class Child(Parent):\n",
    "    def say_hello(self):\n",
    "        print(\"Hello from child\")"
   ]
  },
  {
   "cell_type": "code",
   "execution_count": 12,
   "id": "e7b38ea0-f9fd-4927-aca2-78b518a91e4a",
   "metadata": {},
   "outputs": [
    {
     "name": "stdout",
     "output_type": "stream",
     "text": [
      "Hello from child\n"
     ]
    }
   ],
   "source": [
    "obj = Child()\n",
    "obj.say_hello()"
   ]
  },
  {
   "cell_type": "code",
   "execution_count": 21,
   "id": "fa6404b8-c8f2-4032-bd6d-76906c186220",
   "metadata": {},
   "outputs": [],
   "source": [
    "class Parent:\n",
    "    def say_hello(self):\n",
    "        print(\"Hello from parent\")\n",
    "\n",
    "class Child(Parent):\n",
    "    def say_hello(self):\n",
    "        super().say_hello()\n",
    "        print(\"Hello from child\")"
   ]
  },
  {
   "cell_type": "code",
   "execution_count": 22,
   "id": "c964cbab-6685-4275-a77d-6b53886d0d52",
   "metadata": {},
   "outputs": [
    {
     "name": "stdout",
     "output_type": "stream",
     "text": [
      "Hello from parent\n",
      "Hello from child\n"
     ]
    }
   ],
   "source": [
    "objj = Child()\n",
    "objj.say_hello()"
   ]
  },
  {
   "cell_type": "markdown",
   "id": "565858d1-7bdd-4145-967c-bb8cb890102b",
   "metadata": {},
   "source": [
    "#### Class test\n",
    "\n",
    "Problem 1: Control Flow with Nested Loops and Complex Logic\n",
    "\n",
    "Write a Python program that simulates a **number guessing game**:\n",
    "1. The program should generate a random number between 1 and 100 and give the user 7 attempts to guess it.\n",
    "2. After each wrong guess, the program should provide a hint whether the guess was too high or too low.\n",
    "3. If the user fails to guess the number within the attempts, the program should reveal the number and ask if they would like to play again."
   ]
  },
  {
   "cell_type": "code",
   "execution_count": 1,
   "id": "87e1334a-7de4-412d-af1d-c143bb328ab8",
   "metadata": {},
   "outputs": [
    {
     "name": "stdin",
     "output_type": "stream",
     "text": [
      "Please guess the number:  53\n"
     ]
    },
    {
     "name": "stdout",
     "output_type": "stream",
     "text": [
      "Tow high\n"
     ]
    },
    {
     "name": "stdin",
     "output_type": "stream",
     "text": [
      "Please guess the number:  33\n"
     ]
    },
    {
     "name": "stdout",
     "output_type": "stream",
     "text": [
      "Tow high\n"
     ]
    },
    {
     "name": "stdin",
     "output_type": "stream",
     "text": [
      "Please guess the number:  23\n"
     ]
    },
    {
     "name": "stdout",
     "output_type": "stream",
     "text": [
      "Tow high\n"
     ]
    },
    {
     "name": "stdin",
     "output_type": "stream",
     "text": [
      "Please guess the number:  13\n"
     ]
    },
    {
     "name": "stdout",
     "output_type": "stream",
     "text": [
      "Tow high\n"
     ]
    },
    {
     "name": "stdin",
     "output_type": "stream",
     "text": [
      "Please guess the number:  11\n"
     ]
    },
    {
     "name": "stdout",
     "output_type": "stream",
     "text": [
      "Tow high\n"
     ]
    },
    {
     "name": "stdin",
     "output_type": "stream",
     "text": [
      "Please guess the number:  9\n"
     ]
    },
    {
     "name": "stdout",
     "output_type": "stream",
     "text": [
      "Tow high\n"
     ]
    },
    {
     "name": "stdin",
     "output_type": "stream",
     "text": [
      "Please guess the number:  7\n"
     ]
    },
    {
     "name": "stdout",
     "output_type": "stream",
     "text": [
      "You fail to guess the number\n",
      "Right answer is 2\n"
     ]
    },
    {
     "name": "stdin",
     "output_type": "stream",
     "text": [
      "Do you like to play again(yes or no):  yes\n",
      "Please guess the number:  8\n"
     ]
    },
    {
     "name": "stdout",
     "output_type": "stream",
     "text": [
      "Too low\n"
     ]
    },
    {
     "name": "stdin",
     "output_type": "stream",
     "text": [
      "Please guess the number:  45\n"
     ]
    },
    {
     "name": "stdout",
     "output_type": "stream",
     "text": [
      "Too low\n"
     ]
    },
    {
     "name": "stdin",
     "output_type": "stream",
     "text": [
      "Please guess the number:  88\n"
     ]
    },
    {
     "name": "stdout",
     "output_type": "stream",
     "text": [
      "You guessed right\n",
      "You guessed it in 3 times\n"
     ]
    }
   ],
   "source": [
    "from random import randint\n",
    "count = 0\n",
    "secret_number = randint(1,100)\n",
    "while True:\n",
    "    count += 1\n",
    "    number = int(input(\"Please guess the number: \"))\n",
    "    if count < 7:\n",
    "        if number == secret_number:\n",
    "            print(\"You guessed right\")\n",
    "            print(f\"You guessed it in {count} times\")\n",
    "            break\n",
    "            \n",
    "        elif number > secret_number:\n",
    "            print(\"Tow high\")\n",
    "            \n",
    "        else:\n",
    "            print(\"Too low\")\n",
    "    else:\n",
    "        print(\"You fail to guess the number\")\n",
    "        print(f\"Right answer is {secret_number}\")\n",
    "        again = input(\"Do you like to play again(yes or no): \")\n",
    "        if again == \"yes\":\n",
    "            count = 0\n",
    "            secret_number = randint(1,100)\n",
    "            continue\n",
    "    \n",
    "        else:\n",
    "            break            \n",
    "        "
   ]
  },
  {
   "cell_type": "code",
   "execution_count": null,
   "id": "80f980b9-43e9-4c42-a742-3474cef470ea",
   "metadata": {},
   "outputs": [],
   "source": []
  },
  {
   "cell_type": "code",
   "execution_count": null,
   "id": "9cfcae41-11c2-4b9f-936f-92290ffa0524",
   "metadata": {},
   "outputs": [],
   "source": []
  },
  {
   "cell_type": "code",
   "execution_count": null,
   "id": "5c4dc2da-890c-4417-849d-213d9efefe7f",
   "metadata": {},
   "outputs": [],
   "source": []
  },
  {
   "cell_type": "code",
   "execution_count": null,
   "id": "c2c7bb1a-ed74-4f20-b1a5-3e468743a74f",
   "metadata": {},
   "outputs": [],
   "source": []
  },
  {
   "cell_type": "code",
   "execution_count": null,
   "id": "fdf0bb28-001e-4e39-acb2-28e9e617f39f",
   "metadata": {},
   "outputs": [],
   "source": []
  },
  {
   "cell_type": "code",
   "execution_count": null,
   "id": "8f2e0e4c-f17d-46ea-8cba-2c557f697fca",
   "metadata": {},
   "outputs": [],
   "source": []
  },
  {
   "cell_type": "code",
   "execution_count": null,
   "id": "8a0ab619-81ab-428a-8d8c-5990c13ef0ad",
   "metadata": {},
   "outputs": [],
   "source": []
  },
  {
   "cell_type": "code",
   "execution_count": null,
   "id": "a8b7e6a1-e8e4-40ea-8188-7aaaa724104a",
   "metadata": {},
   "outputs": [],
   "source": []
  },
  {
   "cell_type": "code",
   "execution_count": null,
   "id": "2b71495e-b464-4776-8dca-d2b03a77bdb2",
   "metadata": {},
   "outputs": [],
   "source": []
  }
 ],
 "metadata": {
  "kernelspec": {
   "display_name": "Python 3 (ipykernel)",
   "language": "python",
   "name": "python3"
  },
  "language_info": {
   "codemirror_mode": {
    "name": "ipython",
    "version": 3
   },
   "file_extension": ".py",
   "mimetype": "text/x-python",
   "name": "python",
   "nbconvert_exporter": "python",
   "pygments_lexer": "ipython3",
   "version": "3.11.10"
  }
 },
 "nbformat": 4,
 "nbformat_minor": 5
}

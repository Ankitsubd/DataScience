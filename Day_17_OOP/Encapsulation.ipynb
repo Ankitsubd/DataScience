{
 "cells": [
  {
   "cell_type": "markdown",
   "id": "3adbfd43-0d65-427f-884d-d8a094a10498",
   "metadata": {},
   "source": [
    "## Encapsulation\n",
    "\n",
    "\n",
    "#### Protected: (_)\n",
    "#### Private: (__)\n"
   ]
  },
  {
   "cell_type": "code",
   "execution_count": 8,
   "id": "6f212d15-e0a5-45f3-a030-86bc7f6dc648",
   "metadata": {},
   "outputs": [],
   "source": [
    "class Example:\n",
    "    def __init__(self):\n",
    "        self.public = 1\n",
    "        self._protect = 2\n",
    "        self.__private = 3 # Can't use directly outside of class\n"
   ]
  },
  {
   "cell_type": "code",
   "execution_count": 9,
   "id": "6f577f5c-25d0-486e-b96e-9b1952788972",
   "metadata": {},
   "outputs": [],
   "source": [
    "obj = Example()"
   ]
  },
  {
   "cell_type": "code",
   "execution_count": 10,
   "id": "34375b86-afd1-4edc-a6ee-e1263b26d34c",
   "metadata": {},
   "outputs": [
    {
     "data": {
      "text/plain": [
       "1"
      ]
     },
     "execution_count": 10,
     "metadata": {},
     "output_type": "execute_result"
    }
   ],
   "source": [
    "obj.public"
   ]
  },
  {
   "cell_type": "code",
   "execution_count": 11,
   "id": "cae33a56-5bfa-4395-bf68-1cdfff531dc9",
   "metadata": {},
   "outputs": [
    {
     "data": {
      "text/plain": [
       "2"
      ]
     },
     "execution_count": 11,
     "metadata": {},
     "output_type": "execute_result"
    }
   ],
   "source": [
    "obj._protect"
   ]
  },
  {
   "cell_type": "code",
   "execution_count": 12,
   "id": "bf93798b-2ac8-4997-a91c-ef21144d767c",
   "metadata": {},
   "outputs": [
    {
     "ename": "AttributeError",
     "evalue": "'Example' object has no attribute '__private'",
     "output_type": "error",
     "traceback": [
      "\u001b[0;31m---------------------------------------------------------------------------\u001b[0m",
      "\u001b[0;31mAttributeError\u001b[0m                            Traceback (most recent call last)",
      "Cell \u001b[0;32mIn[12], line 1\u001b[0m\n\u001b[0;32m----> 1\u001b[0m \u001b[43mobj\u001b[49m\u001b[38;5;241;43m.\u001b[39;49m\u001b[43m__private\u001b[49m\n",
      "\u001b[0;31mAttributeError\u001b[0m: 'Example' object has no attribute '__private'"
     ]
    }
   ],
   "source": [
    "obj.__private"
   ]
  },
  {
   "cell_type": "code",
   "execution_count": null,
   "id": "6a77f98b-96ea-4c90-9a83-67e2b9a3ec01",
   "metadata": {},
   "outputs": [],
   "source": []
  },
  {
   "cell_type": "code",
   "execution_count": null,
   "id": "c30f2bf6-60d5-4088-a124-0a7acf20e90a",
   "metadata": {},
   "outputs": [],
   "source": []
  },
  {
   "cell_type": "code",
   "execution_count": null,
   "id": "ca0d0ddf-c58b-4d7f-ac79-4ce9116564a3",
   "metadata": {},
   "outputs": [],
   "source": []
  },
  {
   "cell_type": "code",
   "execution_count": null,
   "id": "3c44593b-659e-4e7d-be22-51a19e1d9078",
   "metadata": {},
   "outputs": [],
   "source": []
  },
  {
   "cell_type": "code",
   "execution_count": null,
   "id": "7a1a027c-264d-4ba1-8096-751a972914d0",
   "metadata": {},
   "outputs": [],
   "source": []
  },
  {
   "cell_type": "code",
   "execution_count": null,
   "id": "972df35b-8236-4633-8353-afeaa278a818",
   "metadata": {},
   "outputs": [],
   "source": []
  }
 ],
 "metadata": {
  "kernelspec": {
   "display_name": "Python 3 (ipykernel)",
   "language": "python",
   "name": "python3"
  },
  "language_info": {
   "codemirror_mode": {
    "name": "ipython",
    "version": 3
   },
   "file_extension": ".py",
   "mimetype": "text/x-python",
   "name": "python",
   "nbconvert_exporter": "python",
   "pygments_lexer": "ipython3",
   "version": "3.11.10"
  }
 },
 "nbformat": 4,
 "nbformat_minor": 5
}

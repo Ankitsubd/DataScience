{
 "cells": [
  {
   "cell_type": "markdown",
   "id": "f25c79c9-e81c-4f14-84b9-f0e84935ee40",
   "metadata": {},
   "source": [
    "## Abstraction"
   ]
  },
  {
   "cell_type": "code",
   "execution_count": 4,
   "id": "2480111b-7d1e-47fd-84ca-0cedb895265d",
   "metadata": {},
   "outputs": [],
   "source": [
    "from abc import ABC, abstractmethod\n",
    "\n",
    "class Shape(ABC):\n",
    "    \n",
    "    @abstractmethod\n",
    "    def area(self):\n",
    "        pass\n",
    "\n",
    "    @abstractmethod\n",
    "    def perimeter(self):\n",
    "        pass\n",
    "\n",
    "    def volume(self): # not abstractmethod\n",
    "        return \"Not applicable for given shape\""
   ]
  },
  {
   "cell_type": "code",
   "execution_count": 5,
   "id": "e9b684cf-8fd8-4a1c-a7c4-71c50228289c",
   "metadata": {},
   "outputs": [
    {
     "ename": "TypeError",
     "evalue": "Can't instantiate abstract class Shape with abstract methods area, perimeter",
     "output_type": "error",
     "traceback": [
      "\u001b[0;31m---------------------------------------------------------------------------\u001b[0m",
      "\u001b[0;31mTypeError\u001b[0m                                 Traceback (most recent call last)",
      "Cell \u001b[0;32mIn[5], line 1\u001b[0m\n\u001b[0;32m----> 1\u001b[0m shape \u001b[38;5;241m=\u001b[39m \u001b[43mShape\u001b[49m\u001b[43m(\u001b[49m\u001b[43m)\u001b[49m\n",
      "\u001b[0;31mTypeError\u001b[0m: Can't instantiate abstract class Shape with abstract methods area, perimeter"
     ]
    }
   ],
   "source": [
    "shape = Shape()"
   ]
  },
  {
   "cell_type": "code",
   "execution_count": 6,
   "id": "57417917-af4c-42e1-acb7-e6662b1f0f96",
   "metadata": {},
   "outputs": [],
   "source": [
    "class Rectangle(Shape):\n",
    "    def __init__(self, width, length):\n",
    "        self.w = width\n",
    "        self.l = length\n",
    "\n",
    "    def area(self):\n",
    "        return self.w * self.l\n",
    "\n",
    "    def perimeter(self):\n",
    "        return 2 * (self.w + self.l)"
   ]
  },
  {
   "cell_type": "code",
   "execution_count": 7,
   "id": "1ef91798-7ef0-4f9f-907e-d5a6210155f5",
   "metadata": {},
   "outputs": [],
   "source": [
    "rect = Rectangle(34, 12)\n"
   ]
  },
  {
   "cell_type": "code",
   "execution_count": 8,
   "id": "7f37a81d-78d4-4698-836f-750b06957cfc",
   "metadata": {},
   "outputs": [
    {
     "data": {
      "text/plain": [
       "408"
      ]
     },
     "execution_count": 8,
     "metadata": {},
     "output_type": "execute_result"
    }
   ],
   "source": [
    "rect.area()"
   ]
  },
  {
   "cell_type": "code",
   "execution_count": 9,
   "id": "d63557da-085a-40dd-8657-21bc41f5b948",
   "metadata": {},
   "outputs": [
    {
     "data": {
      "text/plain": [
       "'Not applicable for given shape'"
      ]
     },
     "execution_count": 9,
     "metadata": {},
     "output_type": "execute_result"
    }
   ],
   "source": [
    "rect.volume()"
   ]
  },
  {
   "cell_type": "code",
   "execution_count": 13,
   "id": "cf61c6ee-44e5-4919-954f-8a3c594f8691",
   "metadata": {},
   "outputs": [],
   "source": [
    "class Cube(Shape):\n",
    "    def __init__(self,length):\n",
    "        self.l = length\n",
    "\n",
    "    def area(self):\n",
    "        return 6 * (self.l**2)\n",
    "\n",
    "    def perimeter(self):\n",
    "        return 12 * self.l\n",
    "\n",
    "    def volume(self):\n",
    "        return self.l **3 "
   ]
  },
  {
   "cell_type": "code",
   "execution_count": 14,
   "id": "dbf3ddef-159e-4d7d-b8d9-3205cf8ede5c",
   "metadata": {},
   "outputs": [],
   "source": [
    "cube = Cube(12)"
   ]
  },
  {
   "cell_type": "code",
   "execution_count": 16,
   "id": "1b1404da-4e6a-43bb-b17c-d77505ef01a4",
   "metadata": {},
   "outputs": [
    {
     "data": {
      "text/plain": [
       "1728"
      ]
     },
     "execution_count": 16,
     "metadata": {},
     "output_type": "execute_result"
    }
   ],
   "source": [
    "cube.volume()"
   ]
  },
  {
   "cell_type": "code",
   "execution_count": 17,
   "id": "86da7fe3-fe2f-46ac-aaf8-693da8cdcb1f",
   "metadata": {},
   "outputs": [
    {
     "data": {
      "text/plain": [
       "864"
      ]
     },
     "execution_count": 17,
     "metadata": {},
     "output_type": "execute_result"
    }
   ],
   "source": [
    "cube.area()"
   ]
  },
  {
   "cell_type": "code",
   "execution_count": 18,
   "id": "6d1271d3-56a7-4460-928c-bf919adb5b7f",
   "metadata": {},
   "outputs": [
    {
     "data": {
      "text/plain": [
       "144"
      ]
     },
     "execution_count": 18,
     "metadata": {},
     "output_type": "execute_result"
    }
   ],
   "source": [
    "cube.perimeter()"
   ]
  },
  {
   "cell_type": "code",
   "execution_count": null,
   "id": "def621b4-7eb2-477e-85a6-9c743e374215",
   "metadata": {},
   "outputs": [],
   "source": []
  },
  {
   "cell_type": "markdown",
   "id": "a6888c1f-4d0b-4a7e-8ed3-3307b7ae1fb2",
   "metadata": {},
   "source": [
    "#### Class test\n",
    "OOP Concepts\n",
    " \n",
    "\n",
    "Create a class `BankAccount` that:\n",
    "\n",
    "1. Allows a user to create an account by providing a **name** and an initial **balance**.\n",
    "\n",
    "2. Includes methods to **deposit**, **withdraw**, and **check balance**. The withdrawal should not allow an account to go negative.\n",
    "\n",
    "3. Overloads the `+` operator to allow merging of two accounts (sum of their balances) and returns a new account.\n",
    "\n",
    "4. Uses **Inheritance** to create a subclass `SavingsAccount` that adds an interest rate. Implement a method to calculate interest on the balance and update it accordingly.\n",
    "\n",
    "\n"
   ]
  },
  {
   "cell_type": "code",
   "execution_count": 6,
   "id": "00e83639-e9c2-4d53-9eb5-29ab907537e9",
   "metadata": {},
   "outputs": [],
   "source": [
    "class BankAccount:\n",
    "    def __init__(self, name, balance):\n",
    "        self.name = name\n",
    "        self.balance = balance\n",
    "\n",
    "    def deposit(self, amount = 0):\n",
    "        if amount >= 0:\n",
    "            self.balance += amount\n",
    "            print(f\"Deposit amount {amount}. New balance {self.balance}\")\n",
    "        else:\n",
    "            print(\"Deposit amount must be positive\")\n",
    "\n",
    "    def withdraw(self, amount = 0):\n",
    "        if 0 < amount <= self.balance:\n",
    "            self.balance -= amount\n",
    "            print(f\"Withdraw amount {amount}. Remaining balance {self.balance}\")\n",
    "        else:\n",
    "            print(\"Insufficient funds\")\n",
    "\n",
    "    def check_balance(self):\n",
    "\n",
    "        return f\"Balance: {self.balance}\"\n",
    "\n",
    "    def __add__(self, other):\n",
    "        new_account = f\"{self.name} & {other.name}\"\n",
    "        new_balance = self.balance + other.balance\n",
    "        return BankAccount(new_account, new_balance)\n",
    "\n",
    "class SavingAccount(BankAccount):\n",
    "    def __init__(self, name, balance, rate = 5):\n",
    "        super().__init__(name, balance)\n",
    "        self.rate = rate\n",
    "\n",
    "    def calculate_intrest(self):\n",
    "        interest = self.balance * (self.rate/100)\n",
    "        self.balance += interest\n",
    "        \n",
    "        return self.check_balance()\n",
    "\n",
    "\n"
   ]
  },
  {
   "cell_type": "code",
   "execution_count": 14,
   "id": "b6b65cf5-1319-4582-9aac-a736dc2ebf15",
   "metadata": {},
   "outputs": [
    {
     "name": "stdout",
     "output_type": "stream",
     "text": [
      "Deposit amount 10000. New balance 30000\n",
      "Withdraw amount 5000. Remaining balance 45000\n"
     ]
    },
    {
     "data": {
      "text/plain": [
       "'Balance: 75000'"
      ]
     },
     "execution_count": 14,
     "metadata": {},
     "output_type": "execute_result"
    }
   ],
   "source": [
    "my_acc = BankAccount(\"Ankit\", 20000)\n",
    "your_acc = BankAccount(\"Abhishek\", 50000)\n",
    "my_acc.deposit(10000)\n",
    "your_acc.withdraw(5000)\n",
    "my_acc.check_balance()\n",
    "\n",
    "sav_acc = SavingAccount(\"Ankit\", 30000)\n",
    "sav_acc.calculate_intrest()\n",
    "\n",
    "merged_account = my_acc + your_acc\n",
    "merged_account.check_balance()"
   ]
  },
  {
   "cell_type": "code",
   "execution_count": null,
   "id": "af7b4cc9-b46a-4ba1-8969-72e9843c011c",
   "metadata": {},
   "outputs": [],
   "source": [
    "# Day 19 (isinstance)"
   ]
  },
  {
   "cell_type": "code",
   "execution_count": null,
   "id": "baa76671-e5ca-45c4-94d8-4b443a9063ae",
   "metadata": {},
   "outputs": [],
   "source": []
  },
  {
   "cell_type": "code",
   "execution_count": null,
   "id": "b256d33b-cc40-4e07-bb3d-154e84620eb0",
   "metadata": {},
   "outputs": [],
   "source": []
  },
  {
   "cell_type": "code",
   "execution_count": null,
   "id": "11efdf4b-8d09-47c4-8c45-2d52c4573bf6",
   "metadata": {},
   "outputs": [],
   "source": []
  }
 ],
 "metadata": {
  "kernelspec": {
   "display_name": "Python 3 (ipykernel)",
   "language": "python",
   "name": "python3"
  },
  "language_info": {
   "codemirror_mode": {
    "name": "ipython",
    "version": 3
   },
   "file_extension": ".py",
   "mimetype": "text/x-python",
   "name": "python",
   "nbconvert_exporter": "python",
   "pygments_lexer": "ipython3",
   "version": "3.11.10"
  }
 },
 "nbformat": 4,
 "nbformat_minor": 5
}

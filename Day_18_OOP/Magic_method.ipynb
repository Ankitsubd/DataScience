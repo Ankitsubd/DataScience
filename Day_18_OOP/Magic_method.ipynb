{
 "cells": [
  {
   "cell_type": "markdown",
   "id": "cf742f2d-a8e4-4501-bdf0-c26ceed5fd59",
   "metadata": {},
   "source": [
    "## Polymorphism\n",
    "   ####    Magic Methods \n",
    "    __int__ -> initialize\n",
    "    __str__  -> Define how an object is printed as a string\n",
    "    __repr__  -> defines the string representation of an object, which can be used to recreate the object\n",
    "    __len__  -> Defines length of an object \n",
    "    __call__  -> calls objects of the class like a normal function\n",
    "    "
   ]
  },
  {
   "cell_type": "code",
   "execution_count": 18,
   "id": "a4bd17d0-3eab-47a7-bc58-4b79e3f859ac",
   "metadata": {},
   "outputs": [],
   "source": [
    "class Person:\n",
    "    def __init__(self, name, age):\n",
    "        self.name = name\n",
    "        self.age = age\n",
    "\n",
    "    def __str__(self): # Overloading print\n",
    "        return f\"Person {self.name} is {self.age} years old\"\n",
    "\n",
    "    def __repr__(self):\n",
    "        return f\"Person({self.name},{self.age})\"\n",
    "\n",
    "    def __len__(self):\n",
    "        return self.age\n",
    "\n",
    "    def __call__(self):\n",
    "        return f\"{self.name} is being called !\""
   ]
  },
  {
   "cell_type": "code",
   "execution_count": 19,
   "id": "f454403a-ffde-4936-8183-2340136ac2f4",
   "metadata": {},
   "outputs": [],
   "source": [
    "person = Person(\"Ankit\", 32)"
   ]
  },
  {
   "cell_type": "code",
   "execution_count": 20,
   "id": "70121e6c-7885-4e48-9a8b-ef189e802f6b",
   "metadata": {},
   "outputs": [
    {
     "name": "stdout",
     "output_type": "stream",
     "text": [
      "Person Ankit is 32 years old\n"
     ]
    }
   ],
   "source": [
    "print(person) # <-- __str__"
   ]
  },
  {
   "cell_type": "code",
   "execution_count": 21,
   "id": "48b5198b-f8a0-46c6-9072-696e264ab8ec",
   "metadata": {},
   "outputs": [
    {
     "data": {
      "text/plain": [
       "Person(Ankit,32)"
      ]
     },
     "execution_count": 21,
     "metadata": {},
     "output_type": "execute_result"
    }
   ],
   "source": [
    "person # <- __repr__"
   ]
  },
  {
   "cell_type": "code",
   "execution_count": 23,
   "id": "11ccceca-ea35-4a36-98ad-37e1cf5c00b1",
   "metadata": {},
   "outputs": [
    {
     "data": {
      "text/plain": [
       "'Ankit is being called !'"
      ]
     },
     "execution_count": 23,
     "metadata": {},
     "output_type": "execute_result"
    }
   ],
   "source": [
    "person() #<- __call__"
   ]
  },
  {
   "cell_type": "code",
   "execution_count": null,
   "id": "e4bbaef3-2568-410b-899f-aac14da3ad25",
   "metadata": {},
   "outputs": [],
   "source": []
  },
  {
   "cell_type": "code",
   "execution_count": 94,
   "id": "d7bb9907-c420-4af6-a88e-aa420bf81c06",
   "metadata": {},
   "outputs": [],
   "source": [
    "class Point:\n",
    "    \"\"\"\n",
    "    Operation on 2D points\n",
    "    \"\"\"\n",
    "    def __init__(self, x, y):\n",
    "        self.x = x\n",
    "        self.y = y\n",
    "\n",
    "    def __repr__(self):\n",
    "        return f\"({self.x}, {self.y})\"\n",
    "\n",
    "    def __add__(self, other):\n",
    "        x = self.x + other.x\n",
    "        y = self.y + other.y\n",
    "        return Point(x,y)\n",
    "    "
   ]
  },
  {
   "cell_type": "code",
   "execution_count": 95,
   "id": "5a6b7d97-8fad-4628-ae49-db5d56d68723",
   "metadata": {},
   "outputs": [],
   "source": [
    "point1 = Point(3,4) # self.x = 3 and other.x = 4\n",
    "point2 = Point(5,7)"
   ]
  },
  {
   "cell_type": "code",
   "execution_count": 96,
   "id": "c8dae682-0db4-4437-b598-07bee44f01a7",
   "metadata": {},
   "outputs": [
    {
     "name": "stdout",
     "output_type": "stream",
     "text": [
      "Operation in  (3, 4)\n"
     ]
    }
   ],
   "source": [
    "print(\"Operation in \", point1)"
   ]
  },
  {
   "cell_type": "code",
   "execution_count": 97,
   "id": "0f151e20-940c-471f-ad22-bd149867494a",
   "metadata": {},
   "outputs": [
    {
     "data": {
      "text/plain": [
       "(8, 11)"
      ]
     },
     "execution_count": 97,
     "metadata": {},
     "output_type": "execute_result"
    }
   ],
   "source": [
    " added_point = point1 + point2 \n",
    "added_point"
   ]
  },
  {
   "cell_type": "code",
   "execution_count": 123,
   "id": "4c7d94fb-5f67-4777-bb1e-7e23146dabbc",
   "metadata": {},
   "outputs": [],
   "source": [
    "class Points:\n",
    "    \"\"\"\n",
    "    Operation on 2D points\n",
    "    \"\"\"\n",
    "    def __init__(self, x, y):\n",
    "        self.x = x\n",
    "        self.y = y\n",
    "\n",
    "    def __repr__(self):\n",
    "        return f\"({self.x}, {self.y})\"\n",
    "\n",
    "    def __sub__(self, other):\n",
    "        x = self.x - other.x\n",
    "        y = self.y - other.y\n",
    "        return Points(x,y)\n",
    "\n",
    "    def __pow__(self, exp):\n",
    "        x = self.x ** exp\n",
    "        y = self.y ** exp\n",
    "        return Points(x,y)\n",
    "\n",
    "    def __eq__(self, other):\n",
    "        return self.x == other.x and self.y == other.y\n",
    "\n",
    "    def __version__(self):\n",
    "        return \"v1.0.0.\""
   ]
  },
  {
   "cell_type": "code",
   "execution_count": 124,
   "id": "f74942ac-8bd3-4566-abdb-b022234cf138",
   "metadata": {},
   "outputs": [],
   "source": [
    "points1 = Points(4,3)\n",
    "points2 = Points(7,5)"
   ]
  },
  {
   "cell_type": "code",
   "execution_count": 125,
   "id": "1e5a43e6-9621-4237-b565-ecaa8206fe9e",
   "metadata": {},
   "outputs": [
    {
     "data": {
      "text/plain": [
       "(3, 2)"
      ]
     },
     "execution_count": 125,
     "metadata": {},
     "output_type": "execute_result"
    }
   ],
   "source": [
    "sub_point = points2 - points1\n",
    "sub_point"
   ]
  },
  {
   "cell_type": "code",
   "execution_count": 126,
   "id": "71f3bd9d-cc05-4593-afc6-c02294c0061e",
   "metadata": {},
   "outputs": [
    {
     "data": {
      "text/plain": [
       "True"
      ]
     },
     "execution_count": 126,
     "metadata": {},
     "output_type": "execute_result"
    }
   ],
   "source": [
    "points1 == points1"
   ]
  },
  {
   "cell_type": "code",
   "execution_count": 127,
   "id": "25d721f6-a7b0-4ade-a592-1ffb59bf67b3",
   "metadata": {},
   "outputs": [
    {
     "data": {
      "text/plain": [
       "False"
      ]
     },
     "execution_count": 127,
     "metadata": {},
     "output_type": "execute_result"
    }
   ],
   "source": [
    "points1 == points2"
   ]
  },
  {
   "cell_type": "code",
   "execution_count": 128,
   "id": "f287bf6f-a1e9-4963-bbe2-d319b014b19e",
   "metadata": {},
   "outputs": [
    {
     "data": {
      "text/plain": [
       "(16, 9)"
      ]
     },
     "execution_count": 128,
     "metadata": {},
     "output_type": "execute_result"
    }
   ],
   "source": [
    "points1 ** 2"
   ]
  },
  {
   "cell_type": "code",
   "execution_count": null,
   "id": "0404dd99-7e08-409b-b91f-11a9b8a2a94b",
   "metadata": {},
   "outputs": [],
   "source": []
  },
  {
   "cell_type": "code",
   "execution_count": null,
   "id": "aacce72c-9030-44bc-94d2-070e3e9ec958",
   "metadata": {},
   "outputs": [],
   "source": []
  },
  {
   "cell_type": "code",
   "execution_count": null,
   "id": "07f4fb76-ec14-41d7-ad10-701441b4f314",
   "metadata": {},
   "outputs": [],
   "source": []
  }
 ],
 "metadata": {
  "kernelspec": {
   "display_name": "Python 3 (ipykernel)",
   "language": "python",
   "name": "python3"
  },
  "language_info": {
   "codemirror_mode": {
    "name": "ipython",
    "version": 3
   },
   "file_extension": ".py",
   "mimetype": "text/x-python",
   "name": "python",
   "nbconvert_exporter": "python",
   "pygments_lexer": "ipython3",
   "version": "3.11.10"
  }
 },
 "nbformat": 4,
 "nbformat_minor": 5
}

{
 "cells": [
  {
   "cell_type": "markdown",
   "id": "a06ee4cc-7f4f-45cd-a5cf-2cadbde98b59",
   "metadata": {},
   "source": [
    "## Ploymorphism\n"
   ]
  },
  {
   "cell_type": "code",
   "execution_count": 1,
   "id": "b40c877b-8728-447d-9a94-c51265fbe1ed",
   "metadata": {},
   "outputs": [],
   "source": [
    "class Car:\n",
    "    def drive(self):\n",
    "        print(\"Driving a car\")\n",
    "\n",
    "class Bike:\n",
    "    def drive(self):\n",
    "        print(\"Riding a bike\")"
   ]
  },
  {
   "cell_type": "code",
   "execution_count": 2,
   "id": "2ec68b19-da7f-4e4a-ad4e-3504f56f96a0",
   "metadata": {},
   "outputs": [],
   "source": [
    "def start_driving(vech):\n",
    "    vech.drive()"
   ]
  },
  {
   "cell_type": "code",
   "execution_count": 3,
   "id": "c635fb5d-30f0-4bca-9954-695c51270974",
   "metadata": {},
   "outputs": [
    {
     "name": "stdout",
     "output_type": "stream",
     "text": [
      "Driving a car\n",
      "Riding a bike\n"
     ]
    }
   ],
   "source": [
    "car = Car()\n",
    "bike = Bike()\n",
    "\n",
    "start_driving(car)\n",
    "start_driving(bike)"
   ]
  },
  {
   "cell_type": "code",
   "execution_count": null,
   "id": "c41f2ddc-1c74-40ca-8005-2290f2d54d6f",
   "metadata": {},
   "outputs": [],
   "source": []
  },
  {
   "cell_type": "code",
   "execution_count": null,
   "id": "3cba5910-fba2-4aeb-b7ef-a4407c616416",
   "metadata": {},
   "outputs": [],
   "source": []
  },
  {
   "cell_type": "code",
   "execution_count": null,
   "id": "95ac4c37-0887-4029-a742-90fd341314f1",
   "metadata": {},
   "outputs": [],
   "source": []
  },
  {
   "cell_type": "code",
   "execution_count": null,
   "id": "a92159d4-9f69-43c9-8c03-82f30ffaac89",
   "metadata": {},
   "outputs": [],
   "source": []
  },
  {
   "cell_type": "code",
   "execution_count": null,
   "id": "183d4367-05ac-49ed-9dd9-21adcbb57dff",
   "metadata": {},
   "outputs": [],
   "source": []
  }
 ],
 "metadata": {
  "kernelspec": {
   "display_name": "Python 3 (ipykernel)",
   "language": "python",
   "name": "python3"
  },
  "language_info": {
   "codemirror_mode": {
    "name": "ipython",
    "version": 3
   },
   "file_extension": ".py",
   "mimetype": "text/x-python",
   "name": "python",
   "nbconvert_exporter": "python",
   "pygments_lexer": "ipython3",
   "version": "3.11.10"
  }
 },
 "nbformat": 4,
 "nbformat_minor": 5
}

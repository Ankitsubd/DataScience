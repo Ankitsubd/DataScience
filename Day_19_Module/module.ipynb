{
 "cells": [
  {
   "cell_type": "markdown",
   "id": "1e514e1a-d8b5-4e8d-aa94-02675d6ab7b8",
   "metadata": {},
   "source": [
    "## Modules and Packages\n",
    "#### 1. datetime"
   ]
  },
  {
   "cell_type": "code",
   "execution_count": 2,
   "id": "290c4186-f5eb-4d6d-812f-84444dca98ae",
   "metadata": {},
   "outputs": [],
   "source": [
    "import datetime"
   ]
  },
  {
   "cell_type": "code",
   "execution_count": 38,
   "id": "44ec8437-b8d5-47c1-9639-12c30ea74eb5",
   "metadata": {},
   "outputs": [],
   "source": [
    "date1 = datetime.date(2025,1,29)\n",
    "date2 = datetime.date(2025,2,28)\n",
    "today_date = datetime.datetime.today().date()"
   ]
  },
  {
   "cell_type": "code",
   "execution_count": 39,
   "id": "f8de214b-fc14-40dc-a255-96896c55ae42",
   "metadata": {},
   "outputs": [
    {
     "name": "stdout",
     "output_type": "stream",
     "text": [
      "2025-01-29\n"
     ]
    }
   ],
   "source": [
    "print(today_date)"
   ]
  },
  {
   "cell_type": "code",
   "execution_count": 40,
   "id": "188eb8a2-4eb8-4c1b-9353-0b61e46baa0a",
   "metadata": {},
   "outputs": [
    {
     "data": {
      "text/plain": [
       "datetime.date(2025, 1, 29)"
      ]
     },
     "execution_count": 40,
     "metadata": {},
     "output_type": "execute_result"
    }
   ],
   "source": [
    "date1"
   ]
  },
  {
   "cell_type": "code",
   "execution_count": 41,
   "id": "a2f35dba-0f73-4e5d-9947-3a1d50c34d80",
   "metadata": {},
   "outputs": [
    {
     "name": "stdout",
     "output_type": "stream",
     "text": [
      "2025-01-29\n"
     ]
    }
   ],
   "source": [
    "print(date1)"
   ]
  },
  {
   "cell_type": "code",
   "execution_count": 42,
   "id": "01fd4285-28ab-4757-8e37-8496c598ddcc",
   "metadata": {},
   "outputs": [
    {
     "data": {
      "text/plain": [
       "True"
      ]
     },
     "execution_count": 42,
     "metadata": {},
     "output_type": "execute_result"
    }
   ],
   "source": [
    "date2 > date1"
   ]
  },
  {
   "cell_type": "code",
   "execution_count": 43,
   "id": "3bf279ae-e29e-4c6b-b96e-e7add85b566b",
   "metadata": {},
   "outputs": [],
   "source": [
    "#weekday (mon-fri)\n",
    "#weekend (Saturday and Sunday)"
   ]
  },
  {
   "cell_type": "code",
   "execution_count": 44,
   "id": "635368f0-6e00-423c-8742-bd7335c2916c",
   "metadata": {},
   "outputs": [
    {
     "data": {
      "text/plain": [
       "'2025/01/29'"
      ]
     },
     "execution_count": 44,
     "metadata": {},
     "output_type": "execute_result"
    }
   ],
   "source": [
    "#%M give minutes\n",
    "date1.strftime(\"%Y/%m/%d\")"
   ]
  },
  {
   "cell_type": "code",
   "execution_count": 45,
   "id": "430a67b8-a6ba-40d2-9b9a-f059d7475df6",
   "metadata": {},
   "outputs": [
    {
     "data": {
      "text/plain": [
       "'02/28/25'"
      ]
     },
     "execution_count": 45,
     "metadata": {},
     "output_type": "execute_result"
    }
   ],
   "source": [
    "date2.strftime(\"%D\")"
   ]
  },
  {
   "cell_type": "code",
   "execution_count": 46,
   "id": "f4c91f72-3be2-428d-bc91-488b08a5d56b",
   "metadata": {},
   "outputs": [
    {
     "data": {
      "text/plain": [
       "4"
      ]
     },
     "execution_count": 46,
     "metadata": {},
     "output_type": "execute_result"
    }
   ],
   "source": [
    "date2.weekday()"
   ]
  },
  {
   "cell_type": "code",
   "execution_count": 48,
   "id": "122565f2-893c-49d6-9fa0-91d0150e2b07",
   "metadata": {},
   "outputs": [],
   "source": [
    "nst = datetime.timezone(datetime.timedelta(hours= 5, minutes= 45))"
   ]
  },
  {
   "cell_type": "code",
   "execution_count": null,
   "id": "988b949c-657e-486e-b6e9-058c6ce209d0",
   "metadata": {},
   "outputs": [],
   "source": []
  },
  {
   "cell_type": "code",
   "execution_count": null,
   "id": "4a3f853c-d40c-42f7-accc-86782d37d97b",
   "metadata": {},
   "outputs": [],
   "source": []
  },
  {
   "cell_type": "code",
   "execution_count": null,
   "id": "c937346f-3b43-4fd1-8c69-1755e48ca85f",
   "metadata": {},
   "outputs": [],
   "source": []
  },
  {
   "cell_type": "code",
   "execution_count": null,
   "id": "630a0578-3531-4628-b659-3da72b189e83",
   "metadata": {},
   "outputs": [],
   "source": []
  },
  {
   "cell_type": "code",
   "execution_count": null,
   "id": "c801d4dd-9645-40d4-bbec-2910c7c0ef72",
   "metadata": {},
   "outputs": [],
   "source": []
  },
  {
   "cell_type": "code",
   "execution_count": null,
   "id": "54bd945c-8e85-4ca0-8996-8b7beb35d0d0",
   "metadata": {},
   "outputs": [],
   "source": []
  },
  {
   "cell_type": "code",
   "execution_count": null,
   "id": "125c5411-90d1-4480-bfbf-de9478116263",
   "metadata": {},
   "outputs": [],
   "source": []
  }
 ],
 "metadata": {
  "kernelspec": {
   "display_name": "Python 3 (ipykernel)",
   "language": "python",
   "name": "python3"
  },
  "language_info": {
   "codemirror_mode": {
    "name": "ipython",
    "version": 3
   },
   "file_extension": ".py",
   "mimetype": "text/x-python",
   "name": "python",
   "nbconvert_exporter": "python",
   "pygments_lexer": "ipython3",
   "version": "3.11.10"
  }
 },
 "nbformat": 4,
 "nbformat_minor": 5
}

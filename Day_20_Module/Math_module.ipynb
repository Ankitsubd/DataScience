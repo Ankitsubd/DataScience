{
 "cells": [
  {
   "cell_type": "markdown",
   "id": "1ad444c2-9643-4ab3-a099-5769862125f2",
   "metadata": {},
   "source": [
    "## Python Math Module\n"
   ]
  },
  {
   "cell_type": "code",
   "execution_count": 1,
   "id": "9cd8af07-2cde-4655-bef5-93e714a1382a",
   "metadata": {},
   "outputs": [],
   "source": [
    "import math"
   ]
  },
  {
   "cell_type": "code",
   "execution_count": 2,
   "id": "683cbc20-5530-4c74-8748-8d7a95316727",
   "metadata": {},
   "outputs": [
    {
     "data": {
      "text/plain": [
       "2"
      ]
     },
     "execution_count": 2,
     "metadata": {},
     "output_type": "execute_result"
    }
   ],
   "source": [
    "math.floor(2.99)"
   ]
  },
  {
   "cell_type": "code",
   "execution_count": 3,
   "id": "b05dedde-8baf-49c4-85f2-af29eb6062fb",
   "metadata": {},
   "outputs": [
    {
     "data": {
      "text/plain": [
       "4"
      ]
     },
     "execution_count": 3,
     "metadata": {},
     "output_type": "execute_result"
    }
   ],
   "source": [
    "math.ceil(3.01)"
   ]
  },
  {
   "cell_type": "code",
   "execution_count": 4,
   "id": "4e719e82-8ec0-4eb0-8db5-965ecccbb4d9",
   "metadata": {},
   "outputs": [
    {
     "data": {
      "text/plain": [
       "2"
      ]
     },
     "execution_count": 4,
     "metadata": {},
     "output_type": "execute_result"
    }
   ],
   "source": [
    "math.trunc(2.9)"
   ]
  },
  {
   "cell_type": "code",
   "execution_count": 5,
   "id": "4b607b32-b8e2-49ca-9e7e-42d75170ae3c",
   "metadata": {},
   "outputs": [
    {
     "data": {
      "text/plain": [
       "4.0"
      ]
     },
     "execution_count": 5,
     "metadata": {},
     "output_type": "execute_result"
    }
   ],
   "source": [
    "math.fabs(-4)"
   ]
  },
  {
   "cell_type": "code",
   "execution_count": null,
   "id": "a2061e13-349e-4460-8a28-26fc91d94930",
   "metadata": {},
   "outputs": [],
   "source": []
  },
  {
   "cell_type": "markdown",
   "id": "b4bc815c-42f2-4faa-831f-8fe60823579c",
   "metadata": {},
   "source": [
    "## Trigonometric Function"
   ]
  },
  {
   "cell_type": "code",
   "execution_count": 6,
   "id": "a9829ac0-84a9-47a0-b3f2-90654ced5511",
   "metadata": {},
   "outputs": [
    {
     "data": {
      "text/plain": [
       "0.49999999999999994"
      ]
     },
     "execution_count": 6,
     "metadata": {},
     "output_type": "execute_result"
    }
   ],
   "source": [
    "deg_to_rad = math.radians(30)\n",
    "math.sin(deg_to_rad)"
   ]
  },
  {
   "cell_type": "code",
   "execution_count": 9,
   "id": "f5676ada-188e-489a-a878-57525beca81e",
   "metadata": {},
   "outputs": [
    {
     "data": {
      "text/plain": [
       "5.0"
      ]
     },
     "execution_count": 9,
     "metadata": {},
     "output_type": "execute_result"
    }
   ],
   "source": [
    "math.hypot(3,4)"
   ]
  },
  {
   "cell_type": "code",
   "execution_count": null,
   "id": "ef16dfa7-5b12-4ce1-98b5-5a0ca9a8f441",
   "metadata": {},
   "outputs": [],
   "source": []
  },
  {
   "cell_type": "markdown",
   "id": "081a8074-9c32-4c9e-a0ff-f4a1e27a49ad",
   "metadata": {},
   "source": [
    "## Exponential and Logarithmic Functions:"
   ]
  },
  {
   "cell_type": "code",
   "execution_count": 15,
   "id": "1a837774-6dc6-4bc4-a20c-43fe13a17338",
   "metadata": {},
   "outputs": [
    {
     "data": {
      "text/plain": [
       "2.0"
      ]
     },
     "execution_count": 15,
     "metadata": {},
     "output_type": "execute_result"
    }
   ],
   "source": [
    "math.log10(100)"
   ]
  },
  {
   "cell_type": "code",
   "execution_count": 16,
   "id": "77f8cc03-739d-4554-8569-719a2a1fe896",
   "metadata": {},
   "outputs": [
    {
     "data": {
      "text/plain": [
       "2.302585092994046"
      ]
     },
     "execution_count": 16,
     "metadata": {},
     "output_type": "execute_result"
    }
   ],
   "source": [
    "math.log(10)"
   ]
  },
  {
   "cell_type": "code",
   "execution_count": 17,
   "id": "b2348894-c19f-4d16-af06-aa0ef4b39bf4",
   "metadata": {},
   "outputs": [
    {
     "data": {
      "text/plain": [
       "54.598150033144236"
      ]
     },
     "execution_count": 17,
     "metadata": {},
     "output_type": "execute_result"
    }
   ],
   "source": [
    "math.exp(4)"
   ]
  },
  {
   "cell_type": "code",
   "execution_count": null,
   "id": "af525608-8081-42d7-9c0a-152ae5e93f9b",
   "metadata": {},
   "outputs": [],
   "source": []
  },
  {
   "cell_type": "markdown",
   "id": "376747b7-034d-465b-bf1f-6fd1414e9dbb",
   "metadata": {},
   "source": [
    "## Constants"
   ]
  },
  {
   "cell_type": "code",
   "execution_count": 19,
   "id": "7c5c7db3-bf40-4c43-a87f-f169ffd364e1",
   "metadata": {},
   "outputs": [
    {
     "data": {
      "text/plain": [
       "3.141592653589793"
      ]
     },
     "execution_count": 19,
     "metadata": {},
     "output_type": "execute_result"
    }
   ],
   "source": [
    "math.pi"
   ]
  },
  {
   "cell_type": "code",
   "execution_count": 20,
   "id": "4138041c-f65e-4570-b7c1-f08154233aad",
   "metadata": {},
   "outputs": [
    {
     "data": {
      "text/plain": [
       "2.718281828459045"
      ]
     },
     "execution_count": 20,
     "metadata": {},
     "output_type": "execute_result"
    }
   ],
   "source": [
    "math.e"
   ]
  },
  {
   "cell_type": "code",
   "execution_count": 21,
   "id": "cc7edb3d-9a0b-4db9-8294-a4b558775950",
   "metadata": {},
   "outputs": [
    {
     "data": {
      "text/plain": [
       "inf"
      ]
     },
     "execution_count": 21,
     "metadata": {},
     "output_type": "execute_result"
    }
   ],
   "source": [
    "math.inf"
   ]
  },
  {
   "cell_type": "code",
   "execution_count": 22,
   "id": "2bbcb2a4-c460-416a-8884-4965b1e76a0b",
   "metadata": {},
   "outputs": [
    {
     "data": {
      "text/plain": [
       "6.283185307179586"
      ]
     },
     "execution_count": 22,
     "metadata": {},
     "output_type": "execute_result"
    }
   ],
   "source": [
    "math.tau"
   ]
  },
  {
   "cell_type": "code",
   "execution_count": 23,
   "id": "a66b6724-099a-4c2f-a9aa-32dad5527f41",
   "metadata": {},
   "outputs": [
    {
     "data": {
      "text/plain": [
       "nan"
      ]
     },
     "execution_count": 23,
     "metadata": {},
     "output_type": "execute_result"
    }
   ],
   "source": [
    "math.nan"
   ]
  },
  {
   "cell_type": "markdown",
   "id": "7da365ba-dc7a-4c96-8b87-a71692d0f46d",
   "metadata": {},
   "source": [
    "## Special Function"
   ]
  },
  {
   "cell_type": "code",
   "execution_count": 24,
   "id": "07b6664c-e3f2-4ffe-bee6-80dbbf3d6288",
   "metadata": {},
   "outputs": [
    {
     "data": {
      "text/plain": [
       "1124000727777607680000"
      ]
     },
     "execution_count": 24,
     "metadata": {},
     "output_type": "execute_result"
    }
   ],
   "source": [
    "math.factorial(22)"
   ]
  },
  {
   "cell_type": "code",
   "execution_count": 29,
   "id": "a816978b-4756-44fd-8e2e-8292c368aa7c",
   "metadata": {},
   "outputs": [
    {
     "data": {
      "text/plain": [
       "6"
      ]
     },
     "execution_count": 29,
     "metadata": {},
     "output_type": "execute_result"
    }
   ],
   "source": [
    "math.comb(6,5)"
   ]
  },
  {
   "cell_type": "code",
   "execution_count": 30,
   "id": "a81f4109-e023-41b2-9d76-747c521d027a",
   "metadata": {},
   "outputs": [
    {
     "data": {
      "text/plain": [
       "5.916079783099616"
      ]
     },
     "execution_count": 30,
     "metadata": {},
     "output_type": "execute_result"
    }
   ],
   "source": [
    "math.sqrt(35)"
   ]
  },
  {
   "cell_type": "code",
   "execution_count": 31,
   "id": "bc896b19-d3a7-45a3-b87f-a56d18de7c98",
   "metadata": {},
   "outputs": [
    {
     "data": {
      "text/plain": [
       "5"
      ]
     },
     "execution_count": 31,
     "metadata": {},
     "output_type": "execute_result"
    }
   ],
   "source": [
    "math.isqrt(35)"
   ]
  },
  {
   "cell_type": "code",
   "execution_count": 32,
   "id": "bf2f4214-dc5b-497b-a48f-813f38a55bba",
   "metadata": {},
   "outputs": [
    {
     "data": {
      "text/plain": [
       "2.8284271247461903"
      ]
     },
     "execution_count": 32,
     "metadata": {},
     "output_type": "execute_result"
    }
   ],
   "source": [
    "math.dist((4,5), (6,7))"
   ]
  },
  {
   "cell_type": "code",
   "execution_count": 33,
   "id": "4571ff0c-0edf-41b1-b918-b60b1d98cee1",
   "metadata": {},
   "outputs": [
    {
     "data": {
      "text/plain": [
       "5.291502622129181"
      ]
     },
     "execution_count": 33,
     "metadata": {},
     "output_type": "execute_result"
    }
   ],
   "source": [
    "math.dist((4,5,7,3), (6,7,9,7))"
   ]
  },
  {
   "cell_type": "code",
   "execution_count": 35,
   "id": "178a6fd9-6b75-4940-b46a-959b9eba89b4",
   "metadata": {},
   "outputs": [
    {
     "data": {
      "text/plain": [
       "True"
      ]
     },
     "execution_count": 35,
     "metadata": {},
     "output_type": "execute_result"
    }
   ],
   "source": [
    "math.isclose(0.1,0.3, rel_tol=0.3, abs_tol=0.3)"
   ]
  },
  {
   "cell_type": "code",
   "execution_count": null,
   "id": "713e39f2-17a6-453d-ad7b-73714cf13086",
   "metadata": {},
   "outputs": [],
   "source": []
  },
  {
   "cell_type": "code",
   "execution_count": null,
   "id": "ed918d01-26e5-4b9e-998f-314aec01fba6",
   "metadata": {},
   "outputs": [],
   "source": []
  },
  {
   "cell_type": "code",
   "execution_count": null,
   "id": "fd359ecb-5975-4741-8983-3122cab89a01",
   "metadata": {},
   "outputs": [],
   "source": []
  },
  {
   "cell_type": "code",
   "execution_count": null,
   "id": "324bbc67-acb7-40a1-9b96-157c66270b0e",
   "metadata": {},
   "outputs": [],
   "source": []
  },
  {
   "cell_type": "code",
   "execution_count": null,
   "id": "c6844417-571f-4b51-9286-57aec3d5d943",
   "metadata": {},
   "outputs": [],
   "source": []
  },
  {
   "cell_type": "code",
   "execution_count": null,
   "id": "cb6bd4dc-247f-4b14-bf16-9b67bea4c529",
   "metadata": {},
   "outputs": [],
   "source": []
  }
 ],
 "metadata": {
  "kernelspec": {
   "display_name": "Python 3 (ipykernel)",
   "language": "python",
   "name": "python3"
  },
  "language_info": {
   "codemirror_mode": {
    "name": "ipython",
    "version": 3
   },
   "file_extension": ".py",
   "mimetype": "text/x-python",
   "name": "python",
   "nbconvert_exporter": "python",
   "pygments_lexer": "ipython3",
   "version": "3.11.10"
  }
 },
 "nbformat": 4,
 "nbformat_minor": 5
}

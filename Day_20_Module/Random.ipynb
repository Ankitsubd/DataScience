{
 "cells": [
  {
   "cell_type": "markdown",
   "id": "6a96811a-5359-4b97-91ec-497e67a92111",
   "metadata": {},
   "source": [
    "## Random Module"
   ]
  },
  {
   "cell_type": "code",
   "execution_count": 1,
   "id": "2593b654-55bd-4d47-92f4-ee1154d696ff",
   "metadata": {},
   "outputs": [],
   "source": [
    "import random"
   ]
  },
  {
   "cell_type": "code",
   "execution_count": 9,
   "id": "4afef2f1-a3ef-41eb-bb46-c5fdbe9e06b6",
   "metadata": {},
   "outputs": [
    {
     "data": {
      "text/plain": [
       "0.2692938680725365"
      ]
     },
     "execution_count": 9,
     "metadata": {},
     "output_type": "execute_result"
    }
   ],
   "source": [
    "random.random()"
   ]
  },
  {
   "cell_type": "code",
   "execution_count": 23,
   "id": "1c6f4275-ac50-445e-b4bb-0edbf39c2b76",
   "metadata": {},
   "outputs": [
    {
     "data": {
      "text/plain": [
       "108.1348584845407"
      ]
     },
     "execution_count": 23,
     "metadata": {},
     "output_type": "execute_result"
    }
   ],
   "source": [
    "random.uniform(100,200)"
   ]
  },
  {
   "cell_type": "code",
   "execution_count": 65,
   "id": "f9547630-f3c0-4c6b-aada-61c00af5fe29",
   "metadata": {},
   "outputs": [
    {
     "data": {
      "text/plain": [
       "3"
      ]
     },
     "execution_count": 65,
     "metadata": {},
     "output_type": "execute_result"
    }
   ],
   "source": [
    "random.randint(1,100)"
   ]
  },
  {
   "cell_type": "code",
   "execution_count": 67,
   "id": "62aa3eb4-c365-449c-997a-d6ce38550683",
   "metadata": {},
   "outputs": [
    {
     "data": {
      "text/plain": [
       "-2"
      ]
     },
     "execution_count": 67,
     "metadata": {},
     "output_type": "execute_result"
    }
   ],
   "source": [
    "random.randint(-3, 2)"
   ]
  },
  {
   "cell_type": "code",
   "execution_count": 68,
   "id": "753db95c-56d1-4e72-818f-40841a660d89",
   "metadata": {},
   "outputs": [
    {
     "data": {
      "text/plain": [
       "2"
      ]
     },
     "execution_count": 68,
     "metadata": {},
     "output_type": "execute_result"
    }
   ],
   "source": [
    "random.randrange(5) # upto 5 random number"
   ]
  },
  {
   "cell_type": "code",
   "execution_count": 70,
   "id": "a8753034-c997-4424-a69e-86b704cfeb87",
   "metadata": {},
   "outputs": [
    {
     "data": {
      "text/plain": [
       "4"
      ]
     },
     "execution_count": 70,
     "metadata": {},
     "output_type": "execute_result"
    }
   ],
   "source": [
    "random.randrange(-1,5)"
   ]
  },
  {
   "cell_type": "code",
   "execution_count": 74,
   "id": "a4f58607-bb04-49d5-8911-2b667b094285",
   "metadata": {},
   "outputs": [
    {
     "data": {
      "text/plain": [
       "-2"
      ]
     },
     "execution_count": 74,
     "metadata": {},
     "output_type": "execute_result"
    }
   ],
   "source": [
    "random.randrange(-5,10,3)"
   ]
  },
  {
   "cell_type": "code",
   "execution_count": null,
   "id": "f5c4240e-e4b1-4cf3-8b96-94b4cabd8ac5",
   "metadata": {},
   "outputs": [],
   "source": []
  },
  {
   "cell_type": "code",
   "execution_count": null,
   "id": "a2f840c2-490e-4511-ac85-04051dab29ce",
   "metadata": {},
   "outputs": [],
   "source": []
  },
  {
   "cell_type": "code",
   "execution_count": null,
   "id": "74006ee5-4206-4efc-8dbb-90cf864da5b5",
   "metadata": {},
   "outputs": [],
   "source": []
  }
 ],
 "metadata": {
  "kernelspec": {
   "display_name": "Python 3 (ipykernel)",
   "language": "python",
   "name": "python3"
  },
  "language_info": {
   "codemirror_mode": {
    "name": "ipython",
    "version": 3
   },
   "file_extension": ".py",
   "mimetype": "text/x-python",
   "name": "python",
   "nbconvert_exporter": "python",
   "pygments_lexer": "ipython3",
   "version": "3.11.10"
  }
 },
 "nbformat": 4,
 "nbformat_minor": 5
}

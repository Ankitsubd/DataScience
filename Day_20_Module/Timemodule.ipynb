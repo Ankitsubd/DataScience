{
 "cells": [
  {
   "cell_type": "markdown",
   "id": "c2dfd65b-7f85-41e7-a727-c1bcb38e3d9f",
   "metadata": {},
   "source": [
    "## 2.Time"
   ]
  },
  {
   "cell_type": "code",
   "execution_count": 3,
   "id": "3c169e75-c3af-481c-9a91-b50b7efc828c",
   "metadata": {},
   "outputs": [],
   "source": [
    "import time"
   ]
  },
  {
   "cell_type": "code",
   "execution_count": 4,
   "id": "a46546c5-a441-4783-bd8f-6d35503acaec",
   "metadata": {},
   "outputs": [
    {
     "name": "stdout",
     "output_type": "stream",
     "text": [
      "1738202385.4423769\n"
     ]
    }
   ],
   "source": [
    "print(time.time())"
   ]
  },
  {
   "cell_type": "code",
   "execution_count": 5,
   "id": "0baabeeb-2b43-4269-b297-944170f419a0",
   "metadata": {},
   "outputs": [
    {
     "name": "stdout",
     "output_type": "stream",
     "text": [
      "Thu Jan 30 07:45:41 2025\n"
     ]
    }
   ],
   "source": [
    "print(time.ctime())"
   ]
  },
  {
   "cell_type": "code",
   "execution_count": 7,
   "id": "eafddc38-21e9-4782-be85-f40b5ebe4af3",
   "metadata": {},
   "outputs": [
    {
     "name": "stdout",
     "output_type": "stream",
     "text": [
      "loading...\n",
      "completed\n"
     ]
    }
   ],
   "source": [
    "#sleep for 2 sec\n",
    "print(\"loading...\")\n",
    "time.sleep(5)\n",
    "print(\"completed\")"
   ]
  },
  {
   "cell_type": "code",
   "execution_count": 11,
   "id": "311951b0-734a-4a4a-a325-6061db455ca1",
   "metadata": {},
   "outputs": [
    {
     "name": "stdout",
     "output_type": "stream",
     "text": [
      "time.struct_time(tm_year=2025, tm_mon=1, tm_mday=30, tm_hour=2, tm_min=4, tm_sec=18, tm_wday=3, tm_yday=30, tm_isdst=0)\n"
     ]
    }
   ],
   "source": [
    "# current time in utc\n",
    "print(time.gmtime())"
   ]
  },
  {
   "cell_type": "code",
   "execution_count": null,
   "id": "48fee958-34b6-4d45-853a-7df0d76c1797",
   "metadata": {},
   "outputs": [],
   "source": []
  },
  {
   "cell_type": "code",
   "execution_count": null,
   "id": "65b82d2e-a6dc-494b-a170-483597c45150",
   "metadata": {},
   "outputs": [],
   "source": []
  },
  {
   "cell_type": "code",
   "execution_count": null,
   "id": "1657d699-b867-4be7-bf66-d5707bd2a5ea",
   "metadata": {},
   "outputs": [],
   "source": []
  },
  {
   "cell_type": "code",
   "execution_count": null,
   "id": "fa03f7b5-9bf9-40e0-9933-8012b6cb2598",
   "metadata": {},
   "outputs": [],
   "source": []
  }
 ],
 "metadata": {
  "kernelspec": {
   "display_name": "Python 3 (ipykernel)",
   "language": "python",
   "name": "python3"
  },
  "language_info": {
   "codemirror_mode": {
    "name": "ipython",
    "version": 3
   },
   "file_extension": ".py",
   "mimetype": "text/x-python",
   "name": "python",
   "nbconvert_exporter": "python",
   "pygments_lexer": "ipython3",
   "version": "3.11.10"
  }
 },
 "nbformat": 4,
 "nbformat_minor": 5
}

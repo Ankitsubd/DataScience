{
 "cells": [
  {
   "cell_type": "code",
   "execution_count": null,
   "id": "c6cb26ce-490a-4303-9d0a-b35ea8efb932",
   "metadata": {},
   "outputs": [],
   "source": []
  },
  {
   "cell_type": "code",
   "execution_count": 25,
   "id": "228bf169-7657-48c0-b719-01808d4dfc7a",
   "metadata": {},
   "outputs": [],
   "source": [
    "import os"
   ]
  },
  {
   "cell_type": "code",
   "execution_count": 26,
   "id": "f4aff094-ca75-4780-a44d-7ff58142f420",
   "metadata": {},
   "outputs": [
    {
     "name": "stdout",
     "output_type": "stream",
     "text": [
      "/Users/ankitsubedi/Desktop/Ankit File/Data_science class/DataScience/Day_20_Module\n"
     ]
    }
   ],
   "source": [
    "print(os.getcwd())"
   ]
  },
  {
   "cell_type": "code",
   "execution_count": 31,
   "id": "a6e7ba1d-9397-4b11-ac3f-279896897a2a",
   "metadata": {},
   "outputs": [
    {
     "name": "stdout",
     "output_type": "stream",
     "text": [
      "False\n"
     ]
    }
   ],
   "source": [
    "if not os.path.exists(\"test\"):\n",
    "    print(\"True\")\n",
    "\n",
    "else:\n",
    "    print(\"False\")"
   ]
  },
  {
   "cell_type": "code",
   "execution_count": 32,
   "id": "ef7b44f1-f79d-4d0a-8198-1392e52bc46a",
   "metadata": {},
   "outputs": [],
   "source": [
    "if not os.path.exists(\"test\"):\n",
    "    os.mkdir(\"test\")\n",
    "    print(\"dir created\")"
   ]
  },
  {
   "cell_type": "code",
   "execution_count": 33,
   "id": "dffb06ce-70d9-4f1e-a29c-0deae62ed125",
   "metadata": {},
   "outputs": [
    {
     "name": "stdout",
     "output_type": "stream",
     "text": [
      "False\n"
     ]
    }
   ],
   "source": [
    "if not os.path.exists(\"test\"):\n",
    "    print(\"True\")\n",
    "\n",
    "else:\n",
    "    print(\"False\")"
   ]
  },
  {
   "cell_type": "code",
   "execution_count": 34,
   "id": "7015f558-2d12-4eb6-8f59-0284f2df004e",
   "metadata": {},
   "outputs": [],
   "source": [
    "os.makedirs(\"test\", exist_ok= True)"
   ]
  },
  {
   "cell_type": "code",
   "execution_count": 35,
   "id": "e39a0256-2d4d-4380-966e-a0c870876106",
   "metadata": {},
   "outputs": [
    {
     "data": {
      "text/plain": [
       "['Timemodule.ipynb', 'test', '.ipynb_checkpoints', 'os_module.ipynb']"
      ]
     },
     "execution_count": 35,
     "metadata": {},
     "output_type": "execute_result"
    }
   ],
   "source": [
    "os.listdir('.')"
   ]
  },
  {
   "cell_type": "code",
   "execution_count": 36,
   "id": "86b80518-490c-416d-aebe-f273315c5009",
   "metadata": {},
   "outputs": [],
   "source": [
    "os.rmdir(\"test\")"
   ]
  },
  {
   "cell_type": "code",
   "execution_count": 37,
   "id": "4d6cb9b9-1033-4d8a-9bb7-ca67f58377a5",
   "metadata": {},
   "outputs": [
    {
     "name": "stdout",
     "output_type": "stream",
     "text": [
      "True\n"
     ]
    }
   ],
   "source": [
    "if not os.path.exists(\"test\"):\n",
    "    print(\"True\")\n",
    "\n",
    "else:\n",
    "    print(\"False\")"
   ]
  },
  {
   "cell_type": "markdown",
   "id": "2811e6a2-1ba4-451f-9c9b-1d3eaed1a86c",
   "metadata": {},
   "source": [
    "## Working with Environment Variables\n",
    "` . os.getenv('var_name')`: Get the value of an Environment Variable\n",
    "\n",
    "` . os.environ['var_name] =  'var_value'`: Set the value of an Environment Variable"
   ]
  },
  {
   "cell_type": "code",
   "execution_count": 38,
   "id": "59a4bed9-0ee8-4965-b219-f2b60dba17f9",
   "metadata": {},
   "outputs": [],
   "source": [
    "import os"
   ]
  },
  {
   "cell_type": "code",
   "execution_count": 39,
   "id": "2998a681-74ec-4942-b93d-b373c3afa529",
   "metadata": {},
   "outputs": [
    {
     "data": {
      "text/plain": [
       "'/Users/ankitsubedi'"
      ]
     },
     "execution_count": 39,
     "metadata": {},
     "output_type": "execute_result"
    }
   ],
   "source": [
    "os.getenv(\"HOME\")"
   ]
  },
  {
   "cell_type": "code",
   "execution_count": 40,
   "id": "254b6d79-1377-4019-a0ee-d1d07c37b95c",
   "metadata": {},
   "outputs": [],
   "source": [
    "os.getenv(\"OneDrive\")"
   ]
  },
  {
   "cell_type": "code",
   "execution_count": 41,
   "id": "b0ae5090-da9c-47ef-9c0f-cdc355d11004",
   "metadata": {},
   "outputs": [],
   "source": [
    "os.environ[\"Test\"] = \"secret_password\""
   ]
  },
  {
   "cell_type": "code",
   "execution_count": 42,
   "id": "db62e659-1d03-4529-a50f-b861197c0786",
   "metadata": {},
   "outputs": [
    {
     "data": {
      "text/plain": [
       "'secret_password'"
      ]
     },
     "execution_count": 42,
     "metadata": {},
     "output_type": "execute_result"
    }
   ],
   "source": [
    "os.getenv(\"Test\")"
   ]
  },
  {
   "cell_type": "code",
   "execution_count": null,
   "id": "80de1b48-06f0-4a84-93ba-4698015802d4",
   "metadata": {},
   "outputs": [],
   "source": []
  },
  {
   "cell_type": "code",
   "execution_count": null,
   "id": "46a8cb4f-68da-4f1f-ab00-34cb85c3a629",
   "metadata": {},
   "outputs": [],
   "source": []
  },
  {
   "cell_type": "code",
   "execution_count": null,
   "id": "16e8a5fe-274e-4b2b-9447-fa5486a8c312",
   "metadata": {},
   "outputs": [],
   "source": []
  },
  {
   "cell_type": "code",
   "execution_count": null,
   "id": "d02b9d1a-2b9d-4e18-88d2-ce30d7c2fc28",
   "metadata": {},
   "outputs": [],
   "source": []
  },
  {
   "cell_type": "code",
   "execution_count": null,
   "id": "bc06a324-cec5-4592-8f3f-33a3858f7989",
   "metadata": {},
   "outputs": [],
   "source": []
  },
  {
   "cell_type": "code",
   "execution_count": null,
   "id": "ba1e2631-4597-447d-b3c8-72ab0a995ecb",
   "metadata": {},
   "outputs": [],
   "source": []
  },
  {
   "cell_type": "code",
   "execution_count": null,
   "id": "ba5cdf7f-11ff-40a8-b4ef-327095981b08",
   "metadata": {},
   "outputs": [],
   "source": []
  },
  {
   "cell_type": "code",
   "execution_count": null,
   "id": "f3d031ad-f9e6-4361-90a4-0648d25891e6",
   "metadata": {},
   "outputs": [],
   "source": []
  }
 ],
 "metadata": {
  "kernelspec": {
   "display_name": "Python 3 (ipykernel)",
   "language": "python",
   "name": "python3"
  },
  "language_info": {
   "codemirror_mode": {
    "name": "ipython",
    "version": 3
   },
   "file_extension": ".py",
   "mimetype": "text/x-python",
   "name": "python",
   "nbconvert_exporter": "python",
   "pygments_lexer": "ipython3",
   "version": "3.11.10"
  }
 },
 "nbformat": 4,
 "nbformat_minor": 5
}

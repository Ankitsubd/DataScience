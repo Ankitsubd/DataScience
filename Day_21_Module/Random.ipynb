{
 "cells": [
  {
   "cell_type": "markdown",
   "id": "6a96811a-5359-4b97-91ec-497e67a92111",
   "metadata": {},
   "source": [
    "## Random Module"
   ]
  },
  {
   "cell_type": "code",
   "execution_count": 1,
   "id": "2593b654-55bd-4d47-92f4-ee1154d696ff",
   "metadata": {},
   "outputs": [],
   "source": [
    "import random"
   ]
  },
  {
   "cell_type": "code",
   "execution_count": 9,
   "id": "4afef2f1-a3ef-41eb-bb46-c5fdbe9e06b6",
   "metadata": {},
   "outputs": [
    {
     "data": {
      "text/plain": [
       "0.2692938680725365"
      ]
     },
     "execution_count": 9,
     "metadata": {},
     "output_type": "execute_result"
    }
   ],
   "source": [
    "random.random()"
   ]
  },
  {
   "cell_type": "code",
   "execution_count": 23,
   "id": "1c6f4275-ac50-445e-b4bb-0edbf39c2b76",
   "metadata": {},
   "outputs": [
    {
     "data": {
      "text/plain": [
       "108.1348584845407"
      ]
     },
     "execution_count": 23,
     "metadata": {},
     "output_type": "execute_result"
    }
   ],
   "source": [
    "random.uniform(100,200)"
   ]
  },
  {
   "cell_type": "code",
   "execution_count": 65,
   "id": "f9547630-f3c0-4c6b-aada-61c00af5fe29",
   "metadata": {},
   "outputs": [
    {
     "data": {
      "text/plain": [
       "3"
      ]
     },
     "execution_count": 65,
     "metadata": {},
     "output_type": "execute_result"
    }
   ],
   "source": [
    "random.randint(1,100)"
   ]
  },
  {
   "cell_type": "code",
   "execution_count": 67,
   "id": "62aa3eb4-c365-449c-997a-d6ce38550683",
   "metadata": {},
   "outputs": [
    {
     "data": {
      "text/plain": [
       "-2"
      ]
     },
     "execution_count": 67,
     "metadata": {},
     "output_type": "execute_result"
    }
   ],
   "source": [
    "random.randint(-3, 2)"
   ]
  },
  {
   "cell_type": "code",
   "execution_count": 68,
   "id": "753db95c-56d1-4e72-818f-40841a660d89",
   "metadata": {},
   "outputs": [
    {
     "data": {
      "text/plain": [
       "2"
      ]
     },
     "execution_count": 68,
     "metadata": {},
     "output_type": "execute_result"
    }
   ],
   "source": [
    "random.randrange(5) # upto 5 random number"
   ]
  },
  {
   "cell_type": "code",
   "execution_count": 70,
   "id": "a8753034-c997-4424-a69e-86b704cfeb87",
   "metadata": {},
   "outputs": [
    {
     "data": {
      "text/plain": [
       "4"
      ]
     },
     "execution_count": 70,
     "metadata": {},
     "output_type": "execute_result"
    }
   ],
   "source": [
    "random.randrange(-1,5)"
   ]
  },
  {
   "cell_type": "code",
   "execution_count": 74,
   "id": "a4f58607-bb04-49d5-8911-2b667b094285",
   "metadata": {},
   "outputs": [
    {
     "data": {
      "text/plain": [
       "-2"
      ]
     },
     "execution_count": 74,
     "metadata": {},
     "output_type": "execute_result"
    }
   ],
   "source": [
    "random.randrange(-5,10,3)"
   ]
  },
  {
   "cell_type": "markdown",
   "id": "57b82754-0378-44e3-9b91-f3daa4232183",
   "metadata": {},
   "source": [
    "## Sequence-related functions"
   ]
  },
  {
   "cell_type": "code",
   "execution_count": 10,
   "id": "a2f840c2-490e-4511-ac85-04051dab29ce",
   "metadata": {},
   "outputs": [],
   "source": [
    "import random"
   ]
  },
  {
   "cell_type": "code",
   "execution_count": 12,
   "id": "74006ee5-4206-4efc-8dbb-90cf864da5b5",
   "metadata": {},
   "outputs": [
    {
     "data": {
      "text/plain": [
       "['jack', 'king', 'queen']"
      ]
     },
     "execution_count": 12,
     "metadata": {},
     "output_type": "execute_result"
    }
   ],
   "source": [
    "random.sample(cards, 3)"
   ]
  },
  {
   "cell_type": "code",
   "execution_count": 14,
   "id": "feb10eb3-6a64-496c-8235-da365b905c91",
   "metadata": {},
   "outputs": [
    {
     "data": {
      "text/plain": [
       "['ace', 'ten', 'nine', 'king', 'jack', 'queen']"
      ]
     },
     "execution_count": 14,
     "metadata": {},
     "output_type": "execute_result"
    }
   ],
   "source": [
    "random.shuffle(cards)\n",
    "cards"
   ]
  },
  {
   "cell_type": "code",
   "execution_count": 19,
   "id": "50509a93-92fa-4be7-9ba3-5ad74214b170",
   "metadata": {},
   "outputs": [
    {
     "data": {
      "text/plain": [
       "['nine', 'ace', 'jack', 'ten', 'king']"
      ]
     },
     "execution_count": 19,
     "metadata": {},
     "output_type": "execute_result"
    }
   ],
   "source": [
    "random.choices(cards, k=5) #give repeted"
   ]
  },
  {
   "cell_type": "code",
   "execution_count": 28,
   "id": "9eb1232f-2cf3-45ee-9aaf-225bab2284f8",
   "metadata": {},
   "outputs": [
    {
     "data": {
      "text/plain": [
       "['king', 'king']"
      ]
     },
     "execution_count": 28,
     "metadata": {},
     "output_type": "execute_result"
    }
   ],
   "source": [
    "weight= [0.2, 0.12, 0.1, 0.4, 0.25, 0.33]\n",
    "random.choices(cards, weights= weight, k = 2) #choose two elements from a sequence with different weights"
   ]
  },
  {
   "cell_type": "markdown",
   "id": "d808d15e-3212-414c-a781-37059b28f6a3",
   "metadata": {},
   "source": [
    "## Randomness-related functions"
   ]
  },
  {
   "cell_type": "code",
   "execution_count": 11,
   "id": "d51ecba4-6af9-49d4-9430-1f5c65b4e0c6",
   "metadata": {},
   "outputs": [
    {
     "data": {
      "text/plain": [
       "'nine'"
      ]
     },
     "execution_count": 11,
     "metadata": {},
     "output_type": "execute_result"
    }
   ],
   "source": [
    "cards = ['ace', 'king', 'queen', 'jack', 'ten', 'nine']\n",
    "\n",
    "random.choice(cards)"
   ]
  },
  {
   "cell_type": "code",
   "execution_count": 29,
   "id": "cd674c04-a65c-4c64-a2bb-c9c3111ae718",
   "metadata": {},
   "outputs": [],
   "source": [
    "random.seed(99)"
   ]
  },
  {
   "cell_type": "code",
   "execution_count": 30,
   "id": "af35c099-8de6-498d-b0af-e578ac3e0351",
   "metadata": {},
   "outputs": [
    {
     "data": {
      "text/plain": [
       "7"
      ]
     },
     "execution_count": 30,
     "metadata": {},
     "output_type": "execute_result"
    }
   ],
   "source": [
    "random.randint(1,10)"
   ]
  },
  {
   "cell_type": "code",
   "execution_count": 31,
   "id": "e2fcc165-61ac-4f90-aa92-449024ee5cfe",
   "metadata": {},
   "outputs": [
    {
     "data": {
      "text/plain": [
       "7"
      ]
     },
     "execution_count": 31,
     "metadata": {},
     "output_type": "execute_result"
    }
   ],
   "source": [
    "random.randint(1,10)"
   ]
  },
  {
   "cell_type": "code",
   "execution_count": 32,
   "id": "03d9849d-ef8c-4b2a-88a9-67cb7951040f",
   "metadata": {},
   "outputs": [
    {
     "data": {
      "text/plain": [
       "4"
      ]
     },
     "execution_count": 32,
     "metadata": {},
     "output_type": "execute_result"
    }
   ],
   "source": [
    "random.randint(1,10)"
   ]
  },
  {
   "cell_type": "code",
   "execution_count": 33,
   "id": "dc68bb6b-3fc1-4cf7-9ce6-34d39adc3a75",
   "metadata": {},
   "outputs": [
    {
     "data": {
      "text/plain": [
       "10"
      ]
     },
     "execution_count": 33,
     "metadata": {},
     "output_type": "execute_result"
    }
   ],
   "source": [
    "random.randint(1,10)"
   ]
  },
  {
   "cell_type": "code",
   "execution_count": 34,
   "id": "74b3093f-b6d3-4b6a-b6fe-f1e3bda81c78",
   "metadata": {},
   "outputs": [],
   "source": [
    "random.seed(555)"
   ]
  },
  {
   "cell_type": "code",
   "execution_count": 35,
   "id": "471c1a4f-98cb-43de-bbe4-a887eba47523",
   "metadata": {},
   "outputs": [
    {
     "name": "stdout",
     "output_type": "stream",
     "text": [
      "4\n",
      "5\n",
      "3\n",
      "3\n"
     ]
    }
   ],
   "source": [
    "print(random.randint(1,10))\n",
    "print(random.randint(1,10))\n",
    "print(random.randint(1,10))\n",
    "print(random.randint(1,10))"
   ]
  },
  {
   "cell_type": "markdown",
   "id": "2442a7db-84a9-49be-83e9-ec283ea4c26d",
   "metadata": {},
   "source": [
    "#### Class test\n",
    "\n",
    "**File Handling with Data Processing** \n",
    " \n",
    "Write a Python program that:\n",
    "1. Reads data from a text file containing multiple lines, where each line contains a name and a score (e.g., `John, 89`).\n",
    "2. Stores the data in a dictionary and sorts the dictionary by score.\n",
    "3. Writes the sorted data back into a new file, where the highest scores appear first.\n",
    " \n",
    " "
   ]
  },
  {
   "cell_type": "code",
   "execution_count": null,
   "id": "2aa509ee-9353-4d98-94ea-e4638af65735",
   "metadata": {},
   "outputs": [],
   "source": []
  },
  {
   "cell_type": "code",
   "execution_count": 90,
   "id": "b75461fb-9c66-43bd-a97e-38da96fc9f6d",
   "metadata": {},
   "outputs": [],
   "source": [
    "data = {}\n",
    "with open(\"grade.txt\", 'r') as file:\n",
    "    for line in file:\n",
    "        words = line.strip().split(\", \")\n",
    "        name, marks = words\n",
    "        data[name] =  marks\n",
    "\n",
    "sorted_data = sorted(data.items(), key = lambda x : x[1], reverse= True)\n",
    "\n",
    "with open(\"sorted_data.txt\", \"w\") as files:\n",
    "    for person in sorted_data:\n",
    "        files.write(f\"{person},{marks}\\n\")\n",
    "    "
   ]
  },
  {
   "cell_type": "code",
   "execution_count": 67,
   "id": "0915cab8-17c5-4eff-9eff-bb0ea878b05d",
   "metadata": {},
   "outputs": [
    {
     "data": {
      "text/plain": [
       "{'John': 98, 'Hari': 33, 'Andrew': 43, 'Saimon': 66, 'July': 32, 'hari': 62}"
      ]
     },
     "execution_count": 67,
     "metadata": {},
     "output_type": "execute_result"
    }
   ],
   "source": []
  },
  {
   "cell_type": "code",
   "execution_count": null,
   "id": "5fb84d8b-1c64-42e0-bf12-86dd423b3b88",
   "metadata": {},
   "outputs": [],
   "source": []
  },
  {
   "cell_type": "code",
   "execution_count": null,
   "id": "64400327-9e4c-4392-aa78-6de820ac70f1",
   "metadata": {},
   "outputs": [],
   "source": []
  },
  {
   "cell_type": "code",
   "execution_count": null,
   "id": "669ec651-29c4-43fa-a888-f9467ccea889",
   "metadata": {},
   "outputs": [],
   "source": []
  },
  {
   "cell_type": "code",
   "execution_count": null,
   "id": "67542c97-c946-4a6a-a0fc-03c1a7af7d0e",
   "metadata": {},
   "outputs": [],
   "source": []
  },
  {
   "cell_type": "code",
   "execution_count": null,
   "id": "066eeff3-fcb5-439b-918b-7d9e34dd017c",
   "metadata": {},
   "outputs": [],
   "source": []
  }
 ],
 "metadata": {
  "kernelspec": {
   "display_name": "Python 3 (ipykernel)",
   "language": "python",
   "name": "python3"
  },
  "language_info": {
   "codemirror_mode": {
    "name": "ipython",
    "version": 3
   },
   "file_extension": ".py",
   "mimetype": "text/x-python",
   "name": "python",
   "nbconvert_exporter": "python",
   "pygments_lexer": "ipython3",
   "version": "3.11.10"
  }
 },
 "nbformat": 4,
 "nbformat_minor": 5
}

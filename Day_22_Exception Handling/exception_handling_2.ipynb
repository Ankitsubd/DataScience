{
 "cells": [
  {
   "cell_type": "markdown",
   "id": "719b59f9-6a5d-4923-b404-82af11251cb7",
   "metadata": {},
   "source": [
    "## Basic Exception Handling \n",
    "\n",
    "\n"
   ]
  },
  {
   "cell_type": "code",
   "execution_count": 3,
   "id": "38486340-17e7-4777-8369-27c082caad9c",
   "metadata": {},
   "outputs": [
    {
     "name": "stdin",
     "output_type": "stream",
     "text": [
      "Enter a Number:  hj\n"
     ]
    },
    {
     "name": "stdout",
     "output_type": "stream",
     "text": [
      "Invalid Input, Enter value between 0 to 9\n"
     ]
    }
   ],
   "source": [
    "try:\n",
    "    num = int(input(\"Enter a Number: \"))\n",
    "    print(num)\n",
    "\n",
    "except ValueError:\n",
    "    print(\"Invalid Input, Enter value between 0 to 9\")"
   ]
  },
  {
   "cell_type": "code",
   "execution_count": null,
   "id": "6141551a-b958-402f-b147-853198fd6d48",
   "metadata": {},
   "outputs": [],
   "source": []
  },
  {
   "cell_type": "markdown",
   "id": "c467db6c-1b71-4c2f-ab7d-99eb4ee78177",
   "metadata": {},
   "source": [
    "## Catch Multiple Exceptions"
   ]
  },
  {
   "cell_type": "code",
   "execution_count": 5,
   "id": "de783aff-82cd-44eb-9b23-b13e344b7373",
   "metadata": {},
   "outputs": [
    {
     "name": "stdin",
     "output_type": "stream",
     "text": [
      "Enter a Number:  2\n",
      "Enter a another Number:  0\n"
     ]
    },
    {
     "name": "stdout",
     "output_type": "stream",
     "text": [
      "Can't divide by zero\n",
      "1\n"
     ]
    }
   ],
   "source": [
    "try:\n",
    "    x = int(input(\"Enter a Number: \"))\n",
    "    y = int(input(\"Enter a another Number: \"))\n",
    "    result = x / y\n",
    "except ValueError:\n",
    "    print(\"Invalid Input, Enter value between 0 to 9\")\n",
    "    result = 1\n",
    "\n",
    "except ZeroDivisionError:\n",
    "    print(\"Can't divide by zero\")\n",
    "    result = 1\n",
    "print(result)"
   ]
  },
  {
   "cell_type": "code",
   "execution_count": 6,
   "id": "eec72c88-b473-4153-97a1-584a3b2c25c3",
   "metadata": {},
   "outputs": [
    {
     "name": "stdout",
     "output_type": "stream",
     "text": [
      "CAn't convert to int\n"
     ]
    }
   ],
   "source": [
    "value = 'abcd'\n",
    "try:\n",
    "    print(int(value))\n",
    "\n",
    "except (ValueError, TypeError):\n",
    "    print(\"CAn't convert to int\")"
   ]
  },
  {
   "cell_type": "code",
   "execution_count": 8,
   "id": "bfaa1602-c656-4c63-8b5b-b4d0d1432a34",
   "metadata": {},
   "outputs": [
    {
     "name": "stdout",
     "output_type": "stream",
     "text": [
      "Can't convert to int invalid literal for int() with base 10: 'abcd'\n"
     ]
    }
   ],
   "source": [
    "value = 'abcd'\n",
    "try:\n",
    "    print(int(value))\n",
    "\n",
    "except Exception as e: # any error\n",
    "    print(\"Can't convert to int\", e)"
   ]
  },
  {
   "cell_type": "code",
   "execution_count": null,
   "id": "89db3701-6bef-45f0-9cd9-436b4332b1ea",
   "metadata": {},
   "outputs": [],
   "source": []
  },
  {
   "cell_type": "code",
   "execution_count": 16,
   "id": "62738565-89b9-448e-ae78-9c6c09e73a3c",
   "metadata": {},
   "outputs": [
    {
     "name": "stdout",
     "output_type": "stream",
     "text": [
      "Error: list index out of range\n"
     ]
    },
    {
     "data": {
      "text/plain": [
       "'a'"
      ]
     },
     "execution_count": 16,
     "metadata": {},
     "output_type": "execute_result"
    }
   ],
   "source": [
    "# try:\n",
    "#     lst = ['a', 'b', 'c', 'd']\n",
    "    \n",
    "# except IndexError as e:\n",
    "#     print(\"Index out of range\", e)\n",
    "#     print(lst[0])\n",
    "\n",
    "def get_list(index):\n",
    "    try:\n",
    "        return lst[index]\n",
    "\n",
    "    except IndexError as e:\n",
    "        print(f\"Error: {e}\")\n",
    "        return lst[0]\n",
    "\n",
    "lst = ['a', 'b', 'c', 'd']\n",
    "get_list(6)"
   ]
  },
  {
   "cell_type": "code",
   "execution_count": 18,
   "id": "3a75f9ff-1e6f-4626-813d-a2085538581d",
   "metadata": {},
   "outputs": [
    {
     "name": "stdin",
     "output_type": "stream",
     "text": [
      "enter the count number 5\n"
     ]
    },
    {
     "name": "stdout",
     "output_type": "stream",
     "text": [
      "Please enter valid index\n",
      "a\n"
     ]
    }
   ],
   "source": [
    "try:\n",
    "    num = int(input(\"enter the count number\"))\n",
    "    element = lst[num]\n",
    "\n",
    "except IndexError:\n",
    "    print(\"Please enter valid index\")\n",
    "    element = lst[0]\n",
    "print(element)"
   ]
  },
  {
   "cell_type": "markdown",
   "id": "3340dfc6-4a85-46f0-852f-55bd5a787414",
   "metadata": {},
   "source": [
    "### Else Block"
   ]
  },
  {
   "cell_type": "code",
   "execution_count": 19,
   "id": "7b4b3904-d6bc-4671-ab78-fe820387f2a7",
   "metadata": {},
   "outputs": [
    {
     "name": "stdin",
     "output_type": "stream",
     "text": [
      "Enter a Number:  6\n",
      "Enter a another Number:  2\n"
     ]
    },
    {
     "name": "stdout",
     "output_type": "stream",
     "text": [
      "3.0\n"
     ]
    }
   ],
   "source": [
    "try:\n",
    "    x = int(input(\"Enter a Number: \"))\n",
    "    y = int(input(\"Enter a another Number: \"))\n",
    "    result = x / y\n",
    "except ValueError:\n",
    "    print(\"Invalid Input, Enter value between 0 to 9\")\n",
    "    result = 1\n",
    "\n",
    "except ZeroDivisionError:\n",
    "    print(\"Can't divide by zero\")\n",
    "    result = 1\n",
    "\n",
    "else:\n",
    "    print(result)"
   ]
  },
  {
   "cell_type": "markdown",
   "id": "b6bb3edc-7fb1-4863-9d36-2bdec54c72bb",
   "metadata": {},
   "source": [
    "## The finally Block\n",
    "\n",
    "Always run the code under finally"
   ]
  },
  {
   "cell_type": "code",
   "execution_count": 20,
   "id": "c0c4f27c-033f-4c04-a201-41b3b8767e2b",
   "metadata": {},
   "outputs": [
    {
     "name": "stdin",
     "output_type": "stream",
     "text": [
      "Enter a Number:  4\n",
      "Enter a another Number:  5\n"
     ]
    },
    {
     "name": "stdout",
     "output_type": "stream",
     "text": [
      "0.8\n",
      "This block always run\n"
     ]
    }
   ],
   "source": [
    "try:\n",
    "    x = int(input(\"Enter a Number: \"))\n",
    "    y = int(input(\"Enter a another Number: \"))\n",
    "    result = x / y\n",
    "except ValueError:\n",
    "    print(\"Invalid Input, Enter value between 0 to 9\")\n",
    "    result = 1\n",
    "\n",
    "except ZeroDivisionError:\n",
    "    print(\"Can't divide by zero\")\n",
    "    result = 1\n",
    "    \n",
    "else:\n",
    "    print(result)\n",
    "\n",
    "finally:\n",
    "    print(\"This block always run\")"
   ]
  },
  {
   "cell_type": "code",
   "execution_count": null,
   "id": "9ee9c1c4-d11b-4a93-b7e5-244c2c6f50e2",
   "metadata": {},
   "outputs": [],
   "source": []
  },
  {
   "cell_type": "markdown",
   "id": "a6abe609-9d32-4082-8a88-39ad8ec64542",
   "metadata": {},
   "source": [
    "## Custom Error Handling"
   ]
  },
  {
   "cell_type": "code",
   "execution_count": 41,
   "id": "d52d5357-995d-4d16-98ca-a0d146053578",
   "metadata": {},
   "outputs": [],
   "source": [
    "class UserNotFound(Exception):\n",
    "    pass"
   ]
  },
  {
   "cell_type": "code",
   "execution_count": 42,
   "id": "c9de2653-4232-4e30-81cc-2b2ce2a8ae7d",
   "metadata": {},
   "outputs": [],
   "source": [
    "def get_user(user_id):\n",
    "    \"\"\"\n",
    "    Exception:\n",
    "        UserNotFound, if no user with defined user_id\n",
    "    \"\"\"\n",
    "    raise UserNotFound(f\"No user with {user_id}\")"
   ]
  },
  {
   "cell_type": "code",
   "execution_count": 43,
   "id": "dc8d1d08-7254-482a-939b-e5a71773a38a",
   "metadata": {},
   "outputs": [
    {
     "ename": "NameError",
     "evalue": "name 'user_id' is not defined",
     "output_type": "error",
     "traceback": [
      "\u001b[0;31m---------------------------------------------------------------------------\u001b[0m",
      "\u001b[0;31mUserNotFound\u001b[0m                              Traceback (most recent call last)",
      "Cell \u001b[0;32mIn[43], line 2\u001b[0m\n\u001b[1;32m      1\u001b[0m \u001b[38;5;28;01mtry\u001b[39;00m:\n\u001b[0;32m----> 2\u001b[0m     \u001b[43mget_user\u001b[49m\u001b[43m(\u001b[49m\u001b[38;5;241;43m3\u001b[39;49m\u001b[43m)\u001b[49m\n\u001b[1;32m      4\u001b[0m \u001b[38;5;28;01mexcept\u001b[39;00m UserNotFound:\n",
      "Cell \u001b[0;32mIn[42], line 6\u001b[0m, in \u001b[0;36mget_user\u001b[0;34m(user_id)\u001b[0m\n\u001b[1;32m      2\u001b[0m \u001b[38;5;250m\u001b[39m\u001b[38;5;124;03m\"\"\"\u001b[39;00m\n\u001b[1;32m      3\u001b[0m \u001b[38;5;124;03mException:\u001b[39;00m\n\u001b[1;32m      4\u001b[0m \u001b[38;5;124;03m    UserNotFound, if no user with defined user_id\u001b[39;00m\n\u001b[1;32m      5\u001b[0m \u001b[38;5;124;03m\"\"\"\u001b[39;00m\n\u001b[0;32m----> 6\u001b[0m \u001b[38;5;28;01mraise\u001b[39;00m UserNotFound(\u001b[38;5;124mf\u001b[39m\u001b[38;5;124m\"\u001b[39m\u001b[38;5;124mNo user with \u001b[39m\u001b[38;5;132;01m{\u001b[39;00muser_id\u001b[38;5;132;01m}\u001b[39;00m\u001b[38;5;124m\"\u001b[39m)\n",
      "\u001b[0;31mUserNotFound\u001b[0m: No user with 3",
      "\nDuring handling of the above exception, another exception occurred:\n",
      "\u001b[0;31mNameError\u001b[0m                                 Traceback (most recent call last)",
      "Cell \u001b[0;32mIn[43], line 5\u001b[0m\n\u001b[1;32m      2\u001b[0m     get_user(\u001b[38;5;241m3\u001b[39m)\n\u001b[1;32m      4\u001b[0m \u001b[38;5;28;01mexcept\u001b[39;00m UserNotFound:\n\u001b[0;32m----> 5\u001b[0m     \u001b[38;5;28mprint\u001b[39m(\u001b[38;5;124mf\u001b[39m\u001b[38;5;124m'\u001b[39m\u001b[38;5;124mNo user with id \u001b[39m\u001b[38;5;132;01m{\u001b[39;00m\u001b[43muser_id\u001b[49m\u001b[38;5;132;01m}\u001b[39;00m\u001b[38;5;124m'\u001b[39m)\n",
      "\u001b[0;31mNameError\u001b[0m: name 'user_id' is not defined"
     ]
    }
   ],
   "source": [
    "try:\n",
    "    get_user(3)\n",
    "\n",
    "except UserNotFound:\n",
    "    print(f'No user with id {user_id}')"
   ]
  },
  {
   "cell_type": "code",
   "execution_count": null,
   "id": "936bee28-f1ff-4b34-ad99-f72f255fec03",
   "metadata": {},
   "outputs": [],
   "source": []
  },
  {
   "cell_type": "code",
   "execution_count": null,
   "id": "75f2e47f-f49a-4b09-a027-c954f7a9529c",
   "metadata": {},
   "outputs": [],
   "source": []
  },
  {
   "cell_type": "code",
   "execution_count": null,
   "id": "c1349fa1-edfb-4cbd-b15a-26412a3c36d9",
   "metadata": {},
   "outputs": [],
   "source": []
  },
  {
   "cell_type": "code",
   "execution_count": null,
   "id": "7b6e7197-56f0-430a-87d9-8cfce96bc147",
   "metadata": {},
   "outputs": [],
   "source": []
  },
  {
   "cell_type": "code",
   "execution_count": null,
   "id": "b4713a9a-b1e7-4d75-865f-2a19dccb5d65",
   "metadata": {},
   "outputs": [],
   "source": []
  },
  {
   "cell_type": "code",
   "execution_count": null,
   "id": "12e9091b-f97f-454d-b658-0ff3e384c7cc",
   "metadata": {},
   "outputs": [],
   "source": []
  },
  {
   "cell_type": "code",
   "execution_count": null,
   "id": "7c7ffd19-52a1-4ab1-87be-8355f7c8465a",
   "metadata": {},
   "outputs": [],
   "source": []
  }
 ],
 "metadata": {
  "kernelspec": {
   "display_name": "Python 3 (ipykernel)",
   "language": "python",
   "name": "python3"
  },
  "language_info": {
   "codemirror_mode": {
    "name": "ipython",
    "version": 3
   },
   "file_extension": ".py",
   "mimetype": "text/x-python",
   "name": "python",
   "nbconvert_exporter": "python",
   "pygments_lexer": "ipython3",
   "version": "3.11.10"
  }
 },
 "nbformat": 4,
 "nbformat_minor": 5
}

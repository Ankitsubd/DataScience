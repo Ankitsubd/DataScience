{
 "cells": [
  {
   "cell_type": "code",
   "execution_count": 3,
   "id": "564abbd3-36b1-43f6-a49d-e28e8bfc30e8",
   "metadata": {},
   "outputs": [],
   "source": [
    "from my_calculator.add_two import Sum"
   ]
  },
  {
   "cell_type": "code",
   "execution_count": 4,
   "id": "6ffe6cef-42de-435f-a4df-8e671a63a913",
   "metadata": {},
   "outputs": [],
   "source": [
    "module = Sum(2,5)"
   ]
  },
  {
   "cell_type": "code",
   "execution_count": 6,
   "id": "0f43f483-e04a-42b1-ab6c-34af271ac87b",
   "metadata": {},
   "outputs": [
    {
     "data": {
      "text/plain": [
       "7"
      ]
     },
     "execution_count": 6,
     "metadata": {},
     "output_type": "execute_result"
    }
   ],
   "source": [
    "module.add()"
   ]
  },
  {
   "cell_type": "code",
   "execution_count": null,
   "id": "729f2d6d-d107-4f5d-a408-15dba7a24c12",
   "metadata": {},
   "outputs": [],
   "source": []
  }
 ],
 "metadata": {
  "kernelspec": {
   "display_name": "Python 3 (ipykernel)",
   "language": "python",
   "name": "python3"
  },
  "language_info": {
   "codemirror_mode": {
    "name": "ipython",
    "version": 3
   },
   "file_extension": ".py",
   "mimetype": "text/x-python",
   "name": "python",
   "nbconvert_exporter": "python",
   "pygments_lexer": "ipython3",
   "version": "3.11.10"
  }
 },
 "nbformat": 4,
 "nbformat_minor": 5
}

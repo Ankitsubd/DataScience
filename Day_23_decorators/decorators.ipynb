{
 "cells": [
  {
   "cell_type": "markdown",
   "id": "79356910-09c6-48cf-8971-48791fe77595",
   "metadata": {},
   "source": [
    "### Python Decorators"
   ]
  },
  {
   "cell_type": "code",
   "execution_count": 5,
   "id": "760b0e04-7372-4532-a7dc-cf410e31ccec",
   "metadata": {},
   "outputs": [],
   "source": [
    "def decorator(func):\n",
    "    def wrapper():\n",
    "        print(\"Before calling the function.\")\n",
    "        func()\n",
    "        print(\"After calling the function.\")\n",
    "\n",
    "    return wrapper"
   ]
  },
  {
   "cell_type": "code",
   "execution_count": 6,
   "id": "117a15ee-34c9-4f10-a238-03c7c437e625",
   "metadata": {},
   "outputs": [
    {
     "name": "stdout",
     "output_type": "stream",
     "text": [
      "Before calling the function.\n",
      "Hello, World!\n",
      "After calling the function.\n"
     ]
    }
   ],
   "source": [
    "@decorator\n",
    "def greet():\n",
    "    print(\"Hello, World!\")\n",
    "\n",
    "greet()"
   ]
  },
  {
   "cell_type": "markdown",
   "id": "3a4a79cc-4b83-476d-95d0-a98c54e613e6",
   "metadata": {},
   "source": [
    "### Check email using decorator"
   ]
  },
  {
   "cell_type": "code",
   "execution_count": 13,
   "id": "45640fb9-0137-46f8-a9d7-193dc59a5e66",
   "metadata": {},
   "outputs": [],
   "source": [
    "def validate_email(func):\n",
    "\n",
    "    def wrapper(user_email):\n",
    "        if user_email.endswith('@gmail.com'):\n",
    "            func(user_email)\n",
    "        else:\n",
    "            print(\"Invalid Email\")\n",
    "    return wrapper"
   ]
  },
  {
   "cell_type": "code",
   "execution_count": 14,
   "id": "53dd15b6-9dbb-47fb-a72e-205861d045a0",
   "metadata": {},
   "outputs": [],
   "source": [
    "@validate_email\n",
    "def login_user(email):\n",
    "    print(\"Logged in\")"
   ]
  },
  {
   "cell_type": "code",
   "execution_count": 15,
   "id": "52eaa293-8919-4025-bcc5-3f590ee35f31",
   "metadata": {},
   "outputs": [
    {
     "name": "stdout",
     "output_type": "stream",
     "text": [
      "Logged in\n"
     ]
    }
   ],
   "source": [
    "login_user(\"Anlit@gmail.com\")"
   ]
  },
  {
   "cell_type": "code",
   "execution_count": null,
   "id": "abb54ef2-8956-41f1-9b36-82d96bf2294f",
   "metadata": {},
   "outputs": [],
   "source": []
  },
  {
   "cell_type": "markdown",
   "id": "c54cc4a4-6e37-4f99-b523-93f41104d7ff",
   "metadata": {},
   "source": [
    "### Function Timing Decorator:"
   ]
  },
  {
   "cell_type": "code",
   "execution_count": 26,
   "id": "f2deaaa2-3ec9-4a30-a39b-cf0fc00e056b",
   "metadata": {},
   "outputs": [],
   "source": [
    "import time\n",
    "def time_it(func):\n",
    "    def wrapper():\n",
    "        print(\"Ready to sleep\")\n",
    "        func()\n",
    "        print(\"Done sleeping\")\n",
    "    return wrapper\n",
    "\n",
    "@time_it\n",
    "def slow_function():\n",
    "    time.sleep(5)"
   ]
  },
  {
   "cell_type": "code",
   "execution_count": 27,
   "id": "0039a88b-ef52-49b9-aad7-78e854ec071f",
   "metadata": {},
   "outputs": [
    {
     "name": "stdout",
     "output_type": "stream",
     "text": [
      "Ready to sleep\n",
      "Done sleeping\n"
     ]
    }
   ],
   "source": [
    "slow_function()"
   ]
  },
  {
   "cell_type": "code",
   "execution_count": 54,
   "id": "dbd69cce-6517-41b8-9e55-537ce4016e9b",
   "metadata": {},
   "outputs": [],
   "source": [
    "# import time   already import\n",
    "\n",
    "def time_it(func):\n",
    "    def wrapper(*args, **kwargs):\n",
    "        st = time.time()\n",
    "        result = func(*args, **kwargs)\n",
    "        et = time.time()\n",
    "        print(f\"Total Time taken: {et - st} second\")\n",
    "        return result\n",
    "    return wrapper"
   ]
  },
  {
   "cell_type": "code",
   "execution_count": 55,
   "id": "68d856a9-8372-4abf-8370-bec3cc7a2c0b",
   "metadata": {},
   "outputs": [],
   "source": [
    "@time_it\n",
    "def slow_function():\n",
    "    time.sleep(5)\n",
    "    print(\"Done Sleeping\")\n",
    "\n",
    "@time_it\n",
    "def find_square(x: int):\n",
    "    return x*x"
   ]
  },
  {
   "cell_type": "code",
   "execution_count": 56,
   "id": "d9a958f6-c506-407d-b002-8cbf8ba1ecdd",
   "metadata": {},
   "outputs": [
    {
     "name": "stdout",
     "output_type": "stream",
     "text": [
      "Done Sleeping\n",
      "Total Time taken: 5.0055131912231445 second\n"
     ]
    }
   ],
   "source": [
    "slow_function()"
   ]
  },
  {
   "cell_type": "code",
   "execution_count": 57,
   "id": "9cbebe4f-a6ca-4253-84fc-979614ece2b0",
   "metadata": {},
   "outputs": [
    {
     "name": "stdout",
     "output_type": "stream",
     "text": [
      "Total Time taken: 2.1457672119140625e-06 second\n"
     ]
    },
    {
     "data": {
      "text/plain": [
       "625"
      ]
     },
     "execution_count": 57,
     "metadata": {},
     "output_type": "execute_result"
    }
   ],
   "source": [
    "find_square(25)"
   ]
  },
  {
   "cell_type": "code",
   "execution_count": null,
   "id": "60c4d51f-f8c0-4c0f-b517-b5611e65419a",
   "metadata": {},
   "outputs": [],
   "source": []
  }
 ],
 "metadata": {
  "kernelspec": {
   "display_name": "Python 3 (ipykernel)",
   "language": "python",
   "name": "python3"
  },
  "language_info": {
   "codemirror_mode": {
    "name": "ipython",
    "version": 3
   },
   "file_extension": ".py",
   "mimetype": "text/x-python",
   "name": "python",
   "nbconvert_exporter": "python",
   "pygments_lexer": "ipython3",
   "version": "3.11.10"
  }
 },
 "nbformat": 4,
 "nbformat_minor": 5
}

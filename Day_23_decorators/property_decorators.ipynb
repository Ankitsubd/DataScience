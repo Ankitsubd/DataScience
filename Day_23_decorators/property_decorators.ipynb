{
 "cells": [
  {
   "cell_type": "markdown",
   "id": "bbe77d1e-189d-4307-bacc-756797183ee2",
   "metadata": {},
   "source": [
    "### Property Decorator\n",
    "\n",
    "1. getters\n",
    "2. setters\n",
    "3. deleters"
   ]
  },
  {
   "cell_type": "markdown",
   "id": "6628b4f0-caee-4882-b1fb-9e2bc0f9e228",
   "metadata": {},
   "source": [
    "#### Getter"
   ]
  },
  {
   "cell_type": "code",
   "execution_count": 16,
   "id": "cb89515c-18ba-41b3-9ed9-c47c9c1332f5",
   "metadata": {},
   "outputs": [],
   "source": [
    "class Person:\n",
    "    def __init__(self, name):\n",
    "        self.__name = name\n",
    "\n",
    "    @property\n",
    "    def name(self):\n",
    "        print(\"Getting Name\")\n",
    "        return self.__name\n",
    "\n",
    "person = Person(\"Han Solo\")"
   ]
  },
  {
   "cell_type": "code",
   "execution_count": 17,
   "id": "aa5631d4-3dc6-4f2a-901a-206ebda684ff",
   "metadata": {},
   "outputs": [
    {
     "name": "stdout",
     "output_type": "stream",
     "text": [
      "Getting Name\n"
     ]
    },
    {
     "data": {
      "text/plain": [
       "'Han Solo'"
      ]
     },
     "execution_count": 17,
     "metadata": {},
     "output_type": "execute_result"
    }
   ],
   "source": [
    "person.name"
   ]
  },
  {
   "cell_type": "code",
   "execution_count": null,
   "id": "afe39bce-3c3f-459f-b31e-208567859384",
   "metadata": {},
   "outputs": [],
   "source": []
  },
  {
   "cell_type": "markdown",
   "id": "dc228248-1ef7-4d54-a10f-af965283256a",
   "metadata": {},
   "source": [
    "#### Setter"
   ]
  },
  {
   "cell_type": "code",
   "execution_count": 18,
   "id": "32d8304b-9b70-4630-ae9c-470776ee1453",
   "metadata": {},
   "outputs": [],
   "source": [
    "class Person:\n",
    "    def __init__(self, name):\n",
    "        self.__name = name\n",
    "\n",
    "    @property\n",
    "    def name(self):\n",
    "        print(\"Getting Name\")\n",
    "        return self.__name\n",
    "\n",
    "    @name.setter\n",
    "    def name(self, value):\n",
    "        print(\"setting Name ..\")\n",
    "        self.__name = value\n",
    "\n",
    "person = Person(\"Han Solo\")"
   ]
  },
  {
   "cell_type": "code",
   "execution_count": 19,
   "id": "2f2e71d7-bd31-436a-ae97-248b3d8a18d4",
   "metadata": {},
   "outputs": [
    {
     "name": "stdout",
     "output_type": "stream",
     "text": [
      "setting Name ..\n"
     ]
    }
   ],
   "source": [
    "person.name = \"Ankit Subedi\""
   ]
  },
  {
   "cell_type": "code",
   "execution_count": 20,
   "id": "c42168de-b623-47df-a473-cbd5339e73d8",
   "metadata": {},
   "outputs": [
    {
     "name": "stdout",
     "output_type": "stream",
     "text": [
      "Getting Name\n"
     ]
    },
    {
     "data": {
      "text/plain": [
       "'Ankit Subedi'"
      ]
     },
     "execution_count": 20,
     "metadata": {},
     "output_type": "execute_result"
    }
   ],
   "source": [
    "person.name"
   ]
  },
  {
   "cell_type": "code",
   "execution_count": null,
   "id": "7c9c40c0-90ba-4319-bd65-1a82c7b6505f",
   "metadata": {},
   "outputs": [],
   "source": []
  },
  {
   "cell_type": "markdown",
   "id": "c68d897f-f24f-4c06-9ca3-0c88cd8e1606",
   "metadata": {},
   "source": [
    "#### Deleter"
   ]
  },
  {
   "cell_type": "code",
   "execution_count": 22,
   "id": "93470f3c-0447-480b-ad4f-4bd977748d24",
   "metadata": {},
   "outputs": [],
   "source": [
    "class Person:\n",
    "    def __init__(self, name):\n",
    "        self.__name = name\n",
    "\n",
    "    @property\n",
    "    def name(self):\n",
    "        print(\"Getting Name\")\n",
    "        return self.__name\n",
    "\n",
    "    @name.setter\n",
    "    def name(self, value):\n",
    "        print(\"setting Name ..\")\n",
    "        self.__name = value\n",
    "\n",
    "    @name.deleter\n",
    "    def name(self):\n",
    "        print(\"Deleting name ...\")\n",
    "        del self.__name\n",
    "\n",
    "person = Person(\"Han Solo\")"
   ]
  },
  {
   "cell_type": "code",
   "execution_count": 23,
   "id": "b015981b-fe49-414f-a638-7d382a2fe03d",
   "metadata": {},
   "outputs": [
    {
     "name": "stdout",
     "output_type": "stream",
     "text": [
      "Getting Name\n"
     ]
    },
    {
     "data": {
      "text/plain": [
       "'Han Solo'"
      ]
     },
     "execution_count": 23,
     "metadata": {},
     "output_type": "execute_result"
    }
   ],
   "source": [
    "person.name"
   ]
  },
  {
   "cell_type": "code",
   "execution_count": 24,
   "id": "763efa70-bb9c-4003-928d-ecd3f6644614",
   "metadata": {},
   "outputs": [
    {
     "name": "stdout",
     "output_type": "stream",
     "text": [
      "setting Name ..\n"
     ]
    }
   ],
   "source": [
    "person.name = \"Ankit Subedi\""
   ]
  },
  {
   "cell_type": "code",
   "execution_count": 25,
   "id": "59b3aa21-93dd-4ab6-a0a1-e9497702d0e8",
   "metadata": {},
   "outputs": [
    {
     "name": "stdout",
     "output_type": "stream",
     "text": [
      "Getting Name\n"
     ]
    },
    {
     "data": {
      "text/plain": [
       "'Ankit Subedi'"
      ]
     },
     "execution_count": 25,
     "metadata": {},
     "output_type": "execute_result"
    }
   ],
   "source": [
    "person.name"
   ]
  },
  {
   "cell_type": "code",
   "execution_count": 26,
   "id": "16b65511-7f2f-42d3-bc05-2cd2a6fbf8dc",
   "metadata": {},
   "outputs": [
    {
     "name": "stdout",
     "output_type": "stream",
     "text": [
      "Deleting name ...\n"
     ]
    }
   ],
   "source": [
    "del person.name"
   ]
  },
  {
   "cell_type": "code",
   "execution_count": 27,
   "id": "2a239a80-c526-431c-abe8-9c354eeb3f41",
   "metadata": {},
   "outputs": [
    {
     "name": "stdout",
     "output_type": "stream",
     "text": [
      "Getting Name\n"
     ]
    },
    {
     "ename": "AttributeError",
     "evalue": "'Person' object has no attribute '_Person__name'",
     "output_type": "error",
     "traceback": [
      "\u001b[0;31m---------------------------------------------------------------------------\u001b[0m",
      "\u001b[0;31mAttributeError\u001b[0m                            Traceback (most recent call last)",
      "Cell \u001b[0;32mIn[27], line 1\u001b[0m\n\u001b[0;32m----> 1\u001b[0m \u001b[43mperson\u001b[49m\u001b[38;5;241;43m.\u001b[39;49m\u001b[43mname\u001b[49m\n",
      "Cell \u001b[0;32mIn[22], line 8\u001b[0m, in \u001b[0;36mPerson.name\u001b[0;34m(self)\u001b[0m\n\u001b[1;32m      5\u001b[0m \u001b[38;5;129m@property\u001b[39m\n\u001b[1;32m      6\u001b[0m \u001b[38;5;28;01mdef\u001b[39;00m \u001b[38;5;21mname\u001b[39m(\u001b[38;5;28mself\u001b[39m):\n\u001b[1;32m      7\u001b[0m     \u001b[38;5;28mprint\u001b[39m(\u001b[38;5;124m\"\u001b[39m\u001b[38;5;124mGetting Name\u001b[39m\u001b[38;5;124m\"\u001b[39m)\n\u001b[0;32m----> 8\u001b[0m     \u001b[38;5;28;01mreturn\u001b[39;00m \u001b[38;5;28;43mself\u001b[39;49m\u001b[38;5;241;43m.\u001b[39;49m\u001b[43m__name\u001b[49m\n",
      "\u001b[0;31mAttributeError\u001b[0m: 'Person' object has no attribute '_Person__name'"
     ]
    }
   ],
   "source": [
    "person.name"
   ]
  },
  {
   "cell_type": "code",
   "execution_count": 28,
   "id": "0bfdc2da-fbc6-4d51-9e1c-381d717a4988",
   "metadata": {},
   "outputs": [
    {
     "name": "stdout",
     "output_type": "stream",
     "text": [
      "setting Name ..\n"
     ]
    }
   ],
   "source": [
    "person.name = \"RAM\""
   ]
  },
  {
   "cell_type": "code",
   "execution_count": 29,
   "id": "dd128e89-ef61-4292-a67e-419b06f94628",
   "metadata": {},
   "outputs": [
    {
     "name": "stdout",
     "output_type": "stream",
     "text": [
      "Getting Name\n"
     ]
    },
    {
     "data": {
      "text/plain": [
       "'RAM'"
      ]
     },
     "execution_count": 29,
     "metadata": {},
     "output_type": "execute_result"
    }
   ],
   "source": [
    "person.name"
   ]
  },
  {
   "cell_type": "code",
   "execution_count": null,
   "id": "e033c42d-53ef-4f71-9d01-8167ed4fe15e",
   "metadata": {},
   "outputs": [],
   "source": []
  }
 ],
 "metadata": {
  "kernelspec": {
   "display_name": "Python 3 (ipykernel)",
   "language": "python",
   "name": "python3"
  },
  "language_info": {
   "codemirror_mode": {
    "name": "ipython",
    "version": 3
   },
   "file_extension": ".py",
   "mimetype": "text/x-python",
   "name": "python",
   "nbconvert_exporter": "python",
   "pygments_lexer": "ipython3",
   "version": "3.11.10"
  }
 },
 "nbformat": 4,
 "nbformat_minor": 5
}

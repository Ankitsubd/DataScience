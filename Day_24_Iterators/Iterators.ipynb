{
 "cells": [
  {
   "cell_type": "markdown",
   "id": "9a62a928-b9b9-4bde-82b3-e9401e2213c9",
   "metadata": {},
   "source": [
    "# Iterators"
   ]
  },
  {
   "cell_type": "code",
   "execution_count": 12,
   "id": "99588dab-c403-412e-b9fb-c40c7fa78e45",
   "metadata": {},
   "outputs": [],
   "source": [
    "class Fibonacci:\n",
    "    def __init__(self, limit):\n",
    "        self.limit = limit\n",
    "\n",
    "        self.current = 0\n",
    "        self.next = 1\n",
    "        self.step = 0\n",
    "\n",
    "    def __iter__(self):\n",
    "        return self\n",
    "\n",
    "    def __next__(self):\n",
    "        if self.step >= self.limit:\n",
    "            raise StopIteration\n",
    "\n",
    "        result = self.current\n",
    "        self.current = self.next\n",
    "        self.next = self.current + self.next\n",
    "        self.step += 1\n",
    "\n",
    "        return result"
   ]
  },
  {
   "cell_type": "code",
   "execution_count": 13,
   "id": "2763d30b-9ec4-4e87-92d9-da6d670a38cb",
   "metadata": {},
   "outputs": [],
   "source": [
    "fib = Fibonacci(10)"
   ]
  },
  {
   "cell_type": "code",
   "execution_count": 14,
   "id": "562cd93c-6d80-44dd-980b-459ed48fcdcd",
   "metadata": {},
   "outputs": [
    {
     "name": "stdout",
     "output_type": "stream",
     "text": [
      "0\n",
      "1\n",
      "2\n",
      "4\n",
      "8\n",
      "16\n",
      "32\n",
      "64\n",
      "128\n",
      "256\n"
     ]
    }
   ],
   "source": [
    "for num in fib:\n",
    "    print(num)"
   ]
  },
  {
   "cell_type": "code",
   "execution_count": 21,
   "id": "c1103e46-031c-4a38-ac88-02d932f82762",
   "metadata": {},
   "outputs": [],
   "source": [
    "class Fibonacci:\n",
    "    def __init__(self, limit):\n",
    "        self.limit = limit\n",
    "        self.current = 0\n",
    "        self.next = 1\n",
    "        self.step = 0\n",
    "\n",
    "    def __iter__(self):\n",
    "        return self\n",
    "\n",
    "    def __next__(self):\n",
    "        if self.step >= self.limit:\n",
    "            raise StopIteration\n",
    "\n",
    "        result = self.current\n",
    "        self.current, self.next = self.next self.current + self.next  # Correct the update order\n",
    "        self.step += 1\n",
    "\n",
    "        return result\n"
   ]
  },
  {
   "cell_type": "code",
   "execution_count": 22,
   "id": "6a80f43f-5532-4864-b484-38b3c9327026",
   "metadata": {},
   "outputs": [],
   "source": [
    "fib1 = Fibonacci(10)"
   ]
  },
  {
   "cell_type": "code",
   "execution_count": 23,
   "id": "bc17dbd2-cd49-45e7-b37f-552dd751aa93",
   "metadata": {},
   "outputs": [
    {
     "name": "stdout",
     "output_type": "stream",
     "text": [
      "0\n",
      "1\n",
      "3\n",
      "9\n",
      "27\n",
      "81\n",
      "243\n",
      "729\n",
      "2187\n",
      "6561\n"
     ]
    }
   ],
   "source": [
    "for num1 in fib1:\n",
    "    print(num1)"
   ]
  },
  {
   "cell_type": "code",
   "execution_count": null,
   "id": "8786a18e-27ed-466d-9fa6-0072a461fca0",
   "metadata": {},
   "outputs": [],
   "source": []
  },
  {
   "cell_type": "code",
   "execution_count": null,
   "id": "297e9991-1866-46a4-8ccf-a15c0d82b2a6",
   "metadata": {},
   "outputs": [],
   "source": []
  },
  {
   "cell_type": "code",
   "execution_count": null,
   "id": "bf4d3ded-01ce-406f-bfcd-268ceb4d683a",
   "metadata": {},
   "outputs": [],
   "source": []
  }
 ],
 "metadata": {
  "kernelspec": {
   "display_name": "Python 3 (ipykernel)",
   "language": "python",
   "name": "python3"
  },
  "language_info": {
   "codemirror_mode": {
    "name": "ipython",
    "version": 3
   },
   "file_extension": ".py",
   "mimetype": "text/x-python",
   "name": "python",
   "nbconvert_exporter": "python",
   "pygments_lexer": "ipython3",
   "version": "3.11.10"
  }
 },
 "nbformat": 4,
 "nbformat_minor": 5
}

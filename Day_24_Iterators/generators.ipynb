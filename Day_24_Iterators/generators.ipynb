{
 "cells": [
  {
   "cell_type": "markdown",
   "id": "3e40ad84-0436-4d21-b2a7-4c967e7dfa8c",
   "metadata": {},
   "source": [
    "## Generators"
   ]
  },
  {
   "cell_type": "markdown",
   "id": "445dbfc5-754b-4ae6-90a7-d08d605da532",
   "metadata": {},
   "source": [
    "#### Step 1: Define a generator function using the yield keyword"
   ]
  },
  {
   "cell_type": "code",
   "execution_count": null,
   "id": "d5b75790-bd2c-4cad-b2ff-c4888be19f66",
   "metadata": {},
   "outputs": [],
   "source": []
  },
  {
   "cell_type": "code",
   "execution_count": 4,
   "id": "9ce66e0e-c609-41cb-a4c8-16b7905628ef",
   "metadata": {},
   "outputs": [],
   "source": [
    "def number_generator(start, end):\n",
    "    for num in range(start, end+1):\n",
    "        yield num"
   ]
  },
  {
   "cell_type": "markdown",
   "id": "d8b71208-e7f0-475b-9bbe-74e3c0a37d4d",
   "metadata": {},
   "source": [
    "#### Step 2: Create a generator object using the generator function"
   ]
  },
  {
   "cell_type": "code",
   "execution_count": 5,
   "id": "ffc79d2f-5f95-4dbc-bf59-300e667d915f",
   "metadata": {},
   "outputs": [],
   "source": [
    "gen = number_generator(10,23)"
   ]
  },
  {
   "cell_type": "code",
   "execution_count": 6,
   "id": "e6676d43-571b-490c-baec-6a1c88f411dd",
   "metadata": {},
   "outputs": [
    {
     "data": {
      "text/plain": [
       "<generator object number_generator at 0x104637100>"
      ]
     },
     "execution_count": 6,
     "metadata": {},
     "output_type": "execute_result"
    }
   ],
   "source": [
    "gen"
   ]
  },
  {
   "cell_type": "markdown",
   "id": "b6e371be-9346-45c7-998c-1f2bbb6c7cdc",
   "metadata": {},
   "source": [
    "#### Step 3: Use the generator object to generate Function"
   ]
  },
  {
   "cell_type": "code",
   "execution_count": 7,
   "id": "07cddee4-e094-4844-acf7-8d55af77aaa4",
   "metadata": {},
   "outputs": [
    {
     "name": "stdout",
     "output_type": "stream",
     "text": [
      "10\n"
     ]
    }
   ],
   "source": [
    "print(next(gen))"
   ]
  },
  {
   "cell_type": "markdown",
   "id": "3abeab9c-8aba-4375-b147-859fd825790c",
   "metadata": {},
   "source": [
    "#### Step 4: Use a for loop to generate all the values in the sequence"
   ]
  },
  {
   "cell_type": "code",
   "execution_count": 10,
   "id": "ed0139fc-145c-45dc-9293-a246bb6dad15",
   "metadata": {},
   "outputs": [
    {
     "name": "stdout",
     "output_type": "stream",
     "text": [
      "1\n",
      "2\n",
      "3\n",
      "4\n",
      "5\n",
      "6\n"
     ]
    }
   ],
   "source": [
    "my_gen = number_generator(1,6)\n",
    "\n",
    "for num in my_gen:\n",
    "    print(num)"
   ]
  },
  {
   "cell_type": "markdown",
   "id": "76bb8bb0-1906-4762-9efe-3654966fe152",
   "metadata": {},
   "source": [
    "### Generator, Alternative"
   ]
  },
  {
   "cell_type": "code",
   "execution_count": 11,
   "id": "c1c480f6-3db8-4631-9c01-fd29b9ef4f80",
   "metadata": {},
   "outputs": [],
   "source": [
    "gen = (i for i in range(1,5))"
   ]
  },
  {
   "cell_type": "code",
   "execution_count": 12,
   "id": "0a632080-fea1-4d70-9a2b-2e1bf6eda5f5",
   "metadata": {},
   "outputs": [
    {
     "data": {
      "text/plain": [
       "<generator object <genexpr> at 0x10461a400>"
      ]
     },
     "execution_count": 12,
     "metadata": {},
     "output_type": "execute_result"
    }
   ],
   "source": [
    "gen"
   ]
  },
  {
   "cell_type": "code",
   "execution_count": 17,
   "id": "e6754886-17cb-4b8b-91e9-e359f037c0db",
   "metadata": {},
   "outputs": [],
   "source": [
    "def is_prime(n):\n",
    "    if n <= 1:\n",
    "        return False\n",
    "\n",
    "    for i in range(2,int(n**0.5) + 1):\n",
    "        if n % i == 0:\n",
    "            return False\n",
    "    return True\n",
    "\n"
   ]
  },
  {
   "cell_type": "code",
   "execution_count": 18,
   "id": "1e979a5f-c3c5-4973-b229-e53bf177dacd",
   "metadata": {},
   "outputs": [
    {
     "data": {
      "text/plain": [
       "True"
      ]
     },
     "execution_count": 18,
     "metadata": {},
     "output_type": "execute_result"
    }
   ],
   "source": [
    "is_prime(5)"
   ]
  },
  {
   "cell_type": "code",
   "execution_count": 25,
   "id": "c44e6049-f366-4b50-89d6-ca5e3f57cbdc",
   "metadata": {},
   "outputs": [],
   "source": [
    "def prime_generator():\n",
    "    n = 2\n",
    "    while True:\n",
    "        if is_prime(n):\n",
    "            yield n\n",
    "\n",
    "        n += 1\n",
    "        "
   ]
  },
  {
   "cell_type": "code",
   "execution_count": 26,
   "id": "b960f5d6-4a34-4944-8ddb-be55cd0efe4d",
   "metadata": {},
   "outputs": [
    {
     "name": "stdout",
     "output_type": "stream",
     "text": [
      "2\n",
      "3\n",
      "5\n",
      "7\n",
      "11\n",
      "13\n",
      "17\n",
      "19\n",
      "23\n",
      "29\n"
     ]
    }
   ],
   "source": [
    "prime_gen = prime_generator()\n",
    "\n",
    "for _ in range(10):\n",
    "    print(next(prime_gen))"
   ]
  },
  {
   "cell_type": "code",
   "execution_count": null,
   "id": "47898f7c-b0b8-4426-9d00-ecf5cb240a92",
   "metadata": {},
   "outputs": [],
   "source": []
  },
  {
   "cell_type": "code",
   "execution_count": null,
   "id": "a17de535-2776-4d0c-8a23-2d2cbf752f2e",
   "metadata": {},
   "outputs": [],
   "source": []
  },
  {
   "cell_type": "code",
   "execution_count": null,
   "id": "2843f6b9-c649-4b4d-9a19-e46bbf608501",
   "metadata": {},
   "outputs": [],
   "source": []
  },
  {
   "cell_type": "code",
   "execution_count": null,
   "id": "3f7e4eca-f334-4cf9-9e48-97f8115e070d",
   "metadata": {},
   "outputs": [],
   "source": []
  },
  {
   "cell_type": "code",
   "execution_count": null,
   "id": "1bf3d8ad-886f-4139-b275-89a585e029f9",
   "metadata": {},
   "outputs": [],
   "source": []
  },
  {
   "cell_type": "code",
   "execution_count": null,
   "id": "91196eb0-21c1-40d4-ad31-c6cb6ab0d92b",
   "metadata": {},
   "outputs": [],
   "source": []
  },
  {
   "cell_type": "code",
   "execution_count": null,
   "id": "cfba29ef-b955-443c-8ad8-8e88b8a13910",
   "metadata": {},
   "outputs": [],
   "source": []
  }
 ],
 "metadata": {
  "kernelspec": {
   "display_name": "Python 3 (ipykernel)",
   "language": "python",
   "name": "python3"
  },
  "language_info": {
   "codemirror_mode": {
    "name": "ipython",
    "version": 3
   },
   "file_extension": ".py",
   "mimetype": "text/x-python",
   "name": "python",
   "nbconvert_exporter": "python",
   "pygments_lexer": "ipython3",
   "version": "3.11.10"
  }
 },
 "nbformat": 4,
 "nbformat_minor": 5
}

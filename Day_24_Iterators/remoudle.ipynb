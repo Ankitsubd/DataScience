{
 "cells": [
  {
   "cell_type": "markdown",
   "id": "9b3da407-7925-49de-94c1-fa3b51fbc83a",
   "metadata": {},
   "source": [
    "### Regular Expression\n",
    "```python\n",
    "     1. group()\n",
    "     2. start()\n",
    "     3. end()\n",
    "     4. span()\n",
    "```"
   ]
  },
  {
   "cell_type": "code",
   "execution_count": 1,
   "id": "bc751330-62a2-421b-bcb5-8eb0ac33b06f",
   "metadata": {},
   "outputs": [],
   "source": [
    "import re"
   ]
  },
  {
   "cell_type": "code",
   "execution_count": 2,
   "id": "efdab402-56a8-41c1-9da6-f5aeb79b016f",
   "metadata": {},
   "outputs": [],
   "source": [
    "string = \"The quick dog jumps over the lazy dog.\"\n",
    "pattern = r\"he\"\n",
    "\n",
    "match = re.search(pattern, string)"
   ]
  },
  {
   "cell_type": "code",
   "execution_count": 4,
   "id": "311687c2-d431-422f-b5a2-5d0cea84856b",
   "metadata": {},
   "outputs": [
    {
     "data": {
      "text/plain": [
       "'he'"
      ]
     },
     "execution_count": 4,
     "metadata": {},
     "output_type": "execute_result"
    }
   ],
   "source": [
    "match.group()"
   ]
  },
  {
   "cell_type": "code",
   "execution_count": 5,
   "id": "8405ac2e-0ef0-4819-b87a-bb484fdb294f",
   "metadata": {},
   "outputs": [
    {
     "data": {
      "text/plain": [
       "(1, 3)"
      ]
     },
     "execution_count": 5,
     "metadata": {},
     "output_type": "execute_result"
    }
   ],
   "source": [
    "match.span()"
   ]
  },
  {
   "cell_type": "markdown",
   "id": "b1469bd7-0004-4f3b-9a36-7ed7c1f0a1b1",
   "metadata": {},
   "source": [
    "### 2) re.findall(pattern, string, flags=0)"
   ]
  },
  {
   "cell_type": "code",
   "execution_count": 6,
   "id": "88519f1d-e344-46a2-8ce4-9b5019ff4123",
   "metadata": {},
   "outputs": [],
   "source": [
    "string = \"The quick dog jumps over the lazy dog.\"\n",
    "pattern = r\"[A-Z]he\"\n",
    "\n",
    "match = re.findall(pattern, string)"
   ]
  },
  {
   "cell_type": "code",
   "execution_count": 7,
   "id": "b3260c37-8653-48a1-a35f-09a13553035d",
   "metadata": {},
   "outputs": [
    {
     "name": "stdout",
     "output_type": "stream",
     "text": [
      "['The']\n"
     ]
    }
   ],
   "source": [
    "print(match)"
   ]
  },
  {
   "cell_type": "markdown",
   "id": "aa7916f4-cdb3-4d66-aeb4-b35f1dcd90d9",
   "metadata": {},
   "source": [
    "### 3) re.match(pattern, string,flags=0)"
   ]
  },
  {
   "cell_type": "code",
   "execution_count": 8,
   "id": "ed6b15ae-19e6-47d3-9754-71672b159ce8",
   "metadata": {},
   "outputs": [],
   "source": [
    "string = \"The quick dog jumps over the lazy dog.\"\n",
    "pattern = r\"[A-Z]he\"\n",
    "\n",
    "match = re.match(pattern, string)"
   ]
  },
  {
   "cell_type": "code",
   "execution_count": 10,
   "id": "b6b9a43c-cb09-4565-8f2f-6506a7b34c79",
   "metadata": {},
   "outputs": [
    {
     "name": "stdout",
     "output_type": "stream",
     "text": [
      "The\n"
     ]
    }
   ],
   "source": [
    "print(match.group())"
   ]
  },
  {
   "cell_type": "markdown",
   "id": "ab08fe95-834e-4bcf-a02c-a6f0a0bdd41c",
   "metadata": {},
   "source": [
    "### 4)  re.sub(pattern, repl, string, count=0,flags=0)"
   ]
  },
  {
   "cell_type": "code",
   "execution_count": 19,
   "id": "5235fb3d-332d-4796-8454-507e8b4591d8",
   "metadata": {},
   "outputs": [],
   "source": [
    "string = \"The quick dog jumps over the lazy dog.\"\n",
    "pattern = r\"[A-Z]he\"\n",
    "repl = \"the\"\n",
    "\n",
    "match = re.sub(pattern,repl, string, count = 1)"
   ]
  },
  {
   "cell_type": "code",
   "execution_count": 20,
   "id": "7271a28f-3b08-439d-a9d5-5bd8166fe0e8",
   "metadata": {},
   "outputs": [
    {
     "name": "stdout",
     "output_type": "stream",
     "text": [
      "the quick dog jumps over the lazy dog.\n"
     ]
    }
   ],
   "source": [
    "print(match)"
   ]
  },
  {
   "cell_type": "markdown",
   "id": "b29a3b3a-bde2-4755-a410-b277e5a77e77",
   "metadata": {},
   "source": [
    "### 5)  re.split(pattern,string,maxsplit=0,flags=0)"
   ]
  },
  {
   "cell_type": "code",
   "execution_count": 23,
   "id": "52057cf0-fb42-4b85-80c7-5867009082ac",
   "metadata": {},
   "outputs": [],
   "source": [
    "string = \"The quick dog jumps over the lazy dog.\"\n",
    "# pattern = r\"[a-z]he\"\n",
    "pattern = r\" \"\n",
    "\n",
    "segment = re.split(pattern, string)"
   ]
  },
  {
   "cell_type": "code",
   "execution_count": 24,
   "id": "5375a1a8-99e4-41e1-82b3-34da3ffee2e2",
   "metadata": {},
   "outputs": [
    {
     "name": "stdout",
     "output_type": "stream",
     "text": [
      "['The', 'quick', 'dog', 'jumps', 'over', 'the', 'lazy', 'dog.']\n"
     ]
    }
   ],
   "source": [
    "print(segment)"
   ]
  },
  {
   "cell_type": "code",
   "execution_count": null,
   "id": "e89123b3-1b0d-4536-9bc9-41e69692cb8b",
   "metadata": {},
   "outputs": [],
   "source": []
  },
  {
   "cell_type": "code",
   "execution_count": null,
   "id": "207b28bc-9160-4188-9019-9727a39e6620",
   "metadata": {},
   "outputs": [],
   "source": []
  },
  {
   "cell_type": "code",
   "execution_count": null,
   "id": "9ec01d16-c2c2-4f2a-a494-6c1cb0b07d0c",
   "metadata": {},
   "outputs": [],
   "source": []
  },
  {
   "cell_type": "code",
   "execution_count": null,
   "id": "a5efdebc-f7fd-4fa1-a6e5-630c08ae1985",
   "metadata": {},
   "outputs": [],
   "source": []
  },
  {
   "cell_type": "code",
   "execution_count": null,
   "id": "faa52dea-4398-4959-8c9a-bf2247464b71",
   "metadata": {},
   "outputs": [],
   "source": []
  },
  {
   "cell_type": "code",
   "execution_count": null,
   "id": "a29a9b6b-6287-40f3-a8fa-6e494c079a37",
   "metadata": {},
   "outputs": [],
   "source": []
  },
  {
   "cell_type": "code",
   "execution_count": null,
   "id": "ba087a6e-b55f-471a-b5f2-cf8138f2f5ce",
   "metadata": {},
   "outputs": [],
   "source": []
  },
  {
   "cell_type": "code",
   "execution_count": null,
   "id": "1c61ff21-2a7a-4799-aaee-28885abd84ae",
   "metadata": {},
   "outputs": [],
   "source": []
  },
  {
   "cell_type": "code",
   "execution_count": null,
   "id": "2b23bc91-930f-44f3-a66d-24acb53bd25a",
   "metadata": {},
   "outputs": [],
   "source": []
  }
 ],
 "metadata": {
  "kernelspec": {
   "display_name": "Python 3 (ipykernel)",
   "language": "python",
   "name": "python3"
  },
  "language_info": {
   "codemirror_mode": {
    "name": "ipython",
    "version": 3
   },
   "file_extension": ".py",
   "mimetype": "text/x-python",
   "name": "python",
   "nbconvert_exporter": "python",
   "pygments_lexer": "ipython3",
   "version": "3.11.10"
  }
 },
 "nbformat": 4,
 "nbformat_minor": 5
}

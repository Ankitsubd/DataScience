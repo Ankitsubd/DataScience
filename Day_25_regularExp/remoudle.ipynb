{
 "cells": [
  {
   "cell_type": "markdown",
   "id": "9b3da407-7925-49de-94c1-fa3b51fbc83a",
   "metadata": {},
   "source": [
    "### Regular Expression\n",
    "```python\n",
    "     1. group()\n",
    "     2. start()\n",
    "     3. end()\n",
    "     4. span()\n",
    "```"
   ]
  },
  {
   "cell_type": "code",
   "execution_count": 1,
   "id": "bc751330-62a2-421b-bcb5-8eb0ac33b06f",
   "metadata": {},
   "outputs": [],
   "source": [
    "import re"
   ]
  },
  {
   "cell_type": "code",
   "execution_count": 2,
   "id": "efdab402-56a8-41c1-9da6-f5aeb79b016f",
   "metadata": {},
   "outputs": [],
   "source": [
    "string = \"The quick dog jumps over the lazy dog.\"\n",
    "pattern = r\"he\"\n",
    "\n",
    "match = re.search(pattern, string)"
   ]
  },
  {
   "cell_type": "code",
   "execution_count": 3,
   "id": "311687c2-d431-422f-b5a2-5d0cea84856b",
   "metadata": {},
   "outputs": [
    {
     "data": {
      "text/plain": [
       "'he'"
      ]
     },
     "execution_count": 3,
     "metadata": {},
     "output_type": "execute_result"
    }
   ],
   "source": [
    "match.group()"
   ]
  },
  {
   "cell_type": "code",
   "execution_count": 4,
   "id": "8405ac2e-0ef0-4819-b87a-bb484fdb294f",
   "metadata": {},
   "outputs": [
    {
     "data": {
      "text/plain": [
       "(1, 3)"
      ]
     },
     "execution_count": 4,
     "metadata": {},
     "output_type": "execute_result"
    }
   ],
   "source": [
    "match.span()"
   ]
  },
  {
   "cell_type": "markdown",
   "id": "b1469bd7-0004-4f3b-9a36-7ed7c1f0a1b1",
   "metadata": {},
   "source": [
    "### 2) re.findall(pattern, string, flags=0)"
   ]
  },
  {
   "cell_type": "code",
   "execution_count": 5,
   "id": "88519f1d-e344-46a2-8ce4-9b5019ff4123",
   "metadata": {},
   "outputs": [],
   "source": [
    "string = \"The quick dog jumps over the lazy dog.\"\n",
    "pattern = r\"[A-Z]he\"\n",
    "\n",
    "match = re.findall(pattern, string)"
   ]
  },
  {
   "cell_type": "code",
   "execution_count": 6,
   "id": "b3260c37-8653-48a1-a35f-09a13553035d",
   "metadata": {},
   "outputs": [
    {
     "name": "stdout",
     "output_type": "stream",
     "text": [
      "['The']\n"
     ]
    }
   ],
   "source": [
    "print(match)"
   ]
  },
  {
   "cell_type": "markdown",
   "id": "aa7916f4-cdb3-4d66-aeb4-b35f1dcd90d9",
   "metadata": {},
   "source": [
    "### 3) re.match(pattern, string,flags=0)"
   ]
  },
  {
   "cell_type": "code",
   "execution_count": 7,
   "id": "ed6b15ae-19e6-47d3-9754-71672b159ce8",
   "metadata": {},
   "outputs": [],
   "source": [
    "string = \"The quick dog jumps over the lazy dog.\"\n",
    "pattern = r\"[A-Z]he\"\n",
    "\n",
    "match = re.match(pattern, string)"
   ]
  },
  {
   "cell_type": "code",
   "execution_count": 8,
   "id": "b6b9a43c-cb09-4565-8f2f-6506a7b34c79",
   "metadata": {},
   "outputs": [
    {
     "name": "stdout",
     "output_type": "stream",
     "text": [
      "The\n"
     ]
    }
   ],
   "source": [
    "print(match.group())"
   ]
  },
  {
   "cell_type": "markdown",
   "id": "ab08fe95-834e-4bcf-a02c-a6f0a0bdd41c",
   "metadata": {},
   "source": [
    "### 4)  re.sub(pattern, repl, string, count=0,flags=0)"
   ]
  },
  {
   "cell_type": "code",
   "execution_count": 9,
   "id": "5235fb3d-332d-4796-8454-507e8b4591d8",
   "metadata": {},
   "outputs": [],
   "source": [
    "string = \"The quick dog jumps over the lazy dog.\"\n",
    "pattern = r\"[A-Z]he\"\n",
    "repl = \"the\"\n",
    "\n",
    "match = re.sub(pattern,repl, string, count = 1)"
   ]
  },
  {
   "cell_type": "code",
   "execution_count": 10,
   "id": "7271a28f-3b08-439d-a9d5-5bd8166fe0e8",
   "metadata": {},
   "outputs": [
    {
     "name": "stdout",
     "output_type": "stream",
     "text": [
      "the quick dog jumps over the lazy dog.\n"
     ]
    }
   ],
   "source": [
    "print(match)"
   ]
  },
  {
   "cell_type": "markdown",
   "id": "b29a3b3a-bde2-4755-a410-b277e5a77e77",
   "metadata": {},
   "source": [
    "### 5)  re.split(pattern,string,maxsplit=0,flags=0)"
   ]
  },
  {
   "cell_type": "code",
   "execution_count": 15,
   "id": "52057cf0-fb42-4b85-80c7-5867009082ac",
   "metadata": {},
   "outputs": [],
   "source": [
    "string = \"The quick dog jumps over the lazy dog.\"\n",
    "# pattern = r\"[a-z]he\"\n",
    "pattern = r\" \"\n",
    "\n",
    "segments = re.split(pattern, string, maxsplit=3)"
   ]
  },
  {
   "cell_type": "code",
   "execution_count": 16,
   "id": "5375a1a8-99e4-41e1-82b3-34da3ffee2e2",
   "metadata": {},
   "outputs": [
    {
     "name": "stdout",
     "output_type": "stream",
     "text": [
      "['The', 'quick', 'dog', 'jumps over the lazy dog.']\n"
     ]
    }
   ],
   "source": [
    "print(segments)"
   ]
  },
  {
   "cell_type": "markdown",
   "id": "d2a4e055-bcf3-4421-8737-45c51c312295",
   "metadata": {},
   "source": [
    "### 6)  re.compile(pattern, flags=0)"
   ]
  },
  {
   "cell_type": "code",
   "execution_count": 22,
   "id": "207b28bc-9160-4188-9019-9727a39e6620",
   "metadata": {},
   "outputs": [],
   "source": [
    "pattern = re.compile(r'[A-Z]he')"
   ]
  },
  {
   "cell_type": "code",
   "execution_count": 23,
   "id": "9ec01d16-c2c2-4f2a-a494-6c1cb0b07d0c",
   "metadata": {},
   "outputs": [
    {
     "data": {
      "text/plain": [
       "re.compile(r'[A-Z]he', re.UNICODE)"
      ]
     },
     "execution_count": 23,
     "metadata": {},
     "output_type": "execute_result"
    }
   ],
   "source": [
    "pattern"
   ]
  },
  {
   "cell_type": "code",
   "execution_count": 24,
   "id": "a5efdebc-f7fd-4fa1-a6e5-630c08ae1985",
   "metadata": {},
   "outputs": [
    {
     "data": {
      "text/plain": [
       "['The']"
      ]
     },
     "execution_count": 24,
     "metadata": {},
     "output_type": "execute_result"
    }
   ],
   "source": [
    "pattern.findall(\"The quick fix\")"
   ]
  },
  {
   "cell_type": "code",
   "execution_count": 31,
   "id": "faa52dea-4398-4959-8c9a-bf2247464b71",
   "metadata": {},
   "outputs": [
    {
     "data": {
      "text/plain": [
       "'the quick fox'"
      ]
     },
     "execution_count": 31,
     "metadata": {},
     "output_type": "execute_result"
    }
   ],
   "source": [
    "pattern.sub('the', 'The quick fox')"
   ]
  },
  {
   "cell_type": "markdown",
   "id": "5ee9fcc6-9fd0-4c92-98e2-b06d26ed34aa",
   "metadata": {},
   "source": [
    "### Metacharacters"
   ]
  },
  {
   "cell_type": "code",
   "execution_count": 32,
   "id": "987aeb51-382e-46d3-9968-2155ea213938",
   "metadata": {},
   "outputs": [],
   "source": [
    "string = \"Hello world\"\n",
    "pattern = r\"world$\"\n",
    "\n",
    "match = re.match(pattern, string)"
   ]
  },
  {
   "cell_type": "code",
   "execution_count": null,
   "id": "9df2a725-57ee-49f4-98ee-574e67d2abe0",
   "metadata": {},
   "outputs": [],
   "source": []
  },
  {
   "cell_type": "markdown",
   "id": "b7d28818-b907-45a0-8a08-f494f16435ab",
   "metadata": {},
   "source": [
    "## List Comprehension\n",
    "\n",
    "\n",
    "Given three lists list1, list2, and list3, each containing integers, write a Python program using list comprehension to generate a new list of unique triplets (x, y, z) where x is from list1, y is from list2, and z is from list3, such that x + y + z > 10.\n"
   ]
  },
  {
   "cell_type": "code",
   "execution_count": 33,
   "id": "3d3960ed-6284-4548-bd06-e1bac26c8b6f",
   "metadata": {},
   "outputs": [],
   "source": [
    "import random"
   ]
  },
  {
   "cell_type": "code",
   "execution_count": 44,
   "id": "ba087a6e-b55f-471a-b5f2-cf8138f2f5ce",
   "metadata": {},
   "outputs": [],
   "source": [
    "list1 = [3,4,5,2]\n",
    "list2 = [1,2,4,6]\n",
    "list3 = [1,3,9,7]\n",
    "list4 = [(a,b,c) for a in list1 for b in list2 for c in list3 if a+b+c ==10]"
   ]
  },
  {
   "cell_type": "code",
   "execution_count": 45,
   "id": "1c61ff21-2a7a-4799-aaee-28885abd84ae",
   "metadata": {},
   "outputs": [
    {
     "data": {
      "text/plain": [
       "[(3, 4, 3), (3, 6, 1), (5, 2, 3), (5, 4, 1), (2, 1, 7)]"
      ]
     },
     "execution_count": 45,
     "metadata": {},
     "output_type": "execute_result"
    }
   ],
   "source": [
    "[(a,b,c) for a in list1 for b in list2 for c in list3 if a+b+c ==10]"
   ]
  },
  {
   "cell_type": "code",
   "execution_count": null,
   "id": "2b23bc91-930f-44f3-a66d-24acb53bd25a",
   "metadata": {},
   "outputs": [],
   "source": []
  },
  {
   "cell_type": "markdown",
   "id": "113b2ec2-5917-4bea-9b42-183f86a8063a",
   "metadata": {},
   "source": [
    "### Exception Handling\n",
    "\n",
    "Write a Python program that takes user input for age. Create a custom exception InvalidAgeError to handle cases where the age is below 0 or above 120.\n",
    " \n",
    "  Hint: Create new class InvalidAgeError that inherits Exception class"
   ]
  },
  {
   "cell_type": "code",
   "execution_count": 52,
   "id": "a6f59918-6dca-4414-9210-389fb3fe7413",
   "metadata": {},
   "outputs": [
    {
     "name": "stdin",
     "output_type": "stream",
     "text": [
      "Enter your age:  23\n"
     ]
    },
    {
     "name": "stdout",
     "output_type": "stream",
     "text": [
      "Valid Input\n"
     ]
    }
   ],
   "source": [
    "class InvalidAgeError(Exception):\n",
    "    def __init__(self):\n",
    "        self.message = \"Age should be greater than 0 or less than 120\"\n",
    "        super().__init__(self.message)\n",
    "\n",
    "user_input= int(input(\"Enter your age: \"))\n",
    "if 120>= user_input > 0:\n",
    "    print(\"Valid Input\")\n",
    "\n",
    "else:\n",
    "    raise InvalidAgeError"
   ]
  },
  {
   "cell_type": "code",
   "execution_count": null,
   "id": "efea042e-4e00-4824-80cd-724bd4ca4d6c",
   "metadata": {},
   "outputs": [],
   "source": []
  },
  {
   "cell_type": "code",
   "execution_count": null,
   "id": "a11a241e-bd72-4532-a7cf-5bb12ebf76b1",
   "metadata": {},
   "outputs": [],
   "source": []
  }
 ],
 "metadata": {
  "kernelspec": {
   "display_name": "Python 3 (ipykernel)",
   "language": "python",
   "name": "python3"
  },
  "language_info": {
   "codemirror_mode": {
    "name": "ipython",
    "version": 3
   },
   "file_extension": ".py",
   "mimetype": "text/x-python",
   "name": "python",
   "nbconvert_exporter": "python",
   "pygments_lexer": "ipython3",
   "version": "3.11.10"
  }
 },
 "nbformat": 4,
 "nbformat_minor": 5
}

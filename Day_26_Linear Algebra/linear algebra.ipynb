{
 "cells": [
  {
   "cell_type": "markdown",
   "id": "163ff24f-c922-45ca-9bf5-2759ffe15ef4",
   "metadata": {},
   "source": [
    "## Linear Algebra"
   ]
  },
  {
   "cell_type": "code",
   "execution_count": 1,
   "id": "92db7166-16a7-44e1-8438-6957641d58f3",
   "metadata": {},
   "outputs": [],
   "source": [
    "import numpy as np"
   ]
  },
  {
   "cell_type": "code",
   "execution_count": 2,
   "id": "f4a46c86-16ff-49ca-a2f3-1be6268d8b81",
   "metadata": {},
   "outputs": [
    {
     "data": {
      "text/plain": [
       "<module 'numpy' from '/Users/ankitsubedi/Desktop/Ankit File/Data_science class/newenv/lib/python3.11/site-packages/numpy/__init__.py'>"
      ]
     },
     "execution_count": 2,
     "metadata": {},
     "output_type": "execute_result"
    }
   ],
   "source": [
    "np"
   ]
  },
  {
   "cell_type": "markdown",
   "id": "a09d4a52-20ea-413a-8c00-679b31f3449e",
   "metadata": {},
   "source": [
    "# Creating Numpy Array"
   ]
  },
  {
   "cell_type": "code",
   "execution_count": 3,
   "id": "013117a3-cbc0-4018-b5fa-60780e06ee35",
   "metadata": {},
   "outputs": [],
   "source": [
    "list1 = [2,3,4]\n",
    "arr1 = np.array(list1)"
   ]
  },
  {
   "cell_type": "code",
   "execution_count": 4,
   "id": "044bcf36-6c31-4d80-9c5a-78c37aae429d",
   "metadata": {},
   "outputs": [
    {
     "data": {
      "text/plain": [
       "array([2, 3, 4])"
      ]
     },
     "execution_count": 4,
     "metadata": {},
     "output_type": "execute_result"
    }
   ],
   "source": [
    "arr1"
   ]
  },
  {
   "cell_type": "code",
   "execution_count": 5,
   "id": "9818a572-c6e2-45ae-951f-925f37deaf43",
   "metadata": {},
   "outputs": [
    {
     "data": {
      "text/plain": [
       "(3,)"
      ]
     },
     "execution_count": 5,
     "metadata": {},
     "output_type": "execute_result"
    }
   ],
   "source": [
    "arr1.shape"
   ]
  },
  {
   "cell_type": "code",
   "execution_count": 6,
   "id": "e55bcb51-36ed-4d53-86b3-2d897063e39b",
   "metadata": {},
   "outputs": [],
   "source": [
    "list2 = [[1,3,6],\n",
    "         [2,5,8]]\n",
    "arr2 = np.array(list2)"
   ]
  },
  {
   "cell_type": "code",
   "execution_count": 7,
   "id": "34dc6296-1446-49dd-8e28-9a366bb17ed5",
   "metadata": {},
   "outputs": [
    {
     "data": {
      "text/plain": [
       "array([[1, 3, 6],\n",
       "       [2, 5, 8]])"
      ]
     },
     "execution_count": 7,
     "metadata": {},
     "output_type": "execute_result"
    }
   ],
   "source": [
    "arr2"
   ]
  },
  {
   "cell_type": "code",
   "execution_count": 8,
   "id": "49099001-fd9f-4167-9c16-31edc6089198",
   "metadata": {},
   "outputs": [
    {
     "data": {
      "text/plain": [
       "(2, 3)"
      ]
     },
     "execution_count": 8,
     "metadata": {},
     "output_type": "execute_result"
    }
   ],
   "source": [
    "arr2.shape"
   ]
  },
  {
   "cell_type": "code",
   "execution_count": 9,
   "id": "670e0bfa-f168-4f35-8b57-608edbf57e7d",
   "metadata": {},
   "outputs": [
    {
     "data": {
      "text/plain": [
       "1"
      ]
     },
     "execution_count": 9,
     "metadata": {},
     "output_type": "execute_result"
    }
   ],
   "source": [
    "arr1.ndim\n",
    "\n"
   ]
  },
  {
   "cell_type": "code",
   "execution_count": 10,
   "id": "469623a4-d711-48fe-bcb7-e571d419a243",
   "metadata": {},
   "outputs": [
    {
     "data": {
      "text/plain": [
       "2"
      ]
     },
     "execution_count": 10,
     "metadata": {},
     "output_type": "execute_result"
    }
   ],
   "source": [
    "arr2.ndim"
   ]
  },
  {
   "cell_type": "code",
   "execution_count": 11,
   "id": "43602aee-4d80-40a4-83da-2b9f3359f3aa",
   "metadata": {},
   "outputs": [],
   "source": [
    "list3 = [[1,2,3,4],\n",
    "         [5,6,7,8],\n",
    "         [9,10,11,12],\n",
    "         [13,14,15,16]]"
   ]
  },
  {
   "cell_type": "code",
   "execution_count": 12,
   "id": "5b8447fb-de5a-4f2e-a103-4da1a029a7b4",
   "metadata": {},
   "outputs": [],
   "source": [
    "arr3 = np.array(list3)"
   ]
  },
  {
   "cell_type": "code",
   "execution_count": 13,
   "id": "77ca81c9-0bad-45fa-85c8-ccb4bfc8bec2",
   "metadata": {},
   "outputs": [
    {
     "data": {
      "text/plain": [
       "array([[ 1,  2,  3,  4],\n",
       "       [ 5,  6,  7,  8],\n",
       "       [ 9, 10, 11, 12],\n",
       "       [13, 14, 15, 16]])"
      ]
     },
     "execution_count": 13,
     "metadata": {},
     "output_type": "execute_result"
    }
   ],
   "source": [
    "arr3"
   ]
  },
  {
   "cell_type": "code",
   "execution_count": 14,
   "id": "8208c938-c631-4aba-942d-dbc2604160c2",
   "metadata": {},
   "outputs": [
    {
     "data": {
      "text/plain": [
       "(4, 4)"
      ]
     },
     "execution_count": 14,
     "metadata": {},
     "output_type": "execute_result"
    }
   ],
   "source": [
    "arr3.shape"
   ]
  },
  {
   "cell_type": "code",
   "execution_count": 15,
   "id": "6c2cb6a2-9504-46ee-a81a-8778a8f29568",
   "metadata": {},
   "outputs": [
    {
     "data": {
      "text/plain": [
       "2"
      ]
     },
     "execution_count": 15,
     "metadata": {},
     "output_type": "execute_result"
    }
   ],
   "source": [
    "arr3.ndim"
   ]
  },
  {
   "cell_type": "code",
   "execution_count": 16,
   "id": "16f41d30-4e27-4f29-8bf1-b48704ec4c71",
   "metadata": {},
   "outputs": [
    {
     "data": {
      "text/plain": [
       "array([[1., 0., 0., 0.],\n",
       "       [0., 1., 0., 0.],\n",
       "       [0., 0., 1., 0.],\n",
       "       [0., 0., 0., 1.]])"
      ]
     },
     "execution_count": 16,
     "metadata": {},
     "output_type": "execute_result"
    }
   ],
   "source": [
    "np.identity(4)"
   ]
  },
  {
   "cell_type": "code",
   "execution_count": 17,
   "id": "5c53d35b-2e9c-47ec-a210-5f62304a9d50",
   "metadata": {},
   "outputs": [
    {
     "data": {
      "text/plain": [
       "array([[0., 0., 0.],\n",
       "       [0., 0., 0.],\n",
       "       [0., 0., 0.],\n",
       "       [0., 0., 0.],\n",
       "       [0., 0., 0.]])"
      ]
     },
     "execution_count": 17,
     "metadata": {},
     "output_type": "execute_result"
    }
   ],
   "source": [
    "np.zeros(shape = (5,3))"
   ]
  },
  {
   "cell_type": "code",
   "execution_count": 18,
   "id": "bdd47cfd-a6fd-4ca6-84f0-187fde8f6928",
   "metadata": {},
   "outputs": [
    {
     "data": {
      "text/plain": [
       "array([[1., 1., 1., 1.],\n",
       "       [1., 1., 1., 1.]])"
      ]
     },
     "execution_count": 18,
     "metadata": {},
     "output_type": "execute_result"
    }
   ],
   "source": [
    "np.ones(shape = (2,4))"
   ]
  },
  {
   "cell_type": "code",
   "execution_count": 19,
   "id": "1583a04c-852d-4d04-b001-9d05efb48df7",
   "metadata": {},
   "outputs": [
    {
     "data": {
      "text/plain": [
       "array([[7.8, 7.8],\n",
       "       [7.8, 7.8]])"
      ]
     },
     "execution_count": 19,
     "metadata": {},
     "output_type": "execute_result"
    }
   ],
   "source": [
    "np.full((2,2),7.8)"
   ]
  },
  {
   "cell_type": "code",
   "execution_count": 20,
   "id": "9b37d7bb-cf3b-40f7-b04a-6ff5f9c4c524",
   "metadata": {},
   "outputs": [
    {
     "data": {
      "text/plain": [
       "array([[0.9742342 , 0.86984275, 0.0272946 ],\n",
       "       [0.56792192, 0.05584973, 0.14958075]])"
      ]
     },
     "execution_count": 20,
     "metadata": {},
     "output_type": "execute_result"
    }
   ],
   "source": [
    "np.random.rand(2,3)"
   ]
  },
  {
   "cell_type": "code",
   "execution_count": 21,
   "id": "c0fcec28-6cde-4bc3-8773-dd14282018a3",
   "metadata": {},
   "outputs": [
    {
     "data": {
      "text/plain": [
       "array([ 0. ,  2.5,  5. ,  7.5, 10. ])"
      ]
     },
     "execution_count": 21,
     "metadata": {},
     "output_type": "execute_result"
    }
   ],
   "source": [
    "np.linspace(start = 0,stop = 10, num = 5)"
   ]
  },
  {
   "cell_type": "code",
   "execution_count": 22,
   "id": "3ff04f8f-ca47-4a4a-82b7-8268fac00226",
   "metadata": {},
   "outputs": [
    {
     "data": {
      "text/plain": [
       "array([[ 0.  ,  2.5 ,  5.  ,  7.5 , 10.  ],\n",
       "       [ 1.  ,  5.75, 10.5 , 15.25, 20.  ],\n",
       "       [ 2.  ,  9.  , 16.  , 23.  , 30.  ]])"
      ]
     },
     "execution_count": 22,
     "metadata": {},
     "output_type": "execute_result"
    }
   ],
   "source": [
    "np.linspace(start = (0,1,2),stop = (10,20,30), num = 5, axis = 1)"
   ]
  },
  {
   "cell_type": "code",
   "execution_count": 23,
   "id": "2d0c2096-49ef-48eb-8aa6-0c9e7d6b12ef",
   "metadata": {},
   "outputs": [
    {
     "data": {
      "text/plain": [
       "array([[[[ 9,  5, 24],\n",
       "         [17,  5, 10]],\n",
       "\n",
       "        [[23, 14,  5],\n",
       "         [ 6,  7, 15]],\n",
       "\n",
       "        [[ 4, 20,  4],\n",
       "         [21, 15, 15]]],\n",
       "\n",
       "\n",
       "       [[[12,  5, 19],\n",
       "         [10, 13,  9]],\n",
       "\n",
       "        [[23, 24, 18],\n",
       "         [ 4, 15, 24]],\n",
       "\n",
       "        [[ 4,  9, 12],\n",
       "         [19, 11, 10]]]])"
      ]
     },
     "execution_count": 23,
     "metadata": {},
     "output_type": "execute_result"
    }
   ],
   "source": [
    "np.random.randint(low = 4, high = 25, size = (2,3,2,3))"
   ]
  },
  {
   "cell_type": "code",
   "execution_count": null,
   "id": "ade949a1-60ed-41de-99ee-bfa47875077e",
   "metadata": {},
   "outputs": [],
   "source": []
  },
  {
   "cell_type": "code",
   "execution_count": null,
   "id": "b47a65a2-8e1f-41ac-af7b-b1e262d0358a",
   "metadata": {},
   "outputs": [],
   "source": []
  },
  {
   "cell_type": "code",
   "execution_count": null,
   "id": "eef5c06b-6c17-480b-b128-073b2d716893",
   "metadata": {},
   "outputs": [],
   "source": []
  }
 ],
 "metadata": {
  "kernelspec": {
   "display_name": "Python 3 (ipykernel)",
   "language": "python",
   "name": "python3"
  },
  "language_info": {
   "codemirror_mode": {
    "name": "ipython",
    "version": 3
   },
   "file_extension": ".py",
   "mimetype": "text/x-python",
   "name": "python",
   "nbconvert_exporter": "python",
   "pygments_lexer": "ipython3",
   "version": "3.11.10"
  }
 },
 "nbformat": 4,
 "nbformat_minor": 5
}

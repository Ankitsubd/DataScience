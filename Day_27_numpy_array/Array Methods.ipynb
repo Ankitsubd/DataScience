{
 "cells": [
  {
   "cell_type": "code",
   "execution_count": null,
   "id": "3babc4e0-1e59-4850-bf05-854a4fe1f5ba",
   "metadata": {},
   "outputs": [],
   "source": []
  },
  {
   "cell_type": "code",
   "execution_count": 1,
   "id": "b98da5cf-d0d5-4c33-a27e-63f10e66c6ad",
   "metadata": {},
   "outputs": [],
   "source": [
    "import numpy as np"
   ]
  },
  {
   "cell_type": "code",
   "execution_count": 7,
   "id": "cb6b8163-072a-4b22-b576-a032822665b3",
   "metadata": {},
   "outputs": [
    {
     "data": {
      "text/plain": [
       "array([[[23, 43, 47],\n",
       "        [29, 13, 23]],\n",
       "\n",
       "       [[45, 27, 39],\n",
       "        [16, 24, 36]],\n",
       "\n",
       "       [[29, 45, 28],\n",
       "        [12, 42, 39]],\n",
       "\n",
       "       [[10, 14, 40],\n",
       "        [47, 27, 41]],\n",
       "\n",
       "       [[30, 29, 33],\n",
       "        [21, 28, 41]]])"
      ]
     },
     "execution_count": 7,
     "metadata": {},
     "output_type": "execute_result"
    }
   ],
   "source": [
    "arr = np.random.randint(10,50, size = (5,2,3))\n",
    "arr"
   ]
  },
  {
   "cell_type": "code",
   "execution_count": 3,
   "id": "44ba1a5a-5ede-4203-9224-a14b68a086dc",
   "metadata": {},
   "outputs": [
    {
     "data": {
      "text/plain": [
       "(5, 2, 3)"
      ]
     },
     "execution_count": 3,
     "metadata": {},
     "output_type": "execute_result"
    }
   ],
   "source": [
    "arr.shape"
   ]
  },
  {
   "cell_type": "code",
   "execution_count": 5,
   "id": "c368a00f-3a5b-497e-ad43-1287df120551",
   "metadata": {},
   "outputs": [
    {
     "data": {
      "text/plain": [
       "3"
      ]
     },
     "execution_count": 5,
     "metadata": {},
     "output_type": "execute_result"
    }
   ],
   "source": [
    "arr.ndim"
   ]
  },
  {
   "cell_type": "code",
   "execution_count": 6,
   "id": "37a97c6e-7e2c-432f-82fd-e25d149cc287",
   "metadata": {},
   "outputs": [
    {
     "data": {
      "text/plain": [
       "dtype('int64')"
      ]
     },
     "execution_count": 6,
     "metadata": {},
     "output_type": "execute_result"
    }
   ],
   "source": [
    "arr.dtype"
   ]
  },
  {
   "cell_type": "code",
   "execution_count": 11,
   "id": "783f676e-8ebb-4907-8bc2-a02a0205b3ac",
   "metadata": {},
   "outputs": [
    {
     "data": {
      "text/plain": [
       "array([[[23, 45, 29, 10, 30],\n",
       "        [29, 16, 12, 47, 21]],\n",
       "\n",
       "       [[43, 27, 45, 14, 29],\n",
       "        [13, 24, 42, 27, 28]],\n",
       "\n",
       "       [[47, 39, 28, 40, 33],\n",
       "        [23, 36, 39, 41, 41]]])"
      ]
     },
     "execution_count": 11,
     "metadata": {},
     "output_type": "execute_result"
    }
   ],
   "source": [
    "arr_T = arr.T\n",
    "arr_T"
   ]
  },
  {
   "cell_type": "code",
   "execution_count": 12,
   "id": "b1cd5eda-d00c-4e5d-9604-6dc818c6d17a",
   "metadata": {},
   "outputs": [
    {
     "data": {
      "text/plain": [
       "(3, 2, 5)"
      ]
     },
     "execution_count": 12,
     "metadata": {},
     "output_type": "execute_result"
    }
   ],
   "source": [
    "arr_T.shape"
   ]
  },
  {
   "cell_type": "code",
   "execution_count": null,
   "id": "7f9e01ad-04af-4325-bf2b-046d137a6172",
   "metadata": {},
   "outputs": [],
   "source": []
  },
  {
   "cell_type": "code",
   "execution_count": 13,
   "id": "1e39fe0e-989c-4b4d-b395-86399b7beaa7",
   "metadata": {},
   "outputs": [
    {
     "data": {
      "text/plain": [
       "(5, 2, 3)"
      ]
     },
     "execution_count": 13,
     "metadata": {},
     "output_type": "execute_result"
    }
   ],
   "source": [
    "arr.shape"
   ]
  },
  {
   "cell_type": "code",
   "execution_count": 16,
   "id": "edb6ecdf-d005-4855-b901-33151443d08c",
   "metadata": {},
   "outputs": [
    {
     "data": {
      "text/plain": [
       "array([[[23, 43],\n",
       "        [47, 29],\n",
       "        [13, 23],\n",
       "        [45, 27],\n",
       "        [39, 16]],\n",
       "\n",
       "       [[24, 36],\n",
       "        [29, 45],\n",
       "        [28, 12],\n",
       "        [42, 39],\n",
       "        [10, 14]],\n",
       "\n",
       "       [[40, 47],\n",
       "        [27, 41],\n",
       "        [30, 29],\n",
       "        [33, 21],\n",
       "        [28, 41]]])"
      ]
     },
     "execution_count": 16,
     "metadata": {},
     "output_type": "execute_result"
    }
   ],
   "source": [
    "arr.reshape(3, 5, 2)"
   ]
  },
  {
   "cell_type": "code",
   "execution_count": 17,
   "id": "8a5ed37b-fda1-42ea-800e-e7a0e20184b6",
   "metadata": {},
   "outputs": [
    {
     "data": {
      "text/plain": [
       "array([[23, 43, 47, 29, 13, 23, 45, 27, 39, 16],\n",
       "       [24, 36, 29, 45, 28, 12, 42, 39, 10, 14],\n",
       "       [40, 47, 27, 41, 30, 29, 33, 21, 28, 41]])"
      ]
     },
     "execution_count": 17,
     "metadata": {},
     "output_type": "execute_result"
    }
   ],
   "source": [
    "arr.reshape(3, 10)"
   ]
  },
  {
   "cell_type": "code",
   "execution_count": 18,
   "id": "223ad4b5-d07d-45e8-9494-7d1bdf1b3810",
   "metadata": {},
   "outputs": [
    {
     "data": {
      "text/plain": [
       "array([[23, 43, 47],\n",
       "       [29, 13, 23],\n",
       "       [45, 27, 39],\n",
       "       [16, 24, 36],\n",
       "       [29, 45, 28],\n",
       "       [12, 42, 39],\n",
       "       [10, 14, 40],\n",
       "       [47, 27, 41],\n",
       "       [30, 29, 33],\n",
       "       [21, 28, 41]])"
      ]
     },
     "execution_count": 18,
     "metadata": {},
     "output_type": "execute_result"
    }
   ],
   "source": [
    "arr.reshape(10,3)"
   ]
  },
  {
   "cell_type": "code",
   "execution_count": null,
   "id": "59b8d6c9-eb27-41ca-af5d-a4b7fe19e8ed",
   "metadata": {},
   "outputs": [],
   "source": []
  },
  {
   "cell_type": "code",
   "execution_count": null,
   "id": "3c9090e3-25ed-461d-b199-55fa0b5e4f0b",
   "metadata": {},
   "outputs": [],
   "source": []
  },
  {
   "cell_type": "code",
   "execution_count": null,
   "id": "93fa8c9b-239a-4a3f-92ac-a62654b2362f",
   "metadata": {},
   "outputs": [],
   "source": []
  },
  {
   "cell_type": "code",
   "execution_count": null,
   "id": "a6709bca-235f-4b68-bb94-9a2ea88b31a9",
   "metadata": {},
   "outputs": [],
   "source": []
  },
  {
   "cell_type": "code",
   "execution_count": null,
   "id": "cd0b076c-e108-4420-938a-5493d1cae473",
   "metadata": {},
   "outputs": [],
   "source": []
  },
  {
   "cell_type": "code",
   "execution_count": null,
   "id": "fc61113b-a18b-4db4-bffc-160b1e913f6e",
   "metadata": {},
   "outputs": [],
   "source": []
  },
  {
   "cell_type": "code",
   "execution_count": null,
   "id": "7b880393-f21a-4802-8517-13bbbe69a3ce",
   "metadata": {},
   "outputs": [],
   "source": []
  },
  {
   "cell_type": "code",
   "execution_count": null,
   "id": "639db2df-254a-4016-b27e-664ade273dc8",
   "metadata": {},
   "outputs": [],
   "source": []
  },
  {
   "cell_type": "code",
   "execution_count": null,
   "id": "af57a7c6-6eb3-47f8-bc4f-ad7bc67f71ba",
   "metadata": {},
   "outputs": [],
   "source": []
  }
 ],
 "metadata": {
  "kernelspec": {
   "display_name": "Python 3 (ipykernel)",
   "language": "python",
   "name": "python3"
  },
  "language_info": {
   "codemirror_mode": {
    "name": "ipython",
    "version": 3
   },
   "file_extension": ".py",
   "mimetype": "text/x-python",
   "name": "python",
   "nbconvert_exporter": "python",
   "pygments_lexer": "ipython3",
   "version": "3.11.10"
  }
 },
 "nbformat": 4,
 "nbformat_minor": 5
}

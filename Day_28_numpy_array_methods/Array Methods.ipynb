{
 "cells": [
  {
   "cell_type": "code",
   "execution_count": null,
   "id": "3babc4e0-1e59-4850-bf05-854a4fe1f5ba",
   "metadata": {},
   "outputs": [],
   "source": []
  },
  {
   "cell_type": "code",
   "execution_count": 1,
   "id": "b98da5cf-d0d5-4c33-a27e-63f10e66c6ad",
   "metadata": {},
   "outputs": [],
   "source": [
    "import numpy as np"
   ]
  },
  {
   "cell_type": "code",
   "execution_count": 2,
   "id": "cb6b8163-072a-4b22-b576-a032822665b3",
   "metadata": {},
   "outputs": [
    {
     "data": {
      "text/plain": [
       "array([[[33, 22, 36],\n",
       "        [19, 43, 37]],\n",
       "\n",
       "       [[37, 25, 37],\n",
       "        [21, 44, 45]],\n",
       "\n",
       "       [[43, 13, 36],\n",
       "        [32, 40, 33]],\n",
       "\n",
       "       [[34, 28, 18],\n",
       "        [24, 46, 34]],\n",
       "\n",
       "       [[12, 21, 23],\n",
       "        [26, 25, 22]]])"
      ]
     },
     "execution_count": 2,
     "metadata": {},
     "output_type": "execute_result"
    }
   ],
   "source": [
    "arr = np.random.randint(10,50, size = (5,2,3))\n",
    "arr"
   ]
  },
  {
   "cell_type": "code",
   "execution_count": 3,
   "id": "44ba1a5a-5ede-4203-9224-a14b68a086dc",
   "metadata": {},
   "outputs": [
    {
     "data": {
      "text/plain": [
       "(5, 2, 3)"
      ]
     },
     "execution_count": 3,
     "metadata": {},
     "output_type": "execute_result"
    }
   ],
   "source": [
    "arr.shape"
   ]
  },
  {
   "cell_type": "code",
   "execution_count": 4,
   "id": "c368a00f-3a5b-497e-ad43-1287df120551",
   "metadata": {},
   "outputs": [
    {
     "data": {
      "text/plain": [
       "3"
      ]
     },
     "execution_count": 4,
     "metadata": {},
     "output_type": "execute_result"
    }
   ],
   "source": [
    "arr.ndim"
   ]
  },
  {
   "cell_type": "code",
   "execution_count": 5,
   "id": "37a97c6e-7e2c-432f-82fd-e25d149cc287",
   "metadata": {},
   "outputs": [
    {
     "data": {
      "text/plain": [
       "dtype('int64')"
      ]
     },
     "execution_count": 5,
     "metadata": {},
     "output_type": "execute_result"
    }
   ],
   "source": [
    "arr.dtype"
   ]
  },
  {
   "cell_type": "code",
   "execution_count": 6,
   "id": "783f676e-8ebb-4907-8bc2-a02a0205b3ac",
   "metadata": {},
   "outputs": [
    {
     "data": {
      "text/plain": [
       "array([[[33, 37, 43, 34, 12],\n",
       "        [19, 21, 32, 24, 26]],\n",
       "\n",
       "       [[22, 25, 13, 28, 21],\n",
       "        [43, 44, 40, 46, 25]],\n",
       "\n",
       "       [[36, 37, 36, 18, 23],\n",
       "        [37, 45, 33, 34, 22]]])"
      ]
     },
     "execution_count": 6,
     "metadata": {},
     "output_type": "execute_result"
    }
   ],
   "source": [
    "arr_T = arr.T\n",
    "arr_T"
   ]
  },
  {
   "cell_type": "code",
   "execution_count": 7,
   "id": "b1cd5eda-d00c-4e5d-9604-6dc818c6d17a",
   "metadata": {},
   "outputs": [
    {
     "data": {
      "text/plain": [
       "(3, 2, 5)"
      ]
     },
     "execution_count": 7,
     "metadata": {},
     "output_type": "execute_result"
    }
   ],
   "source": [
    "arr_T.shape"
   ]
  },
  {
   "cell_type": "code",
   "execution_count": null,
   "id": "7f9e01ad-04af-4325-bf2b-046d137a6172",
   "metadata": {},
   "outputs": [],
   "source": []
  },
  {
   "cell_type": "code",
   "execution_count": 8,
   "id": "1e39fe0e-989c-4b4d-b395-86399b7beaa7",
   "metadata": {},
   "outputs": [
    {
     "data": {
      "text/plain": [
       "(5, 2, 3)"
      ]
     },
     "execution_count": 8,
     "metadata": {},
     "output_type": "execute_result"
    }
   ],
   "source": [
    "arr.shape"
   ]
  },
  {
   "cell_type": "code",
   "execution_count": 9,
   "id": "edb6ecdf-d005-4855-b901-33151443d08c",
   "metadata": {},
   "outputs": [
    {
     "data": {
      "text/plain": [
       "array([[[33, 22],\n",
       "        [36, 19],\n",
       "        [43, 37],\n",
       "        [37, 25],\n",
       "        [37, 21]],\n",
       "\n",
       "       [[44, 45],\n",
       "        [43, 13],\n",
       "        [36, 32],\n",
       "        [40, 33],\n",
       "        [34, 28]],\n",
       "\n",
       "       [[18, 24],\n",
       "        [46, 34],\n",
       "        [12, 21],\n",
       "        [23, 26],\n",
       "        [25, 22]]])"
      ]
     },
     "execution_count": 9,
     "metadata": {},
     "output_type": "execute_result"
    }
   ],
   "source": [
    "arr.reshape(3, 5, 2)"
   ]
  },
  {
   "cell_type": "code",
   "execution_count": 10,
   "id": "8a5ed37b-fda1-42ea-800e-e7a0e20184b6",
   "metadata": {},
   "outputs": [
    {
     "data": {
      "text/plain": [
       "array([[33, 22, 36, 19, 43, 37, 37, 25, 37, 21],\n",
       "       [44, 45, 43, 13, 36, 32, 40, 33, 34, 28],\n",
       "       [18, 24, 46, 34, 12, 21, 23, 26, 25, 22]])"
      ]
     },
     "execution_count": 10,
     "metadata": {},
     "output_type": "execute_result"
    }
   ],
   "source": [
    "arr.reshape(3, 10)"
   ]
  },
  {
   "cell_type": "code",
   "execution_count": 11,
   "id": "223ad4b5-d07d-45e8-9494-7d1bdf1b3810",
   "metadata": {},
   "outputs": [
    {
     "data": {
      "text/plain": [
       "array([[33, 22, 36],\n",
       "       [19, 43, 37],\n",
       "       [37, 25, 37],\n",
       "       [21, 44, 45],\n",
       "       [43, 13, 36],\n",
       "       [32, 40, 33],\n",
       "       [34, 28, 18],\n",
       "       [24, 46, 34],\n",
       "       [12, 21, 23],\n",
       "       [26, 25, 22]])"
      ]
     },
     "execution_count": 11,
     "metadata": {},
     "output_type": "execute_result"
    }
   ],
   "source": [
    "arr.reshape(10,3)"
   ]
  },
  {
   "cell_type": "code",
   "execution_count": 27,
   "id": "59b8d6c9-eb27-41ca-af5d-a4b7fe19e8ed",
   "metadata": {},
   "outputs": [
    {
     "data": {
      "text/plain": [
       "array([[[33, 22, 36],\n",
       "        [19, 43, 37],\n",
       "        [37, 25, 37],\n",
       "        [21, 44, 45],\n",
       "        [43, 13, 36]],\n",
       "\n",
       "       [[32, 40, 33],\n",
       "        [34, 28, 18],\n",
       "        [24, 46, 34],\n",
       "        [12, 21, 23],\n",
       "        [26, 25, 22]]])"
      ]
     },
     "execution_count": 27,
     "metadata": {},
     "output_type": "execute_result"
    }
   ],
   "source": [
    "arr.reshape(2,-1,3)"
   ]
  },
  {
   "cell_type": "code",
   "execution_count": null,
   "id": "3c9090e3-25ed-461d-b199-55fa0b5e4f0b",
   "metadata": {},
   "outputs": [],
   "source": []
  },
  {
   "cell_type": "code",
   "execution_count": 28,
   "id": "93fa8c9b-239a-4a3f-92ac-a62654b2362f",
   "metadata": {},
   "outputs": [
    {
     "data": {
      "text/plain": [
       "array([33, 22, 36, 19, 43, 37, 37, 25, 37, 21, 44, 45, 43, 13, 36, 32, 40,\n",
       "       33, 34, 28, 18, 24, 46, 34, 12, 21, 23, 26, 25, 22])"
      ]
     },
     "execution_count": 28,
     "metadata": {},
     "output_type": "execute_result"
    }
   ],
   "source": [
    "arr.flatten() #row to row"
   ]
  },
  {
   "cell_type": "code",
   "execution_count": 33,
   "id": "a6709bca-235f-4b68-bb94-9a2ea88b31a9",
   "metadata": {},
   "outputs": [
    {
     "data": {
      "text/plain": [
       "array([33, 37, 43, 34, 12, 19, 21, 32, 24, 26, 22, 25, 13, 28, 21, 43, 44,\n",
       "       40, 46, 25, 36, 37, 36, 18, 23, 37, 45, 33, 34, 22])"
      ]
     },
     "execution_count": 33,
     "metadata": {},
     "output_type": "execute_result"
    }
   ],
   "source": [
    "arr.flatten(\"F\")"
   ]
  },
  {
   "cell_type": "code",
   "execution_count": null,
   "id": "cd0b076c-e108-4420-938a-5493d1cae473",
   "metadata": {},
   "outputs": [],
   "source": []
  },
  {
   "cell_type": "code",
   "execution_count": 34,
   "id": "fc61113b-a18b-4db4-bffc-160b1e913f6e",
   "metadata": {},
   "outputs": [
    {
     "data": {
      "text/plain": [
       "np.int64(909)"
      ]
     },
     "execution_count": 34,
     "metadata": {},
     "output_type": "execute_result"
    }
   ],
   "source": [
    "arr.sum()"
   ]
  },
  {
   "cell_type": "code",
   "execution_count": 44,
   "id": "7b880393-f21a-4802-8517-13bbbe69a3ce",
   "metadata": {},
   "outputs": [
    {
     "data": {
      "text/plain": [
       "array([[52, 65, 73],\n",
       "       [58, 69, 82],\n",
       "       [75, 53, 69],\n",
       "       [58, 74, 52],\n",
       "       [38, 46, 45]])"
      ]
     },
     "execution_count": 44,
     "metadata": {},
     "output_type": "execute_result"
    }
   ],
   "source": [
    "arr.sum(axis= 1)"
   ]
  },
  {
   "cell_type": "code",
   "execution_count": 47,
   "id": "639db2df-254a-4016-b27e-664ade273dc8",
   "metadata": {},
   "outputs": [
    {
     "data": {
      "text/plain": [
       "np.int64(-1208815192431919104)"
      ]
     },
     "execution_count": 47,
     "metadata": {},
     "output_type": "execute_result"
    }
   ],
   "source": [
    "arr.prod()"
   ]
  },
  {
   "cell_type": "code",
   "execution_count": 46,
   "id": "af57a7c6-6eb3-47f8-bc4f-ad7bc67f71ba",
   "metadata": {},
   "outputs": [
    {
     "data": {
      "text/plain": [
       "np.float64(5.095078976962852e+43)"
      ]
     },
     "execution_count": 46,
     "metadata": {},
     "output_type": "execute_result"
    }
   ],
   "source": [
    "arr.prod(dtype= float)"
   ]
  },
  {
   "cell_type": "code",
   "execution_count": 48,
   "id": "9f720b1c-3703-43cd-8da6-1e95fa4af798",
   "metadata": {},
   "outputs": [
    {
     "data": {
      "text/plain": [
       "array([[21421224,  4204200, 19852128],\n",
       "       [ 7967232, 87032000, 41098860]])"
      ]
     },
     "execution_count": 48,
     "metadata": {},
     "output_type": "execute_result"
    }
   ],
   "source": [
    "arr.prod(axis = 0)"
   ]
  },
  {
   "cell_type": "code",
   "execution_count": 49,
   "id": "4d8e908f-91d8-4127-9b6f-d0fa67de4dfc",
   "metadata": {},
   "outputs": [
    {
     "data": {
      "text/plain": [
       "array([[ 627,  946, 1332],\n",
       "       [ 777, 1100, 1665],\n",
       "       [1376,  520, 1188],\n",
       "       [ 816, 1288,  612],\n",
       "       [ 312,  525,  506]])"
      ]
     },
     "execution_count": 49,
     "metadata": {},
     "output_type": "execute_result"
    }
   ],
   "source": [
    "arr.prod(axis = 1)"
   ]
  },
  {
   "cell_type": "code",
   "execution_count": 50,
   "id": "327a0bfd-c468-4015-9712-66d7542148b1",
   "metadata": {},
   "outputs": [
    {
     "data": {
      "text/plain": [
       "array([ 33,  55,  91, 110, 153, 190, 227, 252, 289, 310, 354, 399, 442,\n",
       "       455, 491, 523, 563, 596, 630, 658, 676, 700, 746, 780, 792, 813,\n",
       "       836, 862, 887, 909])"
      ]
     },
     "execution_count": 50,
     "metadata": {},
     "output_type": "execute_result"
    }
   ],
   "source": [
    "arr.cumsum()"
   ]
  },
  {
   "cell_type": "code",
   "execution_count": 51,
   "id": "b3d2ffb3-049f-4c21-ad40-2ef99f6458e0",
   "metadata": {},
   "outputs": [
    {
     "data": {
      "text/plain": [
       "np.int64(46)"
      ]
     },
     "execution_count": 51,
     "metadata": {},
     "output_type": "execute_result"
    }
   ],
   "source": [
    "arr.max()"
   ]
  },
  {
   "cell_type": "code",
   "execution_count": 52,
   "id": "951f52a9-2e21-4bb8-b0e9-165a03224c23",
   "metadata": {},
   "outputs": [
    {
     "data": {
      "text/plain": [
       "np.int64(22)"
      ]
     },
     "execution_count": 52,
     "metadata": {},
     "output_type": "execute_result"
    }
   ],
   "source": [
    "arr.argmax()"
   ]
  },
  {
   "cell_type": "code",
   "execution_count": 58,
   "id": "a8938d3a-ce24-4e75-8fab-3fcd5809db82",
   "metadata": {},
   "outputs": [
    {
     "data": {
      "text/plain": [
       "array([[[30, 22, 30],\n",
       "        [20, 30, 30]],\n",
       "\n",
       "       [[30, 25, 30],\n",
       "        [21, 30, 30]],\n",
       "\n",
       "       [[30, 20, 30],\n",
       "        [30, 30, 30]],\n",
       "\n",
       "       [[30, 28, 20],\n",
       "        [24, 30, 30]],\n",
       "\n",
       "       [[20, 21, 23],\n",
       "        [26, 25, 22]]])"
      ]
     },
     "execution_count": 58,
     "metadata": {},
     "output_type": "execute_result"
    }
   ],
   "source": [
    "arr.clip(20,30) #value netween 20 to 30"
   ]
  },
  {
   "cell_type": "code",
   "execution_count": 59,
   "id": "b447e45d-906b-42a2-9167-ccbf2f76f1ba",
   "metadata": {},
   "outputs": [
    {
     "data": {
      "text/plain": [
       "array([[[33, 22, 36],\n",
       "        [19, 43, 37]],\n",
       "\n",
       "       [[37, 25, 37],\n",
       "        [21, 44, 45]],\n",
       "\n",
       "       [[43, 13, 36],\n",
       "        [32, 40, 33]],\n",
       "\n",
       "       [[34, 28, 18],\n",
       "        [24, 46, 34]],\n",
       "\n",
       "       [[12, 21, 23],\n",
       "        [26, 25, 22]]])"
      ]
     },
     "execution_count": 59,
     "metadata": {},
     "output_type": "execute_result"
    }
   ],
   "source": [
    "arr"
   ]
  },
  {
   "cell_type": "code",
   "execution_count": null,
   "id": "eb41c96c-3743-4d78-b7d5-875a1a8eaad2",
   "metadata": {},
   "outputs": [],
   "source": []
  },
  {
   "cell_type": "code",
   "execution_count": 62,
   "id": "cbb6cc2c-b29e-4079-876f-0d12b05a954e",
   "metadata": {},
   "outputs": [],
   "source": [
    "arr1 = np.random.randint(low= -10, high= 10, size= (2,3))\n",
    "arr2 = np.random.randint(low= 0, high= 10, size= (2,3))"
   ]
  },
  {
   "cell_type": "code",
   "execution_count": 63,
   "id": "0b2366c7-02f2-4d53-a6d2-a06a4aeaba99",
   "metadata": {},
   "outputs": [
    {
     "data": {
      "text/plain": [
       "(array([[ 3,  2, -7],\n",
       "        [ 5, -2, -5]]),\n",
       " array([[6, 7, 4],\n",
       "        [8, 1, 2]]))"
      ]
     },
     "execution_count": 63,
     "metadata": {},
     "output_type": "execute_result"
    }
   ],
   "source": [
    "arr1, arr2"
   ]
  },
  {
   "cell_type": "code",
   "execution_count": null,
   "id": "9dbe7b03-bb64-45e8-b9c9-d4b97349e87d",
   "metadata": {},
   "outputs": [],
   "source": []
  },
  {
   "cell_type": "code",
   "execution_count": 65,
   "id": "938ae4c8-068c-49b9-bdce-1799a2c9c7d1",
   "metadata": {},
   "outputs": [
    {
     "data": {
      "text/plain": [
       "array([[ 3,  2, -7],\n",
       "       [ 5, -2, -5],\n",
       "       [ 6,  7,  4],\n",
       "       [ 8,  1,  2]])"
      ]
     },
     "execution_count": 65,
     "metadata": {},
     "output_type": "execute_result"
    }
   ],
   "source": [
    "np.vstack((arr1, arr2)) # size of array need to be same number of columns"
   ]
  },
  {
   "cell_type": "code",
   "execution_count": null,
   "id": "bc029590-3373-4a30-b954-20b0b1781896",
   "metadata": {},
   "outputs": [],
   "source": []
  },
  {
   "cell_type": "code",
   "execution_count": 67,
   "id": "0c23a3ed-9b73-4cd0-8f29-7d6fdb7d917c",
   "metadata": {},
   "outputs": [
    {
     "data": {
      "text/plain": [
       "array([[ 3,  2, -7,  6,  7,  4],\n",
       "       [ 5, -2, -5,  8,  1,  2]])"
      ]
     },
     "execution_count": 67,
     "metadata": {},
     "output_type": "execute_result"
    }
   ],
   "source": [
    "np.hstack((arr1, arr2)) # same number of rows"
   ]
  },
  {
   "cell_type": "code",
   "execution_count": 73,
   "id": "8bb9c02a-bc02-47d0-ad17-da4a138df846",
   "metadata": {},
   "outputs": [
    {
     "data": {
      "text/plain": [
       "array([[ 3,  2, -7,  6,  7,  4],\n",
       "       [ 5, -2, -5,  8,  1,  2]])"
      ]
     },
     "execution_count": 73,
     "metadata": {},
     "output_type": "execute_result"
    }
   ],
   "source": [
    "np.concatenate((arr1, arr2), axis= 1)"
   ]
  },
  {
   "cell_type": "code",
   "execution_count": 71,
   "id": "623331d0-0242-4518-97bb-583bc2f0ef20",
   "metadata": {},
   "outputs": [
    {
     "data": {
      "text/plain": [
       "array([[ 3,  2, -7],\n",
       "       [ 5, -2, -5],\n",
       "       [ 6,  7,  4],\n",
       "       [ 8,  1,  2]])"
      ]
     },
     "execution_count": 71,
     "metadata": {},
     "output_type": "execute_result"
    }
   ],
   "source": [
    "np.concatenate((arr1, arr2)) ## same as vstack if axis=  1 then same as row"
   ]
  },
  {
   "cell_type": "code",
   "execution_count": null,
   "id": "10deb2e7-7096-48e5-a57d-6369eca5cb7e",
   "metadata": {},
   "outputs": [],
   "source": []
  },
  {
   "cell_type": "code",
   "execution_count": null,
   "id": "8cc557ee-f965-449f-a23e-a12f7931cf43",
   "metadata": {},
   "outputs": [],
   "source": []
  },
  {
   "cell_type": "code",
   "execution_count": null,
   "id": "f323dea9-b52b-42e1-93ee-7d0f457221bf",
   "metadata": {},
   "outputs": [],
   "source": []
  }
 ],
 "metadata": {
  "kernelspec": {
   "display_name": "Python 3 (ipykernel)",
   "language": "python",
   "name": "python3"
  },
  "language_info": {
   "codemirror_mode": {
    "name": "ipython",
    "version": 3
   },
   "file_extension": ".py",
   "mimetype": "text/x-python",
   "name": "python",
   "nbconvert_exporter": "python",
   "pygments_lexer": "ipython3",
   "version": "3.11.10"
  }
 },
 "nbformat": 4,
 "nbformat_minor": 5
}

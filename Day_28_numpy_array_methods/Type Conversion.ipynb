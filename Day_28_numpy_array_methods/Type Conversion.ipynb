{
 "cells": [
  {
   "cell_type": "markdown",
   "id": "d7274f66-3ac4-4bba-9a32-0e1473711602",
   "metadata": {},
   "source": [
    "#### Types and Type Conversion"
   ]
  },
  {
   "cell_type": "code",
   "execution_count": 1,
   "id": "51c491b8-5ad0-447c-9dd3-c925c06c0654",
   "metadata": {},
   "outputs": [],
   "source": [
    "import numpy as np"
   ]
  },
  {
   "cell_type": "code",
   "execution_count": 4,
   "id": "ba29cffe-b1d9-4d4c-8c9a-ca0a8f4f156b",
   "metadata": {},
   "outputs": [],
   "source": [
    "a = np.array([1, 500, 3], dtype= np.int16)"
   ]
  },
  {
   "cell_type": "code",
   "execution_count": 5,
   "id": "6c5eef66-84ee-4899-8cf6-bfc2d2a14283",
   "metadata": {},
   "outputs": [
    {
     "data": {
      "text/plain": [
       "array([  1, 500,   3], dtype=int16)"
      ]
     },
     "execution_count": 5,
     "metadata": {},
     "output_type": "execute_result"
    }
   ],
   "source": [
    "a"
   ]
  },
  {
   "cell_type": "code",
   "execution_count": 8,
   "id": "6c5b6d44-7ea6-49ad-be42-f4f7d5c6a024",
   "metadata": {},
   "outputs": [],
   "source": [
    "b = a.astype(np.float16)"
   ]
  },
  {
   "cell_type": "code",
   "execution_count": 10,
   "id": "2932f346-18c1-4eca-88c5-8b5781774257",
   "metadata": {},
   "outputs": [
    {
     "data": {
      "text/plain": [
       "dtype('float16')"
      ]
     },
     "execution_count": 10,
     "metadata": {},
     "output_type": "execute_result"
    }
   ],
   "source": [
    "b.dtype"
   ]
  },
  {
   "cell_type": "code",
   "execution_count": null,
   "id": "9d514fc3-26ed-4a1f-909f-0f89138dbd67",
   "metadata": {},
   "outputs": [],
   "source": []
  },
  {
   "cell_type": "code",
   "execution_count": 15,
   "id": "af966232-5522-43d2-91ed-09fc828891d6",
   "metadata": {},
   "outputs": [],
   "source": [
    "b = np.array([1, 0,1, -3, 0 ], dtype = np.bool)"
   ]
  },
  {
   "cell_type": "code",
   "execution_count": 17,
   "id": "92cd696d-7d41-4b70-a48b-8331d58c32de",
   "metadata": {},
   "outputs": [
    {
     "data": {
      "text/plain": [
       "array([ True, False,  True,  True, False])"
      ]
     },
     "execution_count": 17,
     "metadata": {},
     "output_type": "execute_result"
    }
   ],
   "source": [
    "b"
   ]
  },
  {
   "cell_type": "code",
   "execution_count": null,
   "id": "daf6d0de-9dbf-42cd-b790-d0f9a9573638",
   "metadata": {},
   "outputs": [],
   "source": []
  },
  {
   "cell_type": "code",
   "execution_count": null,
   "id": "493deb57-13cd-45d0-a7a5-3d3510f6e1c4",
   "metadata": {},
   "outputs": [],
   "source": []
  },
  {
   "cell_type": "code",
   "execution_count": null,
   "id": "db7669e8-8eaa-4dd7-8048-b1bdb0c54661",
   "metadata": {},
   "outputs": [],
   "source": []
  },
  {
   "cell_type": "code",
   "execution_count": null,
   "id": "5737fb11-0907-4bd3-a301-2810897992db",
   "metadata": {},
   "outputs": [],
   "source": []
  },
  {
   "cell_type": "code",
   "execution_count": null,
   "id": "0fa27ec0-0772-41f9-96db-2c444b061a40",
   "metadata": {},
   "outputs": [],
   "source": []
  },
  {
   "cell_type": "code",
   "execution_count": null,
   "id": "9d3371ad-54e1-4ef2-91f1-bec9990cfcd5",
   "metadata": {},
   "outputs": [],
   "source": []
  },
  {
   "cell_type": "code",
   "execution_count": null,
   "id": "b2f4dc50-04b8-4b01-8584-321f06a8ca8d",
   "metadata": {},
   "outputs": [],
   "source": []
  },
  {
   "cell_type": "code",
   "execution_count": null,
   "id": "b2455f94-1053-44c9-a575-fcfd3d7b9fe0",
   "metadata": {},
   "outputs": [],
   "source": []
  }
 ],
 "metadata": {
  "kernelspec": {
   "display_name": "Python 3 (ipykernel)",
   "language": "python",
   "name": "python3"
  },
  "language_info": {
   "codemirror_mode": {
    "name": "ipython",
    "version": 3
   },
   "file_extension": ".py",
   "mimetype": "text/x-python",
   "name": "python",
   "nbconvert_exporter": "python",
   "pygments_lexer": "ipython3",
   "version": "3.11.10"
  }
 },
 "nbformat": 4,
 "nbformat_minor": 5
}

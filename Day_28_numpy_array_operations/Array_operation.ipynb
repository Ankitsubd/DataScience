{
 "cells": [
  {
   "cell_type": "markdown",
   "id": "63a34efd-834f-493c-b3a9-0f517e459889",
   "metadata": {},
   "source": [
    "### 1. Elementwise Operations "
   ]
  },
  {
   "cell_type": "code",
   "execution_count": 1,
   "id": "a8119713-f9cb-43fc-81d6-af28b1a04b8d",
   "metadata": {},
   "outputs": [],
   "source": [
    "import numpy as np"
   ]
  },
  {
   "cell_type": "code",
   "execution_count": 3,
   "id": "cf489874-61e0-4180-ad05-201e5b8e254d",
   "metadata": {},
   "outputs": [],
   "source": [
    "a = np.array([[4,5,6], [5,7,9]])\n",
    "b = np.array([[1,2,3], [5,6,7]])"
   ]
  },
  {
   "cell_type": "code",
   "execution_count": 5,
   "id": "69ff6128-6f8a-4614-8c5f-16c7c2d47163",
   "metadata": {},
   "outputs": [
    {
     "data": {
      "text/plain": [
       "(array([[4, 5, 6],\n",
       "        [5, 7, 9]]),\n",
       " array([[1, 2, 3],\n",
       "        [5, 6, 7]]))"
      ]
     },
     "execution_count": 5,
     "metadata": {},
     "output_type": "execute_result"
    }
   ],
   "source": [
    "a,b"
   ]
  },
  {
   "cell_type": "markdown",
   "id": "11db7a2c-5d30-4322-adb1-2717e7efed45",
   "metadata": {},
   "source": [
    "#### Arithmetic Operations"
   ]
  },
  {
   "cell_type": "code",
   "execution_count": 6,
   "id": "9611f471-6d90-4249-93d1-6ffe24060c34",
   "metadata": {},
   "outputs": [
    {
     "data": {
      "text/plain": [
       "array([[ 5,  7,  9],\n",
       "       [10, 13, 16]])"
      ]
     },
     "execution_count": 6,
     "metadata": {},
     "output_type": "execute_result"
    }
   ],
   "source": [
    "# a + b\n",
    "np.add(a,b)\n"
   ]
  },
  {
   "cell_type": "code",
   "execution_count": 18,
   "id": "0f1d065a-5df2-462d-b688-e69fab093e54",
   "metadata": {},
   "outputs": [
    {
     "data": {
      "text/plain": [
       "array([[3, 3, 3],\n",
       "       [0, 1, 2]])"
      ]
     },
     "execution_count": 18,
     "metadata": {},
     "output_type": "execute_result"
    }
   ],
   "source": [
    "# a - b\n",
    "np.subtract(a,b)"
   ]
  },
  {
   "cell_type": "code",
   "execution_count": 9,
   "id": "659aef3a-9659-40e9-8257-f5bca26820da",
   "metadata": {},
   "outputs": [
    {
     "data": {
      "text/plain": [
       "array([[ 4, 10, 18],\n",
       "       [25, 42, 63]])"
      ]
     },
     "execution_count": 9,
     "metadata": {},
     "output_type": "execute_result"
    }
   ],
   "source": [
    "# a*b\n",
    "np.multiply(a,b)"
   ]
  },
  {
   "cell_type": "code",
   "execution_count": 11,
   "id": "dd77271a-0394-49c0-9253-0e5fc43494c9",
   "metadata": {},
   "outputs": [
    {
     "data": {
      "text/plain": [
       "array([[16, 25, 36],\n",
       "       [25, 49, 81]])"
      ]
     },
     "execution_count": 11,
     "metadata": {},
     "output_type": "execute_result"
    }
   ],
   "source": [
    "# a ** b\n",
    "# np.square(b)\n",
    "np.power(a, 2)"
   ]
  },
  {
   "cell_type": "code",
   "execution_count": 16,
   "id": "8e424723-0ce3-46ff-aa41-594e725623a4",
   "metadata": {},
   "outputs": [
    {
     "data": {
      "text/plain": [
       "array([[4.        , 2.5       , 2.        ],\n",
       "       [1.        , 1.16666667, 1.28571429]])"
      ]
     },
     "execution_count": 16,
     "metadata": {},
     "output_type": "execute_result"
    }
   ],
   "source": [
    "np.divide(a,b)"
   ]
  },
  {
   "cell_type": "code",
   "execution_count": 15,
   "id": "4f9f3b05-2532-4161-a5c6-2b715d6de4c9",
   "metadata": {},
   "outputs": [
    {
     "data": {
      "text/plain": [
       "(array([[2, 2, 3],\n",
       "        [2, 3, 4]]),\n",
       " array([[0, 1, 0],\n",
       "        [1, 1, 1]]))"
      ]
     },
     "execution_count": 15,
     "metadata": {},
     "output_type": "execute_result"
    }
   ],
   "source": [
    "# a % b\n",
    "np.divmod(a,2)"
   ]
  },
  {
   "cell_type": "code",
   "execution_count": 17,
   "id": "5337c61b-8779-430a-a949-9d49b537e273",
   "metadata": {},
   "outputs": [
    {
     "data": {
      "text/plain": [
       "array([[3, 3, 3],\n",
       "       [0, 1, 2]])"
      ]
     },
     "execution_count": 17,
     "metadata": {},
     "output_type": "execute_result"
    }
   ],
   "source": [
    "np.abs(\n",
    "    np.subtract(a,b)\n",
    ")"
   ]
  },
  {
   "cell_type": "code",
   "execution_count": 22,
   "id": "3d0ed771-545d-4d82-b005-4470cc7f029d",
   "metadata": {},
   "outputs": [],
   "source": [
    "qno, rem = np.divide(a, 2)"
   ]
  },
  {
   "cell_type": "code",
   "execution_count": 23,
   "id": "195b4469-0a36-48c0-aba0-8e255d069fba",
   "metadata": {},
   "outputs": [
    {
     "data": {
      "text/plain": [
       "array([2. , 2.5, 3. ])"
      ]
     },
     "execution_count": 23,
     "metadata": {},
     "output_type": "execute_result"
    }
   ],
   "source": [
    "qno"
   ]
  },
  {
   "cell_type": "code",
   "execution_count": 24,
   "id": "29296af1-edd3-4403-8abf-7155487b645b",
   "metadata": {},
   "outputs": [
    {
     "data": {
      "text/plain": [
       "array([2.5, 3.5, 4.5])"
      ]
     },
     "execution_count": 24,
     "metadata": {},
     "output_type": "execute_result"
    }
   ],
   "source": [
    "rem"
   ]
  },
  {
   "cell_type": "code",
   "execution_count": null,
   "id": "7b9b0a29-f9e9-4039-9228-f93feaed0ddc",
   "metadata": {},
   "outputs": [],
   "source": []
  },
  {
   "cell_type": "code",
   "execution_count": 25,
   "id": "bed5e651-8d75-4444-b71b-31a56d602a02",
   "metadata": {},
   "outputs": [
    {
     "data": {
      "text/plain": [
       "array([[2., 3., 3.],\n",
       "       [3., 3., 3.]])"
      ]
     },
     "execution_count": 25,
     "metadata": {},
     "output_type": "execute_result"
    }
   ],
   "source": [
    "np.ceil(np.sqrt(a))"
   ]
  },
  {
   "cell_type": "code",
   "execution_count": null,
   "id": "cdbe1315-e14c-4606-8cad-c806ba42f112",
   "metadata": {},
   "outputs": [],
   "source": []
  },
  {
   "cell_type": "markdown",
   "id": "fc7fc3f5-d851-4134-a04a-bfc19366d166",
   "metadata": {},
   "source": [
    "#### Trignometric"
   ]
  },
  {
   "cell_type": "code",
   "execution_count": 27,
   "id": "3ea48875-2274-4a34-b366-2a06d8da0e79",
   "metadata": {},
   "outputs": [
    {
     "name": "stdout",
     "output_type": "stream",
     "text": [
      "[[-1.32134871 -1.04283521 -3.57889955]\n",
      " [-1.04283521  1.52210106  2.42648664]]\n"
     ]
    }
   ],
   "source": [
    "new = 1 / np.sin(a)\n",
    "print(new)"
   ]
  },
  {
   "cell_type": "code",
   "execution_count": 28,
   "id": "cbf4c7b1-0348-407a-9da3-ab2b0a098cea",
   "metadata": {},
   "outputs": [
    {
     "data": {
      "text/plain": [
       "array([[ 0.86369115, -0.29581292, -3.436353  ],\n",
       "       [-0.29581292,  1.14751542, -2.21084541]])"
      ]
     },
     "execution_count": 28,
     "metadata": {},
     "output_type": "execute_result"
    }
   ],
   "source": [
    "1/ np.tan(a)"
   ]
  },
  {
   "cell_type": "code",
   "execution_count": null,
   "id": "c97e613d-2c0e-45d5-9a91-afcc2a3f4ae7",
   "metadata": {},
   "outputs": [],
   "source": []
  },
  {
   "cell_type": "markdown",
   "id": "bdfdb900-a9e5-4f43-8798-de018194018f",
   "metadata": {},
   "source": [
    "#### Round Operations"
   ]
  },
  {
   "cell_type": "code",
   "execution_count": 29,
   "id": "5ae43901-6df3-4b29-a580-09d0e897b64a",
   "metadata": {},
   "outputs": [
    {
     "data": {
      "text/plain": [
       "array([[-1.321, -1.043, -3.579],\n",
       "       [-1.043,  1.522,  2.426]])"
      ]
     },
     "execution_count": 29,
     "metadata": {},
     "output_type": "execute_result"
    }
   ],
   "source": [
    "np.round(new, decimals= 3)"
   ]
  },
  {
   "cell_type": "code",
   "execution_count": null,
   "id": "2106dd0b-36bd-406f-8cbf-9e6eade49714",
   "metadata": {},
   "outputs": [],
   "source": []
  },
  {
   "cell_type": "code",
   "execution_count": 30,
   "id": "27d5a0c0-51a5-43ed-b2e3-ae7a850b0b99",
   "metadata": {},
   "outputs": [
    {
     "data": {
      "text/plain": [
       "array([[-1.321, -1.043, -3.579],\n",
       "       [-1.043,  1.522,  2.426]])"
      ]
     },
     "execution_count": 30,
     "metadata": {},
     "output_type": "execute_result"
    }
   ],
   "source": [
    "np.around(new, decimals= 3)"
   ]
  },
  {
   "cell_type": "code",
   "execution_count": null,
   "id": "776c2cc9-9a3a-45b3-b1e0-7467c1ed91e0",
   "metadata": {},
   "outputs": [],
   "source": []
  },
  {
   "cell_type": "code",
   "execution_count": 31,
   "id": "59da241d-304a-472c-9c12-f9d3265326e2",
   "metadata": {},
   "outputs": [
    {
     "data": {
      "text/plain": [
       "array([[-1., -1., -3.],\n",
       "       [-1.,  1.,  2.]])"
      ]
     },
     "execution_count": 31,
     "metadata": {},
     "output_type": "execute_result"
    }
   ],
   "source": [
    "np.fix(new)"
   ]
  },
  {
   "cell_type": "code",
   "execution_count": 32,
   "id": "22a5c165-9505-488d-94e3-2f1c128177d6",
   "metadata": {},
   "outputs": [
    {
     "data": {
      "text/plain": [
       "array([[-2., -2., -4.],\n",
       "       [-2.,  1.,  2.]])"
      ]
     },
     "execution_count": 32,
     "metadata": {},
     "output_type": "execute_result"
    }
   ],
   "source": [
    "np.floor(new)"
   ]
  },
  {
   "cell_type": "markdown",
   "id": "f9316a80-7b88-4799-98e1-48321ccbe333",
   "metadata": {},
   "source": [
    "#### 2. Matrix Operations"
   ]
  },
  {
   "cell_type": "code",
   "execution_count": 39,
   "id": "8006270f-b476-490c-8ecf-57ba0582b06d",
   "metadata": {},
   "outputs": [],
   "source": [
    "a = np.array([[4,5,6], [5,7,9]])\n",
    "b = np.array([[1,2,3], [9,8,7]])"
   ]
  },
  {
   "cell_type": "code",
   "execution_count": 40,
   "id": "343eaf8c-03e9-4cee-9817-507f2db38019",
   "metadata": {},
   "outputs": [
    {
     "ename": "ValueError",
     "evalue": "shapes (2,3) and (2,3) not aligned: 3 (dim 1) != 2 (dim 0)",
     "output_type": "error",
     "traceback": [
      "\u001b[0;31m---------------------------------------------------------------------------\u001b[0m",
      "\u001b[0;31mValueError\u001b[0m                                Traceback (most recent call last)",
      "Cell \u001b[0;32mIn[40], line 1\u001b[0m\n\u001b[0;32m----> 1\u001b[0m \u001b[43mnp\u001b[49m\u001b[38;5;241;43m.\u001b[39;49m\u001b[43mdot\u001b[49m\u001b[43m(\u001b[49m\u001b[43ma\u001b[49m\u001b[43m,\u001b[49m\u001b[43mb\u001b[49m\u001b[43m)\u001b[49m\n",
      "\u001b[0;31mValueError\u001b[0m: shapes (2,3) and (2,3) not aligned: 3 (dim 1) != 2 (dim 0)"
     ]
    }
   ],
   "source": [
    "np.dot(a,b)"
   ]
  },
  {
   "cell_type": "code",
   "execution_count": 41,
   "id": "a5688785-4ed3-4446-9cba-4fbb253564a9",
   "metadata": {},
   "outputs": [],
   "source": [
    "a = np.array([[4,5,6], [5,7,9]])\n",
    "b = np.array([[1,2,3], [9,8,7], [9, 4, 7]])"
   ]
  },
  {
   "cell_type": "code",
   "execution_count": 42,
   "id": "7a4cfd7a-420e-425f-8b7b-b9b2f1dbc586",
   "metadata": {},
   "outputs": [
    {
     "data": {
      "text/plain": [
       "array([[103,  72,  89],\n",
       "       [149, 102, 127]])"
      ]
     },
     "execution_count": 42,
     "metadata": {},
     "output_type": "execute_result"
    }
   ],
   "source": [
    "np.dot(a,b)"
   ]
  },
  {
   "cell_type": "code",
   "execution_count": 44,
   "id": "f1ca8618-9e65-49b4-856d-06e3672155e3",
   "metadata": {},
   "outputs": [
    {
     "data": {
      "text/plain": [
       "array([[1, 2, 3],\n",
       "       [9, 8, 7],\n",
       "       [9, 4, 7]])"
      ]
     },
     "execution_count": 44,
     "metadata": {},
     "output_type": "execute_result"
    }
   ],
   "source": [
    "b"
   ]
  },
  {
   "cell_type": "code",
   "execution_count": 45,
   "id": "59b96e78-bd9c-4584-bf33-26c3af24fee9",
   "metadata": {},
   "outputs": [
    {
     "data": {
      "text/plain": [
       "array([[1, 9, 9],\n",
       "       [2, 8, 4],\n",
       "       [3, 7, 7]])"
      ]
     },
     "execution_count": 45,
     "metadata": {},
     "output_type": "execute_result"
    }
   ],
   "source": [
    "# b.T\n",
    "np.transpose(b)"
   ]
  },
  {
   "cell_type": "code",
   "execution_count": 46,
   "id": "0402ae30-e84b-4dcc-85ec-e2ed1fba7641",
   "metadata": {},
   "outputs": [
    {
     "data": {
      "text/plain": [
       "np.int64(16)"
      ]
     },
     "execution_count": 46,
     "metadata": {},
     "output_type": "execute_result"
    }
   ],
   "source": [
    "np.trace(b)"
   ]
  },
  {
   "cell_type": "code",
   "execution_count": null,
   "id": "a602df39-8fb6-4d95-b708-955f040e741a",
   "metadata": {},
   "outputs": [],
   "source": []
  },
  {
   "cell_type": "code",
   "execution_count": 47,
   "id": "e66d6ece-2e92-41ec-a016-072b6fc15b6a",
   "metadata": {},
   "outputs": [
    {
     "data": {
      "text/plain": [
       "np.float64(-79.99999999999997)"
      ]
     },
     "execution_count": 47,
     "metadata": {},
     "output_type": "execute_result"
    }
   ],
   "source": [
    "np.linalg.det(b)"
   ]
  },
  {
   "cell_type": "code",
   "execution_count": null,
   "id": "65678b0b-de0a-4ecf-9f97-2bfddf031d37",
   "metadata": {},
   "outputs": [],
   "source": []
  },
  {
   "cell_type": "code",
   "execution_count": 51,
   "id": "2a504aa2-ae54-4c0f-a669-07197642986d",
   "metadata": {},
   "outputs": [
    {
     "data": {
      "text/plain": [
       "array([[1., 0., 0.],\n",
       "       [0., 1., 0.],\n",
       "       [0., 0., 1.]])"
      ]
     },
     "execution_count": 51,
     "metadata": {},
     "output_type": "execute_result"
    }
   ],
   "source": [
    "np.dot(\n",
    "    b, np.linalg.inv(b)\n",
    ").round()"
   ]
  },
  {
   "cell_type": "code",
   "execution_count": null,
   "id": "ef36a43b-057d-4001-a92b-12552175ddce",
   "metadata": {},
   "outputs": [],
   "source": []
  },
  {
   "cell_type": "code",
   "execution_count": 53,
   "id": "a784f9c8-e368-4c3c-8f73-57fb62b1df4e",
   "metadata": {},
   "outputs": [],
   "source": [
    "#solve Equations: x + 2*y = 1 and 3*x + 5*y = 2\n",
    "a = np.array([[1,2],\n",
    "             [3,5]])\n",
    "b = np.array([1,2])"
   ]
  },
  {
   "cell_type": "code",
   "execution_count": 55,
   "id": "302f8603-7642-44b8-9503-da0c86680939",
   "metadata": {},
   "outputs": [
    {
     "data": {
      "text/plain": [
       "array([-1.,  1.])"
      ]
     },
     "execution_count": 55,
     "metadata": {},
     "output_type": "execute_result"
    }
   ],
   "source": [
    "np.linalg.solve(a,b)"
   ]
  },
  {
   "cell_type": "code",
   "execution_count": null,
   "id": "8ab419fc-7e22-47c5-ae43-6000f89427d3",
   "metadata": {},
   "outputs": [],
   "source": []
  },
  {
   "cell_type": "code",
   "execution_count": null,
   "id": "0d62f38a-7712-407b-b962-29e39a72a0f3",
   "metadata": {},
   "outputs": [],
   "source": []
  },
  {
   "cell_type": "code",
   "execution_count": null,
   "id": "d9d73329-9dc8-4d8d-bd95-0d28ee97b0ca",
   "metadata": {},
   "outputs": [],
   "source": []
  }
 ],
 "metadata": {
  "kernelspec": {
   "display_name": "Python 3 (ipykernel)",
   "language": "python",
   "name": "python3"
  },
  "language_info": {
   "codemirror_mode": {
    "name": "ipython",
    "version": 3
   },
   "file_extension": ".py",
   "mimetype": "text/x-python",
   "name": "python",
   "nbconvert_exporter": "python",
   "pygments_lexer": "ipython3",
   "version": "3.11.10"
  }
 },
 "nbformat": 4,
 "nbformat_minor": 5
}

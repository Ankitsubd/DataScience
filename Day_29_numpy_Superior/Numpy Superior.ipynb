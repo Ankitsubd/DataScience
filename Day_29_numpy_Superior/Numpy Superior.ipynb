{
 "cells": [
  {
   "cell_type": "markdown",
   "id": "daa69448-1285-4b63-98e4-a4316585a578",
   "metadata": {},
   "source": [
    "#### Why Numpy over Python For Loop?"
   ]
  },
  {
   "cell_type": "code",
   "execution_count": 2,
   "id": "e0c096c1-e2f0-46f1-b794-b5a2742c8e34",
   "metadata": {},
   "outputs": [],
   "source": [
    "import numpy as np\n",
    "import time\n",
    "\n",
    "a = np.random.rand(20_000_000)\n",
    "b = np.random.rand(20_000_000)"
   ]
  },
  {
   "cell_type": "code",
   "execution_count": 4,
   "id": "478eac48-1025-44ef-b440-7999312041ff",
   "metadata": {},
   "outputs": [
    {
     "name": "stdout",
     "output_type": "stream",
     "text": [
      "Time taken by Python loop: 2.124870777130127 sec\n"
     ]
    }
   ],
   "source": [
    "# Using pure python loop\n",
    "lsa = list(a)\n",
    "lsb = list(b)\n",
    "res = []\n",
    "\n",
    "start = time.time()\n",
    "for _a , _b in zip(lsa, lsb):\n",
    "    res.append(_a * _b)\n",
    "end = time.time()\n",
    "print(f\"Time taken by Python loop: {end - start} sec\")"
   ]
  },
  {
   "cell_type": "code",
   "execution_count": 5,
   "id": "cee3d4f8-e204-4cf1-bc17-a14b8b77fb44",
   "metadata": {},
   "outputs": [
    {
     "name": "stdout",
     "output_type": "stream",
     "text": [
      "Time taken by comprehension loop: 1.3024790287017822 sec\n"
     ]
    }
   ],
   "source": [
    "# using comprehension\n",
    "lsa = list(a)\n",
    "lsb = list(b)\n",
    "res = []\n",
    "\n",
    "start = time.time()\n",
    "res = [ _a * _b for _a , _b in zip(lsa, lsb)]\n",
    "\n",
    "end = time.time()\n",
    "print(f\"Time taken by comprehension loop: {end - start} sec\")"
   ]
  },
  {
   "cell_type": "code",
   "execution_count": 6,
   "id": "ce0c3dba-cf78-48ab-95b4-ae4ec4fcf80d",
   "metadata": {},
   "outputs": [
    {
     "name": "stdout",
     "output_type": "stream",
     "text": [
      "Time taken by Python loop: 1.664186954498291 sec\n"
     ]
    }
   ],
   "source": [
    "# Using Map Function\n",
    "lsa = list(a)\n",
    "lsb = list(b)\n",
    "\n",
    "\n",
    "start = time.time()\n",
    "gen = map(lambda x, y : x*y, lsa, lsb)\n",
    "result = list(gen)\n",
    "\n",
    "\n",
    "end = time.time()\n",
    "print(f\"Time taken by Python loop: {end - start} sec\")"
   ]
  },
  {
   "cell_type": "code",
   "execution_count": 7,
   "id": "8095d07c-2b30-4765-b72c-e52f8a8e1378",
   "metadata": {},
   "outputs": [
    {
     "name": "stdout",
     "output_type": "stream",
     "text": [
      "Taken by Numpy Operation: 0.2954869270324707 sec\n"
     ]
    }
   ],
   "source": [
    "# Using Numpy operation\n",
    "start = time.time()\n",
    "result = a * b\n",
    "end = time.time()\n",
    "\n",
    "print(f\"Taken by Numpy Operation: {end - start} sec\")"
   ]
  },
  {
   "cell_type": "code",
   "execution_count": null,
   "id": "c8c6b08e-0da5-4b8b-9c91-656d7a20f170",
   "metadata": {},
   "outputs": [],
   "source": []
  },
  {
   "cell_type": "code",
   "execution_count": null,
   "id": "dd553c15-21b3-4882-bb24-e30896461ecd",
   "metadata": {},
   "outputs": [],
   "source": []
  },
  {
   "cell_type": "code",
   "execution_count": null,
   "id": "90856ba0-186d-456c-bf8d-3261e29c9574",
   "metadata": {},
   "outputs": [],
   "source": []
  },
  {
   "cell_type": "code",
   "execution_count": null,
   "id": "7c09649b-ebef-4095-9004-cc260948734e",
   "metadata": {},
   "outputs": [],
   "source": []
  },
  {
   "cell_type": "code",
   "execution_count": null,
   "id": "af3c32e5-14bb-47cd-9a6e-b70127597057",
   "metadata": {},
   "outputs": [],
   "source": []
  },
  {
   "cell_type": "code",
   "execution_count": null,
   "id": "b52890b1-0084-444e-80f5-6c4a4445feab",
   "metadata": {},
   "outputs": [],
   "source": []
  }
 ],
 "metadata": {
  "kernelspec": {
   "display_name": "Python 3 (ipykernel)",
   "language": "python",
   "name": "python3"
  },
  "language_info": {
   "codemirror_mode": {
    "name": "ipython",
    "version": 3
   },
   "file_extension": ".py",
   "mimetype": "text/x-python",
   "name": "python",
   "nbconvert_exporter": "python",
   "pygments_lexer": "ipython3",
   "version": "3.11.10"
  }
 },
 "nbformat": 4,
 "nbformat_minor": 5
}

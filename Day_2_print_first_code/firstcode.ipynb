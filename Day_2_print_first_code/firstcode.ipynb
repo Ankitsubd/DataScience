{
 "cells": [
  {
   "cell_type": "code",
   "execution_count": 1,
   "id": "86a9ae83-7234-4f18-8d00-b7b4c981fd57",
   "metadata": {},
   "outputs": [
    {
     "name": "stdout",
     "output_type": "stream",
     "text": [
      "hello,World\n"
     ]
    }
   ],
   "source": [
    "print(\"hello,World\")"
   ]
  },
  {
   "cell_type": "code",
   "execution_count": null,
   "id": "cf59cb78-b109-4479-bf88-192a273b93df",
   "metadata": {},
   "outputs": [],
   "source": []
  }
 ],
 "metadata": {
  "kernelspec": {
   "display_name": "Python 3 (ipykernel)",
   "language": "python",
   "name": "python3"
  },
  "language_info": {
   "codemirror_mode": {
    "name": "ipython",
    "version": 3
   },
   "file_extension": ".py",
   "mimetype": "text/x-python",
   "name": "python",
   "nbconvert_exporter": "python",
   "pygments_lexer": "ipython3",
   "version": "3.11.10"
  }
 },
 "nbformat": 4,
 "nbformat_minor": 5
}

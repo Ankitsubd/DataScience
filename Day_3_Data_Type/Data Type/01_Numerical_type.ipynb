{
 "cells": [
  {
   "cell_type": "code",
   "execution_count": 6,
   "id": "f802419c-cb53-459f-872c-a72e6f65693b",
   "metadata": {},
   "outputs": [],
   "source": [
    "mynumber = 10"
   ]
  },
  {
   "cell_type": "code",
   "execution_count": 7,
   "id": "f1146840-c8f3-42f3-9a55-c85d64edabf4",
   "metadata": {},
   "outputs": [
    {
     "name": "stdout",
     "output_type": "stream",
     "text": [
      "<class 'int'>\n"
     ]
    }
   ],
   "source": [
    "print(type(mynumber))"
   ]
  },
  {
   "cell_type": "code",
   "execution_count": 4,
   "id": "25ae5496-b114-4bd5-834b-590271b13e38",
   "metadata": {},
   "outputs": [
    {
     "name": "stdout",
     "output_type": "stream",
     "text": [
      "10\n"
     ]
    }
   ],
   "source": [
    "\n",
    "print(mynumber)"
   ]
  },
  {
   "cell_type": "code",
   "execution_count": 14,
   "id": "b2eeee78-86fd-439d-8417-806e9eade7b1",
   "metadata": {},
   "outputs": [],
   "source": [
    "_my_number = 6.74"
   ]
  },
  {
   "cell_type": "code",
   "execution_count": 15,
   "id": "0871e5fb-dca1-4880-880b-548262a13795",
   "metadata": {},
   "outputs": [
    {
     "data": {
      "text/plain": [
       "float"
      ]
     },
     "execution_count": 15,
     "metadata": {},
     "output_type": "execute_result"
    }
   ],
   "source": [
    "type(_my_number)"
   ]
  },
  {
   "cell_type": "code",
   "execution_count": 16,
   "id": "befdb852-42fa-493a-85a0-52bf8358753a",
   "metadata": {},
   "outputs": [
    {
     "name": "stdout",
     "output_type": "stream",
     "text": [
      "6.74\n"
     ]
    }
   ],
   "source": [
    "print(_my_number)"
   ]
  },
  {
   "cell_type": "code",
   "execution_count": 17,
   "id": "f0abade5-adf3-4a76-8360-a81068d63600",
   "metadata": {},
   "outputs": [],
   "source": [
    "#Complex number\n",
    "x = 11-3j"
   ]
  },
  {
   "cell_type": "code",
   "execution_count": 18,
   "id": "ea838ecd-c96b-4170-b32e-c0f548e686c3",
   "metadata": {},
   "outputs": [
    {
     "data": {
      "text/plain": [
       "complex"
      ]
     },
     "execution_count": 18,
     "metadata": {},
     "output_type": "execute_result"
    }
   ],
   "source": [
    "type(x)"
   ]
  },
  {
   "cell_type": "code",
   "execution_count": 19,
   "id": "16918b21-17b8-4353-b251-eb7d343b5b03",
   "metadata": {},
   "outputs": [
    {
     "name": "stdout",
     "output_type": "stream",
     "text": [
      "(11-3j)\n"
     ]
    }
   ],
   "source": [
    "print(x)"
   ]
  },
  {
   "cell_type": "code",
   "execution_count": null,
   "id": "00169ec0-1e15-40fa-999b-2b814f52f6bf",
   "metadata": {},
   "outputs": [],
   "source": []
  }
 ],
 "metadata": {
  "kernelspec": {
   "display_name": "Python 3 (ipykernel)",
   "language": "python",
   "name": "python3"
  },
  "language_info": {
   "codemirror_mode": {
    "name": "ipython",
    "version": 3
   },
   "file_extension": ".py",
   "mimetype": "text/x-python",
   "name": "python",
   "nbconvert_exporter": "python",
   "pygments_lexer": "ipython3",
   "version": "3.11.10"
  }
 },
 "nbformat": 4,
 "nbformat_minor": 5
}

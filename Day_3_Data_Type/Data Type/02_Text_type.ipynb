{
 "cells": [
  {
   "cell_type": "code",
   "execution_count": 1,
   "id": "acc2d085-9737-41b7-af7c-8717042b88f4",
   "metadata": {},
   "outputs": [],
   "source": [
    "text = \"Hello Ankit\""
   ]
  },
  {
   "cell_type": "code",
   "execution_count": 2,
   "id": "e3aa6d92-c899-46b0-acd6-0982de93b251",
   "metadata": {},
   "outputs": [
    {
     "data": {
      "text/plain": [
       "str"
      ]
     },
     "execution_count": 2,
     "metadata": {},
     "output_type": "execute_result"
    }
   ],
   "source": [
    "type(text)\n"
   ]
  },
  {
   "cell_type": "code",
   "execution_count": 3,
   "id": "b467b32d-28a4-4e7e-a0f7-b2f9301c2f87",
   "metadata": {},
   "outputs": [
    {
     "name": "stdout",
     "output_type": "stream",
     "text": [
      "Hello Ankit\n"
     ]
    }
   ],
   "source": [
    "print(text)"
   ]
  },
  {
   "cell_type": "code",
   "execution_count": 4,
   "id": "9cec198c-fb6b-4131-bbe2-4524c5dbe83a",
   "metadata": {},
   "outputs": [],
   "source": [
    "x = 5"
   ]
  },
  {
   "cell_type": "code",
   "execution_count": 8,
   "id": "ea30d590-44b3-4103-9ab8-ddba2920c467",
   "metadata": {},
   "outputs": [],
   "source": [
    "y = str(x)"
   ]
  },
  {
   "cell_type": "code",
   "execution_count": 9,
   "id": "9cf2da23-7aab-424f-acb5-2e4b11b0431a",
   "metadata": {},
   "outputs": [
    {
     "data": {
      "text/plain": [
       "str"
      ]
     },
     "execution_count": 9,
     "metadata": {},
     "output_type": "execute_result"
    }
   ],
   "source": [
    "type(y)"
   ]
  },
  {
   "cell_type": "code",
   "execution_count": 10,
   "id": "488258ac-d61d-4cf4-8a91-436bf13fac2f",
   "metadata": {},
   "outputs": [],
   "source": [
    "#String Method"
   ]
  },
  {
   "cell_type": "code",
   "execution_count": 14,
   "id": "732cb68b-c751-4161-bfe3-9027d9366d92",
   "metadata": {},
   "outputs": [],
   "source": [
    "name = \"    SoMe tHing   \""
   ]
  },
  {
   "cell_type": "code",
   "execution_count": 15,
   "id": "4cabe67d-c852-494e-b9c8-e683cbcc3c30",
   "metadata": {},
   "outputs": [
    {
     "data": {
      "text/plain": [
       "'    SOME THING   '"
      ]
     },
     "execution_count": 15,
     "metadata": {},
     "output_type": "execute_result"
    }
   ],
   "source": [
    "name.upper()"
   ]
  },
  {
   "cell_type": "code",
   "execution_count": 16,
   "id": "b1169392-e7bd-456e-b6f6-688ff3bc03e3",
   "metadata": {},
   "outputs": [
    {
     "data": {
      "text/plain": [
       "'    some thing   '"
      ]
     },
     "execution_count": 16,
     "metadata": {},
     "output_type": "execute_result"
    }
   ],
   "source": [
    "name.lower()"
   ]
  },
  {
   "cell_type": "code",
   "execution_count": 17,
   "id": "0cc57dde-ce36-4677-8a9a-1107cce7b7b8",
   "metadata": {},
   "outputs": [
    {
     "data": {
      "text/plain": [
       "'    Some Thing   '"
      ]
     },
     "execution_count": 17,
     "metadata": {},
     "output_type": "execute_result"
    }
   ],
   "source": [
    "name.title()"
   ]
  },
  {
   "cell_type": "code",
   "execution_count": 18,
   "id": "91ec4bee-8b31-469c-ab1c-27e76d996227",
   "metadata": {},
   "outputs": [
    {
     "data": {
      "text/plain": [
       "['SoMe', 'tHing']"
      ]
     },
     "execution_count": 18,
     "metadata": {},
     "output_type": "execute_result"
    }
   ],
   "source": [
    "name.split()"
   ]
  },
  {
   "cell_type": "code",
   "execution_count": 19,
   "id": "eadd179f-370a-4ca1-b334-05eaa4799412",
   "metadata": {},
   "outputs": [
    {
     "data": {
      "text/plain": [
       "'SoMe tHing'"
      ]
     },
     "execution_count": 19,
     "metadata": {},
     "output_type": "execute_result"
    }
   ],
   "source": [
    "name.strip()"
   ]
  },
  {
   "cell_type": "code",
   "execution_count": 20,
   "id": "c828cd59-4689-4a16-a14f-34b4e698cb38",
   "metadata": {},
   "outputs": [],
   "source": [
    "name = \"Ankit Subedi\"\n",
    "age = 22\n",
    "gender = \"male\""
   ]
  },
  {
   "cell_type": "code",
   "execution_count": 23,
   "id": "bde0f0e6-f8a1-4b45-be22-8b9acd1b982c",
   "metadata": {},
   "outputs": [
    {
     "name": "stdout",
     "output_type": "stream",
     "text": [
      "My name is Ankit Subedi. I am 22 years old, male.\n"
     ]
    }
   ],
   "source": [
    "print(f\"My name is {name}. I am {age} years old, {gender}.\")"
   ]
  },
  {
   "cell_type": "code",
   "execution_count": null,
   "id": "d2325d27-154a-4fd0-b3ca-1d4f8336a924",
   "metadata": {},
   "outputs": [],
   "source": []
  }
 ],
 "metadata": {
  "kernelspec": {
   "display_name": "Python 3 (ipykernel)",
   "language": "python",
   "name": "python3"
  },
  "language_info": {
   "codemirror_mode": {
    "name": "ipython",
    "version": 3
   },
   "file_extension": ".py",
   "mimetype": "text/x-python",
   "name": "python",
   "nbconvert_exporter": "python",
   "pygments_lexer": "ipython3",
   "version": "3.11.10"
  }
 },
 "nbformat": 4,
 "nbformat_minor": 5
}

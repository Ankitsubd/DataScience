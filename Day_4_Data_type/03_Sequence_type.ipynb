{
 "cells": [
  {
   "cell_type": "code",
   "execution_count": 1,
   "id": "28a41d10-4581-4929-8855-d3d740b00abc",
   "metadata": {},
   "outputs": [],
   "source": [
    "#list\n",
    "x = [5, 6, 7, 1, 4]\n",
    "y = [2, 3, 8, 9, 10]\n"
   ]
  },
  {
   "cell_type": "code",
   "execution_count": 2,
   "id": "0649c4c5-2bf5-4f85-9538-50173d09e08a",
   "metadata": {},
   "outputs": [
    {
     "data": {
      "text/plain": [
       "list"
      ]
     },
     "execution_count": 2,
     "metadata": {},
     "output_type": "execute_result"
    }
   ],
   "source": [
    "type(x)\n"
   ]
  },
  {
   "cell_type": "code",
   "execution_count": 3,
   "id": "bbb1baa1-9fdb-41e6-8333-f3704a6eea44",
   "metadata": {},
   "outputs": [
    {
     "name": "stdout",
     "output_type": "stream",
     "text": [
      "[5, 6, 7, 1, 4] [2, 3, 8, 9, 10]\n"
     ]
    }
   ],
   "source": [
    "print(x,y)"
   ]
  },
  {
   "cell_type": "code",
   "execution_count": null,
   "id": "b358b60c-7c84-44fc-adea-df9f7f0ffbcc",
   "metadata": {},
   "outputs": [],
   "source": []
  }
 ],
 "metadata": {
  "kernelspec": {
   "display_name": "Python 3 (ipykernel)",
   "language": "python",
   "name": "python3"
  },
  "language_info": {
   "codemirror_mode": {
    "name": "ipython",
    "version": 3
   },
   "file_extension": ".py",
   "mimetype": "text/x-python",
   "name": "python",
   "nbconvert_exporter": "python",
   "pygments_lexer": "ipython3",
   "version": "3.11.10"
  }
 },
 "nbformat": 4,
 "nbformat_minor": 5
}

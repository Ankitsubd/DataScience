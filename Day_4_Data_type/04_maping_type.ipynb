{
 "cells": [
  {
   "cell_type": "code",
   "execution_count": 21,
   "id": "e7aed4f7-0419-4687-af8e-629edfb50de0",
   "metadata": {},
   "outputs": [],
   "source": [
    "person = {\n",
    "    \"name\" : \"Ankit Subedi\",\n",
    "    \"Age\" : 22,\n",
    "    \"city\" : \"Chitwan\",\n",
    "    \"Gender\" : \"Male\",\n",
    "    \"subject\" : [\"Maths\", \"Programming\", \"Graphic\"]\n",
    "}"
   ]
  },
  {
   "cell_type": "code",
   "execution_count": 22,
   "id": "445cdaf7-bfae-4fb9-823d-769ea77a170b",
   "metadata": {},
   "outputs": [
    {
     "name": "stdout",
     "output_type": "stream",
     "text": [
      "{'name': 'Ankit Subedi', 'Age': 22, 'city': 'Chitwan', 'Gender': 'Male', 'subject': ['Maths', 'Programming', 'Graphic']}\n"
     ]
    }
   ],
   "source": [
    "print(person)"
   ]
  },
  {
   "cell_type": "code",
   "execution_count": 23,
   "id": "2e4cce43-5aa3-46c1-a173-d43cad4ea63f",
   "metadata": {},
   "outputs": [],
   "source": [
    "person[\"Age\"] = 23 "
   ]
  },
  {
   "cell_type": "code",
   "execution_count": 24,
   "id": "40dbb7ff-fb05-457b-b94d-dea20a030140",
   "metadata": {},
   "outputs": [
    {
     "name": "stdout",
     "output_type": "stream",
     "text": [
      "{'name': 'Ankit Subedi', 'Age': 23, 'city': 'Chitwan', 'Gender': 'Male', 'subject': ['Maths', 'Programming', 'Graphic']}\n"
     ]
    }
   ],
   "source": [
    "print(person)"
   ]
  },
  {
   "cell_type": "code",
   "execution_count": 25,
   "id": "9ec781ad-dd35-4049-bf5c-a893c476fb89",
   "metadata": {},
   "outputs": [
    {
     "name": "stdout",
     "output_type": "stream",
     "text": [
      "Undefined\n"
     ]
    }
   ],
   "source": [
    "print(person.get(\"Country\", \"Undefined\"))"
   ]
  },
  {
   "cell_type": "code",
   "execution_count": 26,
   "id": "8769f14b-cae2-45b8-a26c-1ceda097859e",
   "metadata": {},
   "outputs": [
    {
     "name": "stdout",
     "output_type": "stream",
     "text": [
      "Chitwan\n"
     ]
    }
   ],
   "source": [
    "print(person.get(\"city\", \"Undefined\"))"
   ]
  },
  {
   "cell_type": "code",
   "execution_count": null,
   "id": "9f0c7b9b-18ae-4824-b0e8-3b463168ff6a",
   "metadata": {},
   "outputs": [],
   "source": []
  }
 ],
 "metadata": {
  "kernelspec": {
   "display_name": "Python 3 (ipykernel)",
   "language": "python",
   "name": "python3"
  },
  "language_info": {
   "codemirror_mode": {
    "name": "ipython",
    "version": 3
   },
   "file_extension": ".py",
   "mimetype": "text/x-python",
   "name": "python",
   "nbconvert_exporter": "python",
   "pygments_lexer": "ipython3",
   "version": "3.11.10"
  }
 },
 "nbformat": 4,
 "nbformat_minor": 5
}

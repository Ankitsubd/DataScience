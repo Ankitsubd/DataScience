{
 "cells": [
  {
   "cell_type": "code",
   "execution_count": 1,
   "id": "e7aed4f7-0419-4687-af8e-629edfb50de0",
   "metadata": {},
   "outputs": [],
   "source": [
    "person = {\n",
    "    \"name\" : \"Ankit Subedi\",\n",
    "    \"Age\" : \"22\",\n",
    "    \"city\" : \"Chitwan\",\n",
    "    \"Gender\" : \"Male\",\n",
    "    \"subject\" : [\"Maths\", \"Programming\", \"Graphic\"]\n",
    "}"
   ]
  },
  {
   "cell_type": "code",
   "execution_count": 2,
   "id": "445cdaf7-bfae-4fb9-823d-769ea77a170b",
   "metadata": {},
   "outputs": [
    {
     "name": "stdout",
     "output_type": "stream",
     "text": [
      "{'name': 'Ankit Subedi', 'Age': '22', 'city': 'Chitwan', 'Gender': 'Male', 'subject': ['Maths', 'Programming', 'Graphic']}\n"
     ]
    }
   ],
   "source": [
    "print(person)"
   ]
  },
  {
   "cell_type": "code",
   "execution_count": 3,
   "id": "2e4cce43-5aa3-46c1-a173-d43cad4ea63f",
   "metadata": {},
   "outputs": [],
   "source": [
    "person[\"Age\"] = \"23\""
   ]
  },
  {
   "cell_type": "code",
   "execution_count": 4,
   "id": "40dbb7ff-fb05-457b-b94d-dea20a030140",
   "metadata": {},
   "outputs": [
    {
     "name": "stdout",
     "output_type": "stream",
     "text": [
      "{'name': 'Ankit Subedi', 'Age': '23', 'city': 'Chitwan', 'Gender': 'Male', 'subject': ['Maths', 'Programming', 'Graphic']}\n"
     ]
    }
   ],
   "source": [
    "print(person)"
   ]
  },
  {
   "cell_type": "code",
   "execution_count": 5,
   "id": "9ec781ad-dd35-4049-bf5c-a893c476fb89",
   "metadata": {},
   "outputs": [
    {
     "name": "stdout",
     "output_type": "stream",
     "text": [
      "Undefined\n"
     ]
    }
   ],
   "source": [
    "print(person.get(\"Country\", \"Undefined\"))"
   ]
  },
  {
   "cell_type": "code",
   "execution_count": 6,
   "id": "8769f14b-cae2-45b8-a26c-1ceda097859e",
   "metadata": {},
   "outputs": [
    {
     "name": "stdout",
     "output_type": "stream",
     "text": [
      "Chitwan\n"
     ]
    }
   ],
   "source": [
    "print(person.get(\"city\", \"Undefined\"))"
   ]
  },
  {
   "cell_type": "code",
   "execution_count": null,
   "id": "9f0c7b9b-18ae-4824-b0e8-3b463168ff6a",
   "metadata": {},
   "outputs": [],
   "source": []
  },
  {
   "cell_type": "code",
   "execution_count": null,
   "id": "2527ca72-9c78-4c80-9cc8-65e5e39f00a7",
   "metadata": {},
   "outputs": [],
   "source": []
  },
  {
   "cell_type": "code",
   "execution_count": 7,
   "id": "e701218c-71ab-401a-84b9-1caf00067dac",
   "metadata": {},
   "outputs": [],
   "source": [
    "#Sorted Method\n"
   ]
  },
  {
   "cell_type": "code",
   "execution_count": 8,
   "id": "456ec805-5384-4675-8599-96e269c78bae",
   "metadata": {},
   "outputs": [
    {
     "data": {
      "text/plain": [
       "('name', 'Ankit Subedi')"
      ]
     },
     "execution_count": 8,
     "metadata": {},
     "output_type": "execute_result"
    }
   ],
   "source": [
    "list(person.items())[0]"
   ]
  },
  {
   "cell_type": "code",
   "execution_count": 9,
   "id": "5b766d51-f2c9-4923-8f00-27b1d3291d48",
   "metadata": {},
   "outputs": [
    {
     "data": {
      "text/plain": [
       "{'Age': '23',\n",
       " 'Gender': 'Male',\n",
       " 'city': 'Chitwan',\n",
       " 'name': 'Ankit Subedi',\n",
       " 'subject': ['Maths', 'Programming', 'Graphic']}"
      ]
     },
     "execution_count": 9,
     "metadata": {},
     "output_type": "execute_result"
    }
   ],
   "source": [
    "dict(\n",
    "    sorted(\n",
    "        person.items(), key = lambda item: item[0], reverse= False) #sort by key\n",
    ")\n",
    "# when sorting first sort (capital word) and then small word"
   ]
  },
  {
   "cell_type": "code",
   "execution_count": 10,
   "id": "07f60b74-de93-4fd6-b072-54755573a023",
   "metadata": {},
   "outputs": [
    {
     "ename": "TypeError",
     "evalue": "'<' not supported between instances of 'list' and 'str'",
     "output_type": "error",
     "traceback": [
      "\u001b[0;31m---------------------------------------------------------------------------\u001b[0m",
      "\u001b[0;31mTypeError\u001b[0m                                 Traceback (most recent call last)",
      "Cell \u001b[0;32mIn[10], line 2\u001b[0m\n\u001b[1;32m      1\u001b[0m \u001b[38;5;28mdict\u001b[39m(\n\u001b[0;32m----> 2\u001b[0m     \u001b[38;5;28;43msorted\u001b[39;49m\u001b[43m(\u001b[49m\n\u001b[1;32m      3\u001b[0m \u001b[43m        \u001b[49m\u001b[43mperson\u001b[49m\u001b[38;5;241;43m.\u001b[39;49m\u001b[43mitems\u001b[49m\u001b[43m(\u001b[49m\u001b[43m)\u001b[49m\u001b[43m,\u001b[49m\u001b[43m \u001b[49m\u001b[43mkey\u001b[49m\u001b[43m \u001b[49m\u001b[38;5;241;43m=\u001b[39;49m\u001b[43m \u001b[49m\u001b[38;5;28;43;01mlambda\u001b[39;49;00m\u001b[43m \u001b[49m\u001b[43mitem\u001b[49m\u001b[43m:\u001b[49m\u001b[43m \u001b[49m\u001b[43mitem\u001b[49m\u001b[43m[\u001b[49m\u001b[38;5;241;43m1\u001b[39;49m\u001b[43m]\u001b[49m\u001b[43m,\u001b[49m\u001b[43m \u001b[49m\u001b[43mreverse\u001b[49m\u001b[38;5;241;43m=\u001b[39;49m\u001b[43m \u001b[49m\u001b[38;5;28;43;01mFalse\u001b[39;49;00m\u001b[43m)\u001b[49m \u001b[38;5;66;03m#sort by value # it will not sort bcoz there is(str, list) \u001b[39;00m\n\u001b[1;32m      4\u001b[0m )\n",
      "\u001b[0;31mTypeError\u001b[0m: '<' not supported between instances of 'list' and 'str'"
     ]
    }
   ],
   "source": [
    "dict(\n",
    "    sorted(\n",
    "        person.items(), key = lambda item: item[1], reverse= False) #sort by value # it will not sort bcoz there is(str, list) \n",
    ")"
   ]
  },
  {
   "cell_type": "code",
   "execution_count": null,
   "id": "f1d5ca09-891f-4d63-9efb-7bd263a7a562",
   "metadata": {},
   "outputs": [],
   "source": []
  },
  {
   "cell_type": "markdown",
   "id": "d2720fb0-67e6-4f7b-b606-ccfd9ffb1341",
   "metadata": {},
   "source": [
    "## Merging Two Dict\n",
    "\n"
   ]
  },
  {
   "cell_type": "code",
   "execution_count": 11,
   "id": "73285c5c-ecc8-48b6-9051-3cad3034c95d",
   "metadata": {},
   "outputs": [],
   "source": [
    "person2 = {\n",
    "    \"name\" : \"Ankit Subedi\",\n",
    "    \"Age\" : \"22\",\n",
    "    \"city\" : \"Chitwan\",\n",
    "    \"Gender\" : \"Male\",}\n",
    "address = {\n",
    "    \"city\" : \"Ratnanagar\",\n",
    "    \"ward\" : 10,\n",
    "}"
   ]
  },
  {
   "cell_type": "code",
   "execution_count": 12,
   "id": "00c81bbc-0bc8-4987-9bf1-521d73db89b3",
   "metadata": {},
   "outputs": [
    {
     "data": {
      "text/plain": [
       "{'name': 'Ankit Subedi',\n",
       " 'Age': '22',\n",
       " 'city': 'Ratnanagar',\n",
       " 'Gender': 'Male',\n",
       " 'ward': 10}"
      ]
     },
     "execution_count": 12,
     "metadata": {},
     "output_type": "execute_result"
    }
   ],
   "source": [
    "person2 | address\n"
   ]
  },
  {
   "cell_type": "code",
   "execution_count": null,
   "id": "f90de739-5ec2-454b-ae45-2bc8ec5e30fd",
   "metadata": {},
   "outputs": [],
   "source": [
    "\n"
   ]
  },
  {
   "cell_type": "code",
   "execution_count": null,
   "id": "6c4eed2e-4501-463d-b7f8-397fcaa844d2",
   "metadata": {},
   "outputs": [],
   "source": []
  },
  {
   "cell_type": "code",
   "execution_count": null,
   "id": "934e2baf-2257-4e33-b1f5-ec0747736b0d",
   "metadata": {},
   "outputs": [],
   "source": []
  },
  {
   "cell_type": "code",
   "execution_count": null,
   "id": "593db2af-0745-4c39-b840-9f9f703f10bb",
   "metadata": {},
   "outputs": [],
   "source": []
  },
  {
   "cell_type": "code",
   "execution_count": null,
   "id": "2990cac2-034b-46cb-b7a7-ebbae2d06aae",
   "metadata": {},
   "outputs": [],
   "source": []
  }
 ],
 "metadata": {
  "kernelspec": {
   "display_name": "Python 3 (ipykernel)",
   "language": "python",
   "name": "python3"
  },
  "language_info": {
   "codemirror_mode": {
    "name": "ipython",
    "version": 3
   },
   "file_extension": ".py",
   "mimetype": "text/x-python",
   "name": "python",
   "nbconvert_exporter": "python",
   "pygments_lexer": "ipython3",
   "version": "3.11.10"
  }
 },
 "nbformat": 4,
 "nbformat_minor": 5
}

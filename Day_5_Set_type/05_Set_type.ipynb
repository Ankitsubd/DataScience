{
 "cells": [
  {
   "cell_type": "markdown",
   "id": "50be92e9-1d0c-451c-b689-c756e79b6be9",
   "metadata": {},
   "source": [
    "## Python Set Type\n",
    "\n",
    "set are created by {}, set()"
   ]
  },
  {
   "cell_type": "code",
   "execution_count": 8,
   "id": "85db62f3-7ed1-4f40-9ef4-5f0ed9b5a5ee",
   "metadata": {},
   "outputs": [],
   "source": [
    "my_set = {2,4,6,8,10, 0.5}\n",
    "my_set2 = set([1,3,5,7,9,0.5])"
   ]
  },
  {
   "cell_type": "code",
   "execution_count": 9,
   "id": "433b20d5-b378-45e5-9f56-87d5af8ed3e2",
   "metadata": {},
   "outputs": [
    {
     "data": {
      "text/plain": [
       "{0.5, 1, 3, 5, 7, 9}"
      ]
     },
     "execution_count": 9,
     "metadata": {},
     "output_type": "execute_result"
    }
   ],
   "source": [
    "my_set\n",
    "my_set2"
   ]
  },
  {
   "cell_type": "code",
   "execution_count": 10,
   "id": "9f25b364-9cfe-4e20-b60b-01a273d391d6",
   "metadata": {},
   "outputs": [
    {
     "data": {
      "text/plain": [
       "{0.5, 2, 4, 6, 8, 10}"
      ]
     },
     "execution_count": 10,
     "metadata": {},
     "output_type": "execute_result"
    }
   ],
   "source": [
    "my_set"
   ]
  },
  {
   "cell_type": "markdown",
   "id": "525b4b6f-ffca-4077-b672-31b96a7160ea",
   "metadata": {},
   "source": [
    "## Set Operation\n"
   ]
  },
  {
   "cell_type": "code",
   "execution_count": 11,
   "id": "ec134cb5-a7b2-404a-9696-26581db9a22d",
   "metadata": {},
   "outputs": [],
   "source": [
    "A = {1,2,3,4,5}\n",
    "B = {5,6,7,8,9}"
   ]
  },
  {
   "cell_type": "code",
   "execution_count": 14,
   "id": "2d1004df-b40f-40f5-aa9f-178ed9cfda03",
   "metadata": {},
   "outputs": [
    {
     "name": "stdout",
     "output_type": "stream",
     "text": [
      "{1, 2, 3, 4, 5, 6, 7, 8, 9}\n"
     ]
    }
   ],
   "source": [
    "unionset = A.union(B)\n",
    "print(unionset)"
   ]
  },
  {
   "cell_type": "code",
   "execution_count": 15,
   "id": "5bf4c5db-79f2-46cd-aaec-1ef7445ec15b",
   "metadata": {},
   "outputs": [
    {
     "name": "stdout",
     "output_type": "stream",
     "text": [
      "{5}\n"
     ]
    }
   ],
   "source": [
    "intersection = A.intersection(B)\n",
    "print(intersection)"
   ]
  },
  {
   "cell_type": "code",
   "execution_count": 16,
   "id": "c81114b3-07db-491f-9965-2ec8ed9af727",
   "metadata": {},
   "outputs": [
    {
     "data": {
      "text/plain": [
       "False"
      ]
     },
     "execution_count": 16,
     "metadata": {},
     "output_type": "execute_result"
    }
   ],
   "source": [
    "A.isdisjoint(B)"
   ]
  },
  {
   "cell_type": "code",
   "execution_count": 17,
   "id": "aa336a4e-9dda-484b-869b-125258458a61",
   "metadata": {},
   "outputs": [
    {
     "name": "stdout",
     "output_type": "stream",
     "text": [
      "{1, 2, 3, 4}\n"
     ]
    }
   ],
   "source": [
    "set3 = A.difference(B)\n",
    "print(set3)"
   ]
  },
  {
   "cell_type": "code",
   "execution_count": 27,
   "id": "25e5d67e-d1c8-4e6a-a712-d9d8b73b3808",
   "metadata": {},
   "outputs": [
    {
     "name": "stdout",
     "output_type": "stream",
     "text": [
      "{1, 2, 3, 4, 6, 7, 8, 9}\n"
     ]
    }
   ],
   "source": [
    "set4 = A.symmetric_difference(B)\n",
    "print(set4)"
   ]
  },
  {
   "cell_type": "code",
   "execution_count": 28,
   "id": "97452ab4-93e3-4ff0-b86a-9cf962b3e093",
   "metadata": {},
   "outputs": [],
   "source": [
    "set4.remove(6)"
   ]
  },
  {
   "cell_type": "code",
   "execution_count": 29,
   "id": "e994de31-875a-4014-a127-fa2ae09aea53",
   "metadata": {},
   "outputs": [
    {
     "name": "stdout",
     "output_type": "stream",
     "text": [
      "{1, 2, 3, 4, 7, 8, 9}\n"
     ]
    }
   ],
   "source": [
    "print(set4)"
   ]
  },
  {
   "cell_type": "code",
   "execution_count": null,
   "id": "aa764a6a-9831-4e05-9918-c12961773e80",
   "metadata": {},
   "outputs": [],
   "source": []
  },
  {
   "cell_type": "code",
   "execution_count": null,
   "id": "0123f568-a927-49ad-8c69-bcad4a0a97e9",
   "metadata": {},
   "outputs": [],
   "source": []
  },
  {
   "cell_type": "code",
   "execution_count": null,
   "id": "dfbbf5c1-20d2-40f7-9d70-98ce5c1e4c86",
   "metadata": {},
   "outputs": [],
   "source": []
  },
  {
   "cell_type": "code",
   "execution_count": null,
   "id": "a6f93bb4-44ac-4f5d-96ee-52f0b267658e",
   "metadata": {},
   "outputs": [],
   "source": []
  },
  {
   "cell_type": "code",
   "execution_count": null,
   "id": "4eb25f34-e855-46c0-b14f-f0b1873d599a",
   "metadata": {},
   "outputs": [],
   "source": []
  }
 ],
 "metadata": {
  "kernelspec": {
   "display_name": "Python 3 (ipykernel)",
   "language": "python",
   "name": "python3"
  },
  "language_info": {
   "codemirror_mode": {
    "name": "ipython",
    "version": 3
   },
   "file_extension": ".py",
   "mimetype": "text/x-python",
   "name": "python",
   "nbconvert_exporter": "python",
   "pygments_lexer": "ipython3",
   "version": "3.11.10"
  }
 },
 "nbformat": 4,
 "nbformat_minor": 5
}

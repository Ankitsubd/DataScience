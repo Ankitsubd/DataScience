{
 "cells": [
  {
   "cell_type": "markdown",
   "id": "9615e59b-6401-4be3-9749-f7edb00b59ed",
   "metadata": {},
   "source": [
    "## Binary Type"
   ]
  },
  {
   "cell_type": "code",
   "execution_count": 1,
   "id": "6f38b572-7160-4791-86fa-df680f5dd978",
   "metadata": {},
   "outputs": [],
   "source": [
    "b = b'\\x00\\x01\\x02\\x03\\x04\\x05'"
   ]
  },
  {
   "cell_type": "code",
   "execution_count": 2,
   "id": "7cc80dca-6cad-4ef1-91e6-322dcf16f588",
   "metadata": {},
   "outputs": [
    {
     "data": {
      "text/plain": [
       "bytes"
      ]
     },
     "execution_count": 2,
     "metadata": {},
     "output_type": "execute_result"
    }
   ],
   "source": [
    "type(b)"
   ]
  },
  {
   "cell_type": "code",
   "execution_count": 4,
   "id": "7b7d3ac8-84b9-46cb-9698-ea0c35cf92ff",
   "metadata": {},
   "outputs": [
    {
     "data": {
      "text/plain": [
       "b'\\x00\\x01\\x02\\x03\\x04\\x05'"
      ]
     },
     "execution_count": 4,
     "metadata": {},
     "output_type": "execute_result"
    }
   ],
   "source": [
    "c = bytes([0,1,2,3,4,5])\n",
    "c"
   ]
  },
  {
   "cell_type": "code",
   "execution_count": null,
   "id": "5586d579-6ac0-41ef-bfcd-8ef1bbef00a0",
   "metadata": {},
   "outputs": [],
   "source": []
  }
 ],
 "metadata": {
  "kernelspec": {
   "display_name": "Python 3 (ipykernel)",
   "language": "python",
   "name": "python3"
  },
  "language_info": {
   "codemirror_mode": {
    "name": "ipython",
    "version": 3
   },
   "file_extension": ".py",
   "mimetype": "text/x-python",
   "name": "python",
   "nbconvert_exporter": "python",
   "pygments_lexer": "ipython3",
   "version": "3.11.10"
  }
 },
 "nbformat": 4,
 "nbformat_minor": 5
}

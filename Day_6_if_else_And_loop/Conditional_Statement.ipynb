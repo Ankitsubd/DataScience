{
 "cells": [
  {
   "cell_type": "markdown",
   "id": "9262b779-5722-4c41-bbf6-70c93768bd3a",
   "metadata": {},
   "source": [
    "## Conditional Statements\n",
    "If, elif, else"
   ]
  },
  {
   "cell_type": "code",
   "execution_count": 3,
   "id": "86650eab-3cc1-4a86-a362-4e4a1472afda",
   "metadata": {},
   "outputs": [
    {
     "name": "stdout",
     "output_type": "stream",
     "text": [
      "x is greater than 0: 50\n",
      "Given Number is positive\n"
     ]
    }
   ],
   "source": [
    "x = 50\n",
    "\n",
    "if x > 0:\n",
    "    print(f\"x is greater than 0: {x}\")\n",
    "    print(\"Given Number is positive\")\n",
    "else:\n",
    "    print(f\"x is greater than 0: {x}\")\n",
    "    print(\"Given Number is negetive\")"
   ]
  },
  {
   "cell_type": "code",
   "execution_count": 5,
   "id": "7c36af7d-6969-48d4-abb9-eb2dd0e49fe8",
   "metadata": {},
   "outputs": [
    {
     "name": "stdout",
     "output_type": "stream",
     "text": [
      "x is greater than 0: -5\n",
      "Given Number is negetive\n"
     ]
    }
   ],
   "source": [
    "x = -5\n",
    "\n",
    "if x > 0:\n",
    "    print(f\"x is greater than 0: {x}\")\n",
    "    print(\"Given Number is positive\")\n",
    "else:\n",
    "    print(f\"x is not greater than 0: {x}\")\n",
    "    print(\"Given Number is negetive\")"
   ]
  },
  {
   "cell_type": "code",
   "execution_count": 9,
   "id": "13817b8d-ebcc-43ef-b248-bb54f6314fc6",
   "metadata": {},
   "outputs": [
    {
     "name": "stdin",
     "output_type": "stream",
     "text": [
      "Give Integer Number:  0\n"
     ]
    },
    {
     "name": "stdout",
     "output_type": "stream",
     "text": [
      "x is not greater than 0: 0\n",
      "Given Number is negetive\n"
     ]
    }
   ],
   "source": [
    "x = int(input(\"Give Integer Number: \"))\n",
    "\n",
    "if x > 0:\n",
    "    print(f\"x is greater than 0: {x}\")\n",
    "    print(\"Given Number is positive\")\n",
    "else:\n",
    "    print(f\"x is not greater than 0: {x}\")\n",
    "    print(\"Given Number is negetive\")"
   ]
  },
  {
   "cell_type": "code",
   "execution_count": null,
   "id": "ec5dea15-47b4-4f29-8e92-68e7816625ce",
   "metadata": {},
   "outputs": [],
   "source": []
  },
  {
   "cell_type": "code",
   "execution_count": 14,
   "id": "d2f159e4-7b8b-4b37-a9d1-cb439e64f3be",
   "metadata": {},
   "outputs": [
    {
     "name": "stdin",
     "output_type": "stream",
     "text": [
      "Guess the number:  7\n"
     ]
    },
    {
     "name": "stdout",
     "output_type": "stream",
     "text": [
      "Correct Answer!!!\n"
     ]
    }
   ],
   "source": [
    "z = 7\n",
    "y = int(input(\"Guess the number: \"))\n",
    "if y < z:\n",
    "    print(\"Guess number is lower\")\n",
    "elif y == z:\n",
    "    print(\"Correct Answer!!!\")\n",
    "else:\n",
    "    print(\"Guess number is higher\")"
   ]
  },
  {
   "cell_type": "code",
   "execution_count": 28,
   "id": "a4b5cb6f-e499-4318-8170-6e5185c85705",
   "metadata": {},
   "outputs": [
    {
     "name": "stdin",
     "output_type": "stream",
     "text": [
      "Number:  111\n"
     ]
    },
    {
     "name": "stdout",
     "output_type": "stream",
     "text": [
      "Input number between 0 - 100\n"
     ]
    }
   ],
   "source": [
    "\n",
    "number = int(input(\"Number: \"))\n",
    "if number <= 100 and number >= 80:\n",
    "    print(\"Grade A\")\n",
    "elif number >= 60 and number < 80:\n",
    "    print(\"Grade B\")\n",
    "elif number < 60 and number >= 40 :\n",
    "    print(\"Grade C\")\n",
    "elif number < 40:\n",
    "    print(\"Grade D\")\n",
    "else:\n",
    "    print(\"Input number between 0 - 100\")\n"
   ]
  },
  {
   "cell_type": "code",
   "execution_count": null,
   "id": "27823d39-beaf-4061-8e5c-2206e6682974",
   "metadata": {},
   "outputs": [],
   "source": []
  },
  {
   "cell_type": "code",
   "execution_count": null,
   "id": "4da0cbcc-c893-4df4-a7e4-1b02fc24817a",
   "metadata": {},
   "outputs": [],
   "source": []
  },
  {
   "cell_type": "code",
   "execution_count": null,
   "id": "f0c75bad-3c64-46b0-84d8-b75054f4b7b6",
   "metadata": {},
   "outputs": [],
   "source": []
  },
  {
   "cell_type": "code",
   "execution_count": null,
   "id": "f039a4ab-c500-44a4-b951-1b06dcdea97e",
   "metadata": {},
   "outputs": [],
   "source": []
  },
  {
   "cell_type": "code",
   "execution_count": null,
   "id": "ddedfd0c-6397-46eb-9b87-6e0066aad62b",
   "metadata": {},
   "outputs": [],
   "source": []
  },
  {
   "cell_type": "code",
   "execution_count": null,
   "id": "493c3e9d-53ed-4475-be63-08d37d1c95c8",
   "metadata": {},
   "outputs": [],
   "source": []
  }
 ],
 "metadata": {
  "kernelspec": {
   "display_name": "Python 3 (ipykernel)",
   "language": "python",
   "name": "python3"
  },
  "language_info": {
   "codemirror_mode": {
    "name": "ipython",
    "version": 3
   },
   "file_extension": ".py",
   "mimetype": "text/x-python",
   "name": "python",
   "nbconvert_exporter": "python",
   "pygments_lexer": "ipython3",
   "version": "3.11.10"
  }
 },
 "nbformat": 4,
 "nbformat_minor": 5
}

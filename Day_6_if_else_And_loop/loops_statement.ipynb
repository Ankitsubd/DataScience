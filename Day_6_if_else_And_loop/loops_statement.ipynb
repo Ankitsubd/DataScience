{
 "cells": [
  {
   "cell_type": "markdown",
   "id": "ff595cd8-db75-4c87-9ddd-a3244d704d6e",
   "metadata": {},
   "source": [
    "# For loops"
   ]
  },
  {
   "cell_type": "code",
   "execution_count": null,
   "id": "685fe378-7932-4c46-8c8c-8245e3d0f90c",
   "metadata": {},
   "outputs": [],
   "source": []
  }
 ],
 "metadata": {
  "kernelspec": {
   "display_name": "Python 3 (ipykernel)",
   "language": "python",
   "name": "python3"
  },
  "language_info": {
   "codemirror_mode": {
    "name": "ipython",
    "version": 3
   },
   "file_extension": ".py",
   "mimetype": "text/x-python",
   "name": "python",
   "nbconvert_exporter": "python",
   "pygments_lexer": "ipython3",
   "version": "3.11.10"
  }
 },
 "nbformat": 4,
 "nbformat_minor": 5
}

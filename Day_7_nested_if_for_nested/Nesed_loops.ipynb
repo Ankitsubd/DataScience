{
 "cells": [
  {
   "cell_type": "code",
   "execution_count": 1,
   "id": "bdd0b868-4cb0-43ad-b239-2589711258d2",
   "metadata": {},
   "outputs": [],
   "source": [
    "adjective = ['red', 'big', 'tasty']\n",
    "fruits = ['apple', 'banana', 'mango']"
   ]
  },
  {
   "cell_type": "code",
   "execution_count": 3,
   "id": "7cfc59e3-ec78-44e3-8ca7-28972fa30177",
   "metadata": {},
   "outputs": [
    {
     "name": "stdout",
     "output_type": "stream",
     "text": [
      "red, apple\n",
      "red, banana\n",
      "red, mango\n",
      "big, apple\n",
      "big, banana\n",
      "big, mango\n",
      "tasty, apple\n",
      "tasty, banana\n",
      "tasty, mango\n"
     ]
    }
   ],
   "source": [
    "for adj in adjective:\n",
    "    for fruit in fruits:\n",
    "        print(f\"{adj}, {fruit}\")"
   ]
  },
  {
   "cell_type": "code",
   "execution_count": null,
   "id": "6b3296e4-a9bc-4d38-bbf7-03617dba27bc",
   "metadata": {},
   "outputs": [],
   "source": []
  },
  {
   "cell_type": "code",
   "execution_count": 6,
   "id": "30559574-19c9-4daf-85a4-698132459d41",
   "metadata": {},
   "outputs": [
    {
     "name": "stdin",
     "output_type": "stream",
     "text": [
      "Number:  8\n"
     ]
    },
    {
     "name": "stdout",
     "output_type": "stream",
     "text": [
      "8 multiplied by 1 is 8\n",
      "8 multiplied by 2 is 16\n",
      "8 multiplied by 3 is 24\n",
      "8 multiplied by 4 is 32\n",
      "8 multiplied by 5 is 40\n",
      "8 multiplied by 6 is 48\n",
      "8 multiplied by 7 is 56\n",
      "8 multiplied by 8 is 64\n",
      "8 multiplied by 9 is 72\n",
      "8 multiplied by 10 is 80\n"
     ]
    }
   ],
   "source": [
    "number = int(input(\"Number: \"))\n",
    "for i in range(1, 11):\n",
    "        print(f\"{number} multiplied by {i} is {number*i}\")"
   ]
  },
  {
   "cell_type": "code",
   "execution_count": null,
   "id": "a3b26a8b-6db1-4d4f-9953-f4fad1f4085f",
   "metadata": {},
   "outputs": [],
   "source": []
  },
  {
   "cell_type": "code",
   "execution_count": null,
   "id": "699749a5-fc19-450f-b9c1-8a9b5da544e0",
   "metadata": {},
   "outputs": [],
   "source": []
  },
  {
   "cell_type": "code",
   "execution_count": null,
   "id": "fe5a42c9-fb80-497d-96d8-239fd37faa50",
   "metadata": {},
   "outputs": [],
   "source": []
  },
  {
   "cell_type": "code",
   "execution_count": null,
   "id": "f430ad3b-98d7-430c-8674-ad38f0e7b720",
   "metadata": {},
   "outputs": [],
   "source": []
  },
  {
   "cell_type": "code",
   "execution_count": null,
   "id": "3b0b588f-9ec1-41e7-89c0-88912d715e00",
   "metadata": {},
   "outputs": [],
   "source": []
  },
  {
   "cell_type": "code",
   "execution_count": null,
   "id": "b3b8b8d1-d2df-4a61-b5e4-b3ec614504be",
   "metadata": {},
   "outputs": [],
   "source": []
  },
  {
   "cell_type": "code",
   "execution_count": null,
   "id": "83372cb6-442e-47d2-a71c-c07f7e3b981a",
   "metadata": {},
   "outputs": [],
   "source": []
  }
 ],
 "metadata": {
  "kernelspec": {
   "display_name": "Python 3 (ipykernel)",
   "language": "python",
   "name": "python3"
  },
  "language_info": {
   "codemirror_mode": {
    "name": "ipython",
    "version": 3
   },
   "file_extension": ".py",
   "mimetype": "text/x-python",
   "name": "python",
   "nbconvert_exporter": "python",
   "pygments_lexer": "ipython3",
   "version": "3.11.10"
  }
 },
 "nbformat": 4,
 "nbformat_minor": 5
}

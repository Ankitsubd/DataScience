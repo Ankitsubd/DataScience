{
 "cells": [
  {
   "cell_type": "code",
   "execution_count": 2,
   "id": "33146b08-ae3b-4d7a-a46a-c8174492b16c",
   "metadata": {},
   "outputs": [
    {
     "name": "stdout",
     "output_type": "stream",
     "text": [
      "Given Number 200 is positive\n",
      "Given number 200 is high higher positive\n"
     ]
    }
   ],
   "source": [
    "x = 200\n",
    "if x > 0:\n",
    "    print(f\"Given Number {x} is positive\")\n",
    "    if x > 100:\n",
    "        print(f\"Given number {x} is high higher positive\")\n",
    "    else:\n",
    "        print(f\"Given number {x} is high lower positive\")\n",
    "elif x == 0:\n",
    "    print(f\" Given Number {x} is zero\")\n",
    "else:\n",
    "    print(f\"Given Number {x} is negative\")"
   ]
  },
  {
   "cell_type": "code",
   "execution_count": 2,
   "id": "a6c425cf-29ec-4dbc-bcd9-91319cadd076",
   "metadata": {},
   "outputs": [
    {
     "ename": "SyntaxError",
     "evalue": "leading zeros in decimal integer literals are not permitted; use an 0o prefix for octal integers (3714006456.py, line 1)",
     "output_type": "error",
     "traceback": [
      "\u001b[0;36m  Cell \u001b[0;32mIn[2], line 1\u001b[0;36m\u001b[0m\n\u001b[0;31m    x= 0123\u001b[0m\n\u001b[0m       ^\u001b[0m\n\u001b[0;31mSyntaxError\u001b[0m\u001b[0;31m:\u001b[0m leading zeros in decimal integer literals are not permitted; use an 0o prefix for octal integers\n"
     ]
    }
   ],
   "source": [
    " x= 0123\n"
   ]
  },
  {
   "cell_type": "code",
   "execution_count": 3,
   "id": "e6540fbe-be74-47ff-825d-bbee55870774",
   "metadata": {},
   "outputs": [],
   "source": [
    "x = 01.24"
   ]
  },
  {
   "cell_type": "code",
   "execution_count": null,
   "id": "068be0dc-885f-405a-974b-37f922bf28ba",
   "metadata": {},
   "outputs": [],
   "source": []
  }
 ],
 "metadata": {
  "kernelspec": {
   "display_name": "Python 3 (ipykernel)",
   "language": "python",
   "name": "python3"
  },
  "language_info": {
   "codemirror_mode": {
    "name": "ipython",
    "version": 3
   },
   "file_extension": ".py",
   "mimetype": "text/x-python",
   "name": "python",
   "nbconvert_exporter": "python",
   "pygments_lexer": "ipython3",
   "version": "3.11.10"
  }
 },
 "nbformat": 4,
 "nbformat_minor": 5
}

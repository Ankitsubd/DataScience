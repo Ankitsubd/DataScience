{
 "cells": [
  {
   "cell_type": "markdown",
   "id": "b633fc45-57d5-47bc-a331-ac4f4ef2b5a1",
   "metadata": {},
   "source": [
    "# Python Comprehensions"
   ]
  },
  {
   "cell_type": "code",
   "execution_count": 2,
   "id": "84f4a6b8-49d4-4152-91e8-1b8fb9d997fb",
   "metadata": {},
   "outputs": [],
   "source": [
    "#Syntax\n",
    "#'''output = [ < expression> for items in iterables if  <condition> '''"
   ]
  },
  {
   "cell_type": "code",
   "execution_count": null,
   "id": "ea148e60-76e9-4497-be2c-ff2596e85e16",
   "metadata": {},
   "outputs": [],
   "source": [
    "\n"
   ]
  },
  {
   "cell_type": "code",
   "execution_count": 3,
   "id": "970bec5b-d392-4db8-bc62-bfa0cf6fb911",
   "metadata": {},
   "outputs": [
    {
     "name": "stdout",
     "output_type": "stream",
     "text": [
      "[9, 16, 25]\n"
     ]
    }
   ],
   "source": [
    "numbers = [3, 4, 5]\n",
    "\n",
    "squared = []\n",
    "for each in numbers:\n",
    "    squared.append(each ** 2)\n",
    "\n",
    "print(squared)"
   ]
  },
  {
   "cell_type": "code",
   "execution_count": 8,
   "id": "80239e21-7bd2-4ed7-970d-7da88db6da6b",
   "metadata": {},
   "outputs": [
    {
     "name": "stdout",
     "output_type": "stream",
     "text": [
      "[9, 16, 25]\n"
     ]
    }
   ],
   "source": [
    "# Using Comprehensions\n",
    "ans = [each ** 2 for each in numbers]\n",
    "print(ans)"
   ]
  },
  {
   "cell_type": "code",
   "execution_count": 15,
   "id": "301b0ed7-09c9-473d-bed0-107707b0f16f",
   "metadata": {},
   "outputs": [
    {
     "name": "stdout",
     "output_type": "stream",
     "text": [
      "[2, 4, 6, 8, 10, 12, 14, 16, 18, 20, 22, 24, 26, 28, 30, 32, 34, 36, 38, 40, 42, 44, 46, 48]\n"
     ]
    }
   ],
   "source": [
    "# Using For and If comprehensions\n",
    "num = range(1,50)\n",
    "even = [ans  for ans in num if ans % 2 == 0]\n",
    "print(even)"
   ]
  },
  {
   "cell_type": "markdown",
   "id": "f3d0fe5f-22c4-4750-825c-00695358899b",
   "metadata": {},
   "source": [
    "# Class test"
   ]
  },
  {
   "cell_type": "code",
   "execution_count": 14,
   "id": "ec62e7ca-e822-4d91-9443-8a4e42ce21c0",
   "metadata": {},
   "outputs": [
    {
     "name": "stdout",
     "output_type": "stream",
     "text": [
      "[4, 16, 36, 64, 100, 144, 196, 256, 324, 400, 484, 576, 676, 784, 900, 1024, 1156, 1296, 1444, 1600, 1764, 1936, 2116, 2304]\n"
     ]
    }
   ],
   "source": [
    "# For square of even number \n",
    "num = range(1,50)\n",
    "even = [ans ** 2 for ans in num if ans % 2 == 0]\n",
    "print(even)"
   ]
  },
  {
   "cell_type": "markdown",
   "id": "620712bc-0ae6-4401-9479-72bbd4fc2c66",
   "metadata": {},
   "source": []
  },
  {
   "cell_type": "code",
   "execution_count": 18,
   "id": "00d1f8a6-b264-4e8b-8ac6-515348fb813b",
   "metadata": {},
   "outputs": [
    {
     "name": "stdout",
     "output_type": "stream",
     "text": [
      "[('red', 'apple'), ('red', 'banana'), ('red', 'mango'), ('big', 'apple'), ('big', 'banana'), ('big', 'mango'), ('tasty', 'apple'), ('tasty', 'banana'), ('tasty', 'mango')]\n"
     ]
    }
   ],
   "source": [
    "adjective = ['red', 'big', 'tasty']\n",
    "fruits = ['apple', 'banana', 'mango']\n",
    "\n",
    "pair = [(adj, fruit) for adj in adjective for fruit in fruits]\n",
    "print(pair)"
   ]
  },
  {
   "cell_type": "markdown",
   "id": "1c0e133d-ec1e-487c-8ed5-5447117fb436",
   "metadata": {},
   "source": [
    "# Class test"
   ]
  },
  {
   "cell_type": "code",
   "execution_count": 33,
   "id": "72d5fee8-ac4a-47ff-a59e-9d2dd63d9581",
   "metadata": {},
   "outputs": [
    {
     "name": "stdout",
     "output_type": "stream",
     "text": [
      "A single training set that has already been processed is usually split into several types of datasets in machine learning which is needed to check how well the training of the model went\n"
     ]
    }
   ],
   "source": [
    "words = \"A single training set that has already been processed is usually split into several types of datasets in machine learning which is needed to check how well the training of the model went\"\n",
    "print(words)"
   ]
  },
  {
   "cell_type": "code",
   "execution_count": 36,
   "id": "fc094bed-0d67-4cd6-af64-4283afe92136",
   "metadata": {},
   "outputs": [
    {
     "name": "stdout",
     "output_type": "stream",
     "text": [
      "[1, 6, 8, 3, 4, 3, 7, 4, 9, 2, 7, 5, 4, 7, 5, 2, 8, 2, 7, 8, 5, 2, 6, 2, 5, 3, 4, 3, 8, 2, 3, 5, 4]\n"
     ]
    }
   ],
   "source": [
    "word_length = [ len(each) for each in words.split(\" \")]\n",
    "print(word_length)"
   ]
  },
  {
   "cell_type": "code",
   "execution_count": null,
   "id": "cfb281f4-403d-4652-aca6-516cfd0690db",
   "metadata": {},
   "outputs": [],
   "source": []
  },
  {
   "cell_type": "code",
   "execution_count": null,
   "id": "f38b550a-d66d-49ff-8b8e-b540bc64205d",
   "metadata": {},
   "outputs": [],
   "source": []
  },
  {
   "cell_type": "code",
   "execution_count": null,
   "id": "e15c0246-a5a6-44d7-a310-07a4d51830fa",
   "metadata": {},
   "outputs": [],
   "source": []
  },
  {
   "cell_type": "code",
   "execution_count": null,
   "id": "dfb3de20-485d-4e5a-a089-05547f6159c9",
   "metadata": {},
   "outputs": [],
   "source": []
  }
 ],
 "metadata": {
  "kernelspec": {
   "display_name": "Python 3 (ipykernel)",
   "language": "python",
   "name": "python3"
  },
  "language_info": {
   "codemirror_mode": {
    "name": "ipython",
    "version": 3
   },
   "file_extension": ".py",
   "mimetype": "text/x-python",
   "name": "python",
   "nbconvert_exporter": "python",
   "pygments_lexer": "ipython3",
   "version": "3.11.10"
  }
 },
 "nbformat": 4,
 "nbformat_minor": 5
}

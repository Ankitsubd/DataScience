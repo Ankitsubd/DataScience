{
 "cells": [
  {
   "cell_type": "markdown",
   "id": "e208261b-1f79-48db-a0f2-e33fb7786efe",
   "metadata": {},
   "source": [
    "# While Loops\n"
   ]
  },
  {
   "cell_type": "code",
   "execution_count": 1,
   "id": "eeff703f-297b-427f-8796-e55ff7698900",
   "metadata": {},
   "outputs": [
    {
     "name": "stdout",
     "output_type": "stream",
     "text": [
      "0\n",
      "1\n",
      "2\n",
      "3\n",
      "4\n"
     ]
    }
   ],
   "source": [
    "i = 0\n",
    "while i < 5:\n",
    "    print(i)\n",
    "    i += 1"
   ]
  },
  {
   "cell_type": "markdown",
   "id": "71638377-8f78-4eb7-8b12-a46963d3f84a",
   "metadata": {},
   "source": [
    "### Break & Continue"
   ]
  },
  {
   "cell_type": "code",
   "execution_count": null,
   "id": "1be2f13e-3ee0-4adb-b26c-a89e39f22055",
   "metadata": {},
   "outputs": [],
   "source": [
    "i = 0\n",
    "while i < 10:\n",
    "    print(i)\n",
    "    if i == 5:\n",
    "        i += 1  # Increment before continuing\n",
    "        continue\n",
    "    elif i == 8:\n",
    "        break\n",
    "    i += 1"
   ]
  },
  {
   "cell_type": "markdown",
   "id": "78c1303e-02ba-4291-9b3c-2c27849126f2",
   "metadata": {},
   "source": [
    "## Class Test"
   ]
  },
  {
   "cell_type": "code",
   "execution_count": 7,
   "id": "56bfb932-a021-462e-a942-1509440ede4e",
   "metadata": {},
   "outputs": [
    {
     "name": "stdin",
     "output_type": "stream",
     "text": [
      "Give Number:  5\n"
     ]
    },
    {
     "name": "stdout",
     "output_type": "stream",
     "text": [
      "15\n"
     ]
    }
   ],
   "source": [
    "\n",
    "\n",
    "number = int(input(\"Give Number: \"))\n",
    "i = 1\n",
    "sum = 0\n",
    "while i <= number:    \n",
    "    sum += i    \n",
    "    i += 1\n",
    "    \n",
    "print(sum)"
   ]
  },
  {
   "cell_type": "code",
   "execution_count": null,
   "id": "64bbc461-4a85-40ae-a11a-ea2b003cef99",
   "metadata": {},
   "outputs": [],
   "source": []
  },
  {
   "cell_type": "code",
   "execution_count": null,
   "id": "461a84a8-18bf-496d-803a-792554badc55",
   "metadata": {},
   "outputs": [],
   "source": []
  },
  {
   "cell_type": "code",
   "execution_count": null,
   "id": "38b05ab9-80be-4378-a37f-fb7fe3250458",
   "metadata": {},
   "outputs": [],
   "source": []
  },
  {
   "cell_type": "code",
   "execution_count": null,
   "id": "f4858cd1-53ca-458b-b83b-003e7fb5647e",
   "metadata": {},
   "outputs": [],
   "source": []
  }
 ],
 "metadata": {
  "kernelspec": {
   "display_name": "Python 3 (ipykernel)",
   "language": "python",
   "name": "python3"
  },
  "language_info": {
   "codemirror_mode": {
    "name": "ipython",
    "version": 3
   },
   "file_extension": ".py",
   "mimetype": "text/x-python",
   "name": "python",
   "nbconvert_exporter": "python",
   "pygments_lexer": "ipython3",
   "version": "3.11.10"
  }
 },
 "nbformat": 4,
 "nbformat_minor": 5
}

{
 "cells": [
  {
   "cell_type": "markdown",
   "id": "d7c859ab-dbef-46ae-ba06-fa8c02daf6fe",
   "metadata": {},
   "source": [
    "## 2. Dictionary Comprehension\n",
    "\n",
    "```python```\n",
    "\n",
    "\n",
    "```new_dect = {key_ecpression: value_expression for item in iterable if condition}```"
   ]
  },
  {
   "cell_type": "code",
   "execution_count": 2,
   "id": "01528210-e8e5-495a-a95f-0ffe2f3b9d33",
   "metadata": {},
   "outputs": [
    {
     "name": "stdout",
     "output_type": "stream",
     "text": [
      "{1: 1, 3: 9, 5: 25, 7: 49, 9: 81, 11: 121, 13: 169, 15: 225, 17: 289, 19: 361}\n"
     ]
    }
   ],
   "source": [
    "#Usual key\n",
    "odd_dict = {}\n",
    "for  num in range(1,20,2):\n",
    "    odd_dict[num] = num ** 2\n",
    "\n",
    "print(odd_dict)"
   ]
  },
  {
   "cell_type": "code",
   "execution_count": 4,
   "id": "da1df858-d849-41aa-a7b4-b6ead4f92f24",
   "metadata": {},
   "outputs": [
    {
     "name": "stdout",
     "output_type": "stream",
     "text": [
      "{2: 4, 4: 16, 6: 36, 8: 64, 10: 100, 12: 144, 14: 196, 16: 256, 18: 324}\n"
     ]
    }
   ],
   "source": [
    "# Dict Comprehensions\n",
    "even_dict = { num : num ** 2 for num in range(2,20,2)}\n",
    "print(even_dict)"
   ]
  },
  {
   "cell_type": "code",
   "execution_count": 6,
   "id": "219b7329-fd66-42f0-99d8-e8b054749ed2",
   "metadata": {},
   "outputs": [
    {
     "name": "stdout",
     "output_type": "stream",
     "text": [
      "{1: 1, 3: 9, 5: 25, 7: 49, 9: 81, 11: 121, 13: 169, 15: 225, 17: 289, 19: 361}\n"
     ]
    }
   ],
   "source": [
    "odd_dict = { num : num ** 2 for num in range(1,20) if num % 2 == 1}\n",
    "print(odd_dict)"
   ]
  },
  {
   "cell_type": "code",
   "execution_count": null,
   "id": "174aa697-ca85-4a53-8522-9c2adc023b0f",
   "metadata": {},
   "outputs": [],
   "source": []
  },
  {
   "cell_type": "code",
   "execution_count": 9,
   "id": "c7460205-8c26-4b02-a0f6-c6f0fdc80e4e",
   "metadata": {},
   "outputs": [
    {
     "name": "stdout",
     "output_type": "stream",
     "text": [
      "{'A': 1, 'single': 6, 'training': 8, 'set': 3, 'that': 4, 'has': 3, 'already': 7, 'been': 4, 'processed': 9, 'is': 2, 'usually': 7, 'split': 5, 'into': 4, 'several': 7, 'types': 5, 'of': 2, 'datasets': 8, 'in': 2, 'machine': 7, 'learning': 8, 'which': 5, 'needed': 6, 'to': 2, 'check': 5, 'how': 3, 'well': 4, 'the': 3, 'model': 5, 'went': 4}\n"
     ]
    }
   ],
   "source": [
    "# A single training set that has already been processed is usually split into several types of datasets in machine learning which is needed to check how well the training of the model went\n",
    "words = \"A single training set that has already been processed is usually split into several types of datasets in machine learning which is needed to check how well the training of the model went\"\n",
    "word_list = words.split(\" \")\n",
    "length_word = { word : len(word) for word in word_list}\n",
    "print(length_word)"
   ]
  },
  {
   "cell_type": "markdown",
   "id": "9feecbea-0838-4b9d-a9ff-ad60ca564d45",
   "metadata": {},
   "source": [
    "Both are same"
   ]
  },
  {
   "cell_type": "markdown",
   "id": "20814c5e-e0d5-4065-95ad-40df8c30f1de",
   "metadata": {},
   "source": [
    "words = \"A single training set that has already been processed is usually split into several types of datasets in machine learning which is needed to check how well the training of the model went\"\n",
    "word_list = words.split(\" \")\n",
    "length_word = { word : len(word) for word in words.split(\" \")}\n",
    "print(length_word)"
   ]
  },
  {
   "cell_type": "code",
   "execution_count": null,
   "id": "4bf431d8-7de7-461a-9f6a-77d6ae72f42b",
   "metadata": {},
   "outputs": [],
   "source": []
  },
  {
   "cell_type": "code",
   "execution_count": 15,
   "id": "22243337-7cdb-4244-af2b-f907dec94695",
   "metadata": {},
   "outputs": [
    {
     "name": "stdout",
     "output_type": "stream",
     "text": [
      "{'single': 6, 'training': 8, 'already': 7, 'processed': 9, 'usually': 7, 'split': 5, 'several': 7, 'types': 5, 'datasets': 8, 'machine': 7, 'learning': 8, 'which': 5, 'needed': 6, 'check': 5, 'model': 5}\n"
     ]
    }
   ],
   "source": [
    "words = \"A single training set that has already been processed is usually split into several types of datasets in machine learning which is needed to check how well the training of the model went\"\n",
    "word_list = words.split(\" \")\n",
    "length_word = { word : len(word) for word in words.split(\" \") if len(word) >= 5}\n",
    "print(length_word)"
   ]
  },
  {
   "cell_type": "markdown",
   "id": "8f3e6baa-2253-4d9e-b4af-70520addfb49",
   "metadata": {},
   "source": [
    "## Set Comprehension\n",
    "\n",
    "``` new_set = {expression for item in iterable if conditions }```"
   ]
  },
  {
   "cell_type": "code",
   "execution_count": 22,
   "id": "1293ca0d-eae0-4258-9053-647ed09b3786",
   "metadata": {},
   "outputs": [
    {
     "name": "stdout",
     "output_type": "stream",
     "text": [
      "{64, 256, 100, 4, 36, 196, 324, 16, 144}\n"
     ]
    }
   ],
   "source": [
    "squared_even = {num ** 2 for num in range (1, 20) if num % 2 == 0}\n",
    "print(squared_even)"
   ]
  },
  {
   "cell_type": "code",
   "execution_count": 24,
   "id": "3d24d56f-c927-4299-a152-fa77ba45eea8",
   "metadata": {},
   "outputs": [
    {
     "name": "stdout",
     "output_type": "stream",
     "text": [
      "{'ab', 'cc', 'cb', 'ac', 'bb', 'aa', 'ba', 'bc', 'ca'}\n"
     ]
    }
   ],
   "source": [
    "letters = ['a', 'b', 'c']\n",
    "pairs = {let1 + let2 for let1 in letters for let2 in letters}\n",
    "print(pairs)"
   ]
  },
  {
   "cell_type": "code",
   "execution_count": null,
   "id": "812412ec-7825-4f8b-b346-f46e7d1ccf91",
   "metadata": {},
   "outputs": [],
   "source": []
  },
  {
   "cell_type": "code",
   "execution_count": 64,
   "id": "c62c12e4-f79a-4784-90ae-6c3a791f7d6a",
   "metadata": {},
   "outputs": [
    {
     "name": "stdout",
     "output_type": "stream",
     "text": [
      "{'e', 'a', 'i', 'o'}\n"
     ]
    }
   ],
   "source": [
    "words = \"Set comprehensions can be nested\"\n",
    "vowels = \"aeiou\"\n",
    "vowel = {word for word in words.lower() if word in list(vowels)}\n",
    "\n",
    "print(vowel)"
   ]
  },
  {
   "cell_type": "code",
   "execution_count": null,
   "id": "f8f527ea-c0a5-44c3-867e-24b99ece9e1c",
   "metadata": {},
   "outputs": [],
   "source": []
  },
  {
   "cell_type": "code",
   "execution_count": 66,
   "id": "8f9b5260-a2bf-4190-b481-a08617bb5b48",
   "metadata": {},
   "outputs": [
    {
     "data": {
      "text/plain": [
       "{100: 20000, 400: 120000}"
      ]
     },
     "execution_count": 66,
     "metadata": {},
     "output_type": "execute_result"
    }
   ],
   "source": [
    "{w: w*h for w,h in [(100,200),(400,300)]}"
   ]
  },
  {
   "cell_type": "code",
   "execution_count": null,
   "id": "eaf167bf-fb34-4fc6-8a72-172d504dca17",
   "metadata": {},
   "outputs": [],
   "source": []
  },
  {
   "cell_type": "code",
   "execution_count": null,
   "id": "95af3698-ceed-4bad-8784-fd87538aeb5d",
   "metadata": {},
   "outputs": [],
   "source": []
  },
  {
   "cell_type": "code",
   "execution_count": null,
   "id": "c5bef932-f7c0-448d-a977-72fe69756f5d",
   "metadata": {},
   "outputs": [],
   "source": []
  },
  {
   "cell_type": "code",
   "execution_count": null,
   "id": "93f7b296-bcb5-4c27-8453-0ae906c117ef",
   "metadata": {},
   "outputs": [],
   "source": []
  },
  {
   "cell_type": "code",
   "execution_count": null,
   "id": "11072b6e-fd30-4aa4-973d-44c32bbfbfdc",
   "metadata": {},
   "outputs": [],
   "source": []
  }
 ],
 "metadata": {
  "kernelspec": {
   "display_name": "Python 3 (ipykernel)",
   "language": "python",
   "name": "python3"
  },
  "language_info": {
   "codemirror_mode": {
    "name": "ipython",
    "version": 3
   },
   "file_extension": ".py",
   "mimetype": "text/x-python",
   "name": "python",
   "nbconvert_exporter": "python",
   "pygments_lexer": "ipython3",
   "version": "3.11.10"
  }
 },
 "nbformat": 4,
 "nbformat_minor": 5
}
